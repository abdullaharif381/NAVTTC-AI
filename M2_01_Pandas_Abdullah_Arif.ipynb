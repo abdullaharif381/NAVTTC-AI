{
 "cells": [
  {
   "cell_type": "code",
   "execution_count": 1,
   "id": "83900540",
   "metadata": {},
   "outputs": [],
   "source": [
    "import numpy as np\n",
    "import pandas as pd\n"
   ]
  },
  {
   "cell_type": "markdown",
   "id": "9383e0ad",
   "metadata": {},
   "source": [
    "### 1"
   ]
  },
  {
   "cell_type": "code",
   "execution_count": 11,
   "id": "3dc8c257",
   "metadata": {},
   "outputs": [
    {
     "data": {
      "text/plain": [
       "array([497, 992, 784, 568])"
      ]
     },
     "execution_count": 11,
     "metadata": {},
     "output_type": "execute_result"
    }
   ],
   "source": [
    "nums = np.random.randint(1, 1000, size=4)\n",
    "even = nums[nums%2==0]\n",
    "odd = nums[nums%2!=0]\n",
    "nums"
   ]
  },
  {
   "cell_type": "code",
   "execution_count": 3,
   "id": "0796cefd",
   "metadata": {},
   "outputs": [
    {
     "data": {
      "text/html": [
       "<div>\n",
       "<style scoped>\n",
       "    .dataframe tbody tr th:only-of-type {\n",
       "        vertical-align: middle;\n",
       "    }\n",
       "\n",
       "    .dataframe tbody tr th {\n",
       "        vertical-align: top;\n",
       "    }\n",
       "\n",
       "    .dataframe thead th {\n",
       "        text-align: right;\n",
       "    }\n",
       "</style>\n",
       "<table border=\"1\" class=\"dataframe\">\n",
       "  <thead>\n",
       "    <tr style=\"text-align: right;\">\n",
       "      <th></th>\n",
       "      <th>0</th>\n",
       "    </tr>\n",
       "  </thead>\n",
       "  <tbody>\n",
       "    <tr>\n",
       "      <th>0</th>\n",
       "      <td>328</td>\n",
       "    </tr>\n",
       "    <tr>\n",
       "      <th>1</th>\n",
       "      <td>996</td>\n",
       "    </tr>\n",
       "    <tr>\n",
       "      <th>2</th>\n",
       "      <td>138</td>\n",
       "    </tr>\n",
       "    <tr>\n",
       "      <th>3</th>\n",
       "      <td>240</td>\n",
       "    </tr>\n",
       "    <tr>\n",
       "      <th>4</th>\n",
       "      <td>458</td>\n",
       "    </tr>\n",
       "    <tr>\n",
       "      <th>5</th>\n",
       "      <td>764</td>\n",
       "    </tr>\n",
       "  </tbody>\n",
       "</table>\n",
       "</div>"
      ],
      "text/plain": [
       "     0\n",
       "0  328\n",
       "1  996\n",
       "2  138\n",
       "3  240\n",
       "4  458\n",
       "5  764"
      ]
     },
     "execution_count": 3,
     "metadata": {},
     "output_type": "execute_result"
    }
   ],
   "source": [
    "even_data=pd.DataFrame(even)\n",
    "even_data.head(6)"
   ]
  },
  {
   "cell_type": "code",
   "execution_count": 4,
   "id": "83be2aeb",
   "metadata": {},
   "outputs": [
    {
     "data": {
      "text/html": [
       "<div>\n",
       "<style scoped>\n",
       "    .dataframe tbody tr th:only-of-type {\n",
       "        vertical-align: middle;\n",
       "    }\n",
       "\n",
       "    .dataframe tbody tr th {\n",
       "        vertical-align: top;\n",
       "    }\n",
       "\n",
       "    .dataframe thead th {\n",
       "        text-align: right;\n",
       "    }\n",
       "</style>\n",
       "<table border=\"1\" class=\"dataframe\">\n",
       "  <thead>\n",
       "    <tr style=\"text-align: right;\">\n",
       "      <th></th>\n",
       "      <th>0</th>\n",
       "    </tr>\n",
       "  </thead>\n",
       "  <tbody>\n",
       "    <tr>\n",
       "      <th>25</th>\n",
       "      <td>175</td>\n",
       "    </tr>\n",
       "    <tr>\n",
       "      <th>26</th>\n",
       "      <td>551</td>\n",
       "    </tr>\n",
       "    <tr>\n",
       "      <th>27</th>\n",
       "      <td>969</td>\n",
       "    </tr>\n",
       "    <tr>\n",
       "      <th>28</th>\n",
       "      <td>853</td>\n",
       "    </tr>\n",
       "    <tr>\n",
       "      <th>29</th>\n",
       "      <td>871</td>\n",
       "    </tr>\n",
       "    <tr>\n",
       "      <th>30</th>\n",
       "      <td>363</td>\n",
       "    </tr>\n",
       "  </tbody>\n",
       "</table>\n",
       "</div>"
      ],
      "text/plain": [
       "      0\n",
       "25  175\n",
       "26  551\n",
       "27  969\n",
       "28  853\n",
       "29  871\n",
       "30  363"
      ]
     },
     "execution_count": 4,
     "metadata": {},
     "output_type": "execute_result"
    }
   ],
   "source": [
    "odd_data=pd.DataFrame(odd)\n",
    "odd_data.tail(6)"
   ]
  },
  {
   "cell_type": "markdown",
   "id": "bb5a6d28",
   "metadata": {},
   "source": [
    "### 2"
   ]
  },
  {
   "cell_type": "code",
   "execution_count": 5,
   "id": "71a09a23",
   "metadata": {},
   "outputs": [
    {
     "data": {
      "text/plain": [
       "92    276\n",
       "95    382\n",
       "96    338\n",
       "97    226\n",
       "99    104\n",
       "dtype: int32"
      ]
     },
     "execution_count": 5,
     "metadata": {},
     "output_type": "execute_result"
    }
   ],
   "source": [
    "randoms = pd.Series(np.random.randint(1, 500, size=100))\n",
    "(randoms[randoms % 2 == 0]).tail(5)"
   ]
  },
  {
   "cell_type": "markdown",
   "id": "10521d31",
   "metadata": {},
   "source": [
    "### 4\n"
   ]
  },
  {
   "cell_type": "code",
   "execution_count": 6,
   "id": "08187126",
   "metadata": {},
   "outputs": [
    {
     "data": {
      "text/html": [
       "<div>\n",
       "<style scoped>\n",
       "    .dataframe tbody tr th:only-of-type {\n",
       "        vertical-align: middle;\n",
       "    }\n",
       "\n",
       "    .dataframe tbody tr th {\n",
       "        vertical-align: top;\n",
       "    }\n",
       "\n",
       "    .dataframe thead th {\n",
       "        text-align: right;\n",
       "    }\n",
       "</style>\n",
       "<table border=\"1\" class=\"dataframe\">\n",
       "  <thead>\n",
       "    <tr style=\"text-align: right;\">\n",
       "      <th></th>\n",
       "      <th>Name</th>\n",
       "      <th>Age</th>\n",
       "      <th>Height</th>\n",
       "      <th>Weight</th>\n",
       "      <th>Gender</th>\n",
       "    </tr>\n",
       "  </thead>\n",
       "  <tbody>\n",
       "    <tr>\n",
       "      <th>A</th>\n",
       "      <td>Ali</td>\n",
       "      <td>20</td>\n",
       "      <td>160</td>\n",
       "      <td>54</td>\n",
       "      <td>Male</td>\n",
       "    </tr>\n",
       "    <tr>\n",
       "      <th>B</th>\n",
       "      <td>Rom</td>\n",
       "      <td>20</td>\n",
       "      <td>154</td>\n",
       "      <td>73</td>\n",
       "      <td>Female</td>\n",
       "    </tr>\n",
       "    <tr>\n",
       "      <th>C</th>\n",
       "      <td>Dip</td>\n",
       "      <td>19</td>\n",
       "      <td>166</td>\n",
       "      <td>67</td>\n",
       "      <td>Male</td>\n",
       "    </tr>\n",
       "    <tr>\n",
       "      <th>D</th>\n",
       "      <td>Sim</td>\n",
       "      <td>19</td>\n",
       "      <td>176</td>\n",
       "      <td>56</td>\n",
       "      <td>Female</td>\n",
       "    </tr>\n",
       "    <tr>\n",
       "      <th>E</th>\n",
       "      <td>Rik</td>\n",
       "      <td>18</td>\n",
       "      <td>173</td>\n",
       "      <td>57</td>\n",
       "      <td>Male</td>\n",
       "    </tr>\n",
       "  </tbody>\n",
       "</table>\n",
       "</div>"
      ],
      "text/plain": [
       "  Name  Age  Height  Weight  Gender\n",
       "A  Ali   20     160      54    Male\n",
       "B  Rom   20     154      73  Female\n",
       "C  Dip   19     166      67    Male\n",
       "D  Sim   19     176      56  Female\n",
       "E  Rik   18     173      57    Male"
      ]
     },
     "execution_count": 6,
     "metadata": {},
     "output_type": "execute_result"
    }
   ],
   "source": [
    "names = ['Ali', 'Rom', 'Dip', 'Sim', 'Rik']\n",
    "ages = np.random.randint(18, 22, size=5)\n",
    "heights = np.random.randint(150, 180, size=5)\n",
    "weights = np.random.randint(40, 90, size=5)\n",
    "genders = ['Male', 'Female', 'Male', 'Female', 'Male']\n",
    "\n",
    "data = {'Name': names,\n",
    "        'Age': ages,\n",
    "        'Height': heights,\n",
    "        'Weight': weights,\n",
    "        'Gender': genders}\n",
    "\n",
    "students = pd.DataFrame(data,index=['A', 'B', 'C', 'D','E'])\n",
    "students\n"
   ]
  },
  {
   "cell_type": "markdown",
   "id": "d04b7369",
   "metadata": {},
   "source": [
    "### 5"
   ]
  },
  {
   "cell_type": "code",
   "execution_count": 7,
   "id": "83a98f7e",
   "metadata": {},
   "outputs": [
    {
     "data": {
      "text/html": [
       "<div>\n",
       "<style scoped>\n",
       "    .dataframe tbody tr th:only-of-type {\n",
       "        vertical-align: middle;\n",
       "    }\n",
       "\n",
       "    .dataframe tbody tr th {\n",
       "        vertical-align: top;\n",
       "    }\n",
       "\n",
       "    .dataframe thead th {\n",
       "        text-align: right;\n",
       "    }\n",
       "</style>\n",
       "<table border=\"1\" class=\"dataframe\">\n",
       "  <thead>\n",
       "    <tr style=\"text-align: right;\">\n",
       "      <th></th>\n",
       "      <th>Name</th>\n",
       "      <th>Mathematics</th>\n",
       "      <th>Physics</th>\n",
       "      <th>Chemistry</th>\n",
       "      <th>Biology</th>\n",
       "      <th>Computer Science</th>\n",
       "      <th>Total Marks</th>\n",
       "      <th>Grade</th>\n",
       "    </tr>\n",
       "  </thead>\n",
       "  <tbody>\n",
       "    <tr>\n",
       "      <th>1</th>\n",
       "      <td>Ali</td>\n",
       "      <td>74</td>\n",
       "      <td>25</td>\n",
       "      <td>89</td>\n",
       "      <td>64</td>\n",
       "      <td>88</td>\n",
       "      <td>340</td>\n",
       "      <td>B</td>\n",
       "    </tr>\n",
       "    <tr>\n",
       "      <th>2</th>\n",
       "      <td>Arif</td>\n",
       "      <td>66</td>\n",
       "      <td>4</td>\n",
       "      <td>86</td>\n",
       "      <td>88</td>\n",
       "      <td>80</td>\n",
       "      <td>324</td>\n",
       "      <td>B</td>\n",
       "    </tr>\n",
       "    <tr>\n",
       "      <th>3</th>\n",
       "      <td>Kasim</td>\n",
       "      <td>87</td>\n",
       "      <td>38</td>\n",
       "      <td>62</td>\n",
       "      <td>2</td>\n",
       "      <td>10</td>\n",
       "      <td>199</td>\n",
       "      <td>D</td>\n",
       "    </tr>\n",
       "    <tr>\n",
       "      <th>4</th>\n",
       "      <td>Jazib</td>\n",
       "      <td>12</td>\n",
       "      <td>27</td>\n",
       "      <td>97</td>\n",
       "      <td>25</td>\n",
       "      <td>9</td>\n",
       "      <td>170</td>\n",
       "      <td>D</td>\n",
       "    </tr>\n",
       "    <tr>\n",
       "      <th>5</th>\n",
       "      <td>Hamid</td>\n",
       "      <td>57</td>\n",
       "      <td>22</td>\n",
       "      <td>66</td>\n",
       "      <td>10</td>\n",
       "      <td>63</td>\n",
       "      <td>218</td>\n",
       "      <td>C</td>\n",
       "    </tr>\n",
       "  </tbody>\n",
       "</table>\n",
       "</div>"
      ],
      "text/plain": [
       "    Name  Mathematics  Physics  Chemistry  Biology  Computer Science  \\\n",
       "1    Ali           74       25         89       64                88   \n",
       "2   Arif           66        4         86       88                80   \n",
       "3  Kasim           87       38         62        2                10   \n",
       "4  Jazib           12       27         97       25                 9   \n",
       "5  Hamid           57       22         66       10                63   \n",
       "\n",
       "   Total Marks Grade  \n",
       "1          340     B  \n",
       "2          324     B  \n",
       "3          199     D  \n",
       "4          170     D  \n",
       "5          218     C  "
      ]
     },
     "metadata": {},
     "output_type": "display_data"
    }
   ],
   "source": [
    "names = ['Ali', 'Arif', 'Kasim', 'Jazib', 'Hamid']\n",
    "math = np.random.randint(0, 110, size=5)\n",
    "physics = np.random.randint(0, 110, size=5)\n",
    "chemistry = np.random.randint(0, 110, size=5)\n",
    "biology = np.random.randint(0, 110, size=5)\n",
    "comp=np.random.randint(0,110,size=5)\n",
    "\n",
    "data = {'Name': names,\n",
    "        'Mathematics': math,\n",
    "        'Physics': physics,\n",
    "        'Chemistry': chemistry,\n",
    "        'Biology': biology,\n",
    "       'Computer Science': comp}\n",
    "\n",
    "students = pd.DataFrame(data,index=np.arange(1,6))\n",
    "\n",
    "students['Total Marks'] = students['Mathematics'] + students['Physics'] + students['Chemistry'] + students['Biology']+students['Computer Science']\n",
    "grades=['U','D','C','B','A']\n",
    "ranges=[0,100,200,300,400,500]\n",
    "students['Grade'] = pd.cut(students['Total Marks'], ranges, labels=grades)\n",
    "display(students)"
   ]
  },
  {
   "cell_type": "code",
   "execution_count": null,
   "id": "68d8e81c",
   "metadata": {},
   "outputs": [],
   "source": []
  }
 ],
 "metadata": {
  "kernelspec": {
   "display_name": "Python 3 (ipykernel)",
   "language": "python",
   "name": "python3"
  },
  "language_info": {
   "codemirror_mode": {
    "name": "ipython",
    "version": 3
   },
   "file_extension": ".py",
   "mimetype": "text/x-python",
   "name": "python",
   "nbconvert_exporter": "python",
   "pygments_lexer": "ipython3",
   "version": "3.9.13"
  }
 },
 "nbformat": 4,
 "nbformat_minor": 5
}
