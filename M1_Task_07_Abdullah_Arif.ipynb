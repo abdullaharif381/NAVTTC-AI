{
 "cells": [
  {
   "cell_type": "code",
   "execution_count": 2,
   "id": "16582cc5",
   "metadata": {
    "scrolled": true
   },
   "outputs": [
    {
     "name": "stdout",
     "output_type": "stream",
     "text": [
      "2\n",
      "6\n"
     ]
    }
   ],
   "source": [
    "def fac(n):\n",
    "    num = int(n)\n",
    "    fact=1\n",
    "    i=num\n",
    "    while i>0:\n",
    "        fact=fact*i\n",
    "        i-=1\n",
    "    return fact\n",
    "x = fac(2)\n",
    "print(x)\n",
    "x*=3\n",
    "print(x)\n",
    " "
   ]
  },
  {
   "cell_type": "code",
   "execution_count": 1,
   "id": "14167110",
   "metadata": {},
   "outputs": [
    {
     "name": "stdout",
     "output_type": "stream",
     "text": [
      "(1) Add \t (2) View \t (3) Search \t (4) Remove \t (5) Display \t (0) Exit\n",
      "Enter your choice (1-5): 1\n",
      "Name: jio\n",
      "(['jio'], [865])\n",
      "Enter your choice (1-5): 1\n",
      "Name: hio\n",
      "(['jio', 'hio'], [865, 467])\n",
      "Enter your choice (1-5): 1\n",
      "Name: pio\n",
      "(['jio', 'hio', 'pio'], [865, 467, 989])\n",
      "Enter your choice (1-5): 1\n",
      "Name: kio\n",
      "(['jio', 'hio', 'pio', 'kio'], [865, 467, 989, 506])\n",
      "Enter your choice (1-5): 1\n",
      "Name: lio\n",
      "(['jio', 'hio', 'pio', 'kio', 'lio'], [865, 467, 989, 506, 296])\n",
      "Enter your choice (1-5): 1\n",
      "Name: gio\n",
      "(['jio', 'hio', 'pio', 'kio', 'lio', 'gio'], [865, 467, 989, 506, 296, 511])\n",
      "Enter your choice (1-5): 1\n",
      "Name: rio\n",
      "(['jio', 'hio', 'pio', 'kio', 'lio', 'gio', 'rio'], [865, 467, 989, 506, 296, 511, 459])\n",
      "Enter your choice (1-5): 1\n",
      "Name: tio\n",
      "(['jio', 'hio', 'pio', 'kio', 'lio', 'gio', 'rio', 'tio'], [865, 467, 989, 506, 296, 511, 459, 263])\n",
      "Enter your choice (1-5): 4\n",
      "Roll No.:901\n",
      "Not Found\n",
      "Enter your choice (1-5): 4\n",
      "Roll No.:506\n",
      "(['jio', 'hio', 'pio', 'lio', 'gio', 'rio', 'tio'], [865, 467, 989, 296, 511, 459, 263])\n",
      "Enter your choice (1-5): 999\n"
     ]
    }
   ],
   "source": [
    "import students as sms\n",
    "\n",
    "names=[]\n",
    "rolls=[]\n",
    "print(\"(1) Add \\t (2) View \\t (3) Search \\t (4) Remove \\t (5) Display \\t (0) Exit\")\n",
    "\n",
    "choice = -1\n",
    "while (choice !=0):\n",
    "    choice=int(input(\"Enter your choice (1-5): \"))\n",
    "                 \n",
    "    if choice == 1:\n",
    "                name = str(input(\"Name: \"))           \n",
    "                print(sms.add_std(name,names,rolls))\n",
    "                    \n",
    "    elif choice == 2:\n",
    "                roll = int(input(\"Roll No.: \"))\n",
    "                print(sms.get_std(roll,names,rolls))\n",
    "    elif choice==3:\n",
    "                \n",
    "                roll = int(input(\"Roll No.:\"))\n",
    "                print(sms.search_std(roll,names,rolls))\n",
    "    elif choice==4:\n",
    "                roll = int(input(\"Roll No.:\"))\n",
    "                print(sms.remove_std(roll,names,rolls))\n",
    "    elif choice==5:\n",
    "                 sms.display_rec(names,rolls)\n",
    "    else:\n",
    "                 break\n",
    "                 \n",
    "\n",
    "                 "
   ]
  }
 ],
 "metadata": {
  "kernelspec": {
   "display_name": "Python 3 (ipykernel)",
   "language": "python",
   "name": "python3"
  },
  "language_info": {
   "codemirror_mode": {
    "name": "ipython",
    "version": 3
   },
   "file_extension": ".py",
   "mimetype": "text/x-python",
   "name": "python",
   "nbconvert_exporter": "python",
   "pygments_lexer": "ipython3",
   "version": "3.9.13"
  }
 },
 "nbformat": 4,
 "nbformat_minor": 5
}
