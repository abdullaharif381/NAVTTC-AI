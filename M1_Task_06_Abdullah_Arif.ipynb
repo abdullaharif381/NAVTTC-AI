{
 "cells": [
  {
   "cell_type": "code",
   "execution_count": 21,
   "id": "65e25056",
   "metadata": {},
   "outputs": [
    {
     "name": "stdout",
     "output_type": "stream",
     "text": [
      "Enter any 10 numbers: \n",
      "81\n",
      "38\n",
      "90\n",
      "81\n",
      "20\n",
      "36\n",
      "78\n",
      "92\n",
      "-10\n",
      "-1\n",
      "Smallest:  -10 Largest:  92\n"
     ]
    }
   ],
   "source": [
    "arr=[]\n",
    "\n",
    "i=0\n",
    "small=0\n",
    "big = 0\n",
    "print(\"Enter any 10 numbers: \")\n",
    "while (i<10):    \n",
    "    arr.append(int(input()))\n",
    "    i+=1\n",
    "    \n",
    "\n",
    "i=0\n",
    "j=0\n",
    "\n",
    "while i < len(arr):\n",
    "    if arr[i] < small:\n",
    "        small = arr[i]\n",
    "    elif(arr[i]>big):\n",
    "        big=arr[i]\n",
    "    i += 1\n",
    "\n",
    "print(\"Smallest: \", small, \"Largest: \", big)"
   ]
  },
  {
   "cell_type": "code",
   "execution_count": 22,
   "id": "709681cc",
   "metadata": {},
   "outputs": [
    {
     "name": "stdout",
     "output_type": "stream",
     "text": [
      "[81, 38, 90, 81, 20, 36, 78, 92, -10, -1]\n",
      "Sum of elements in list:  505\n"
     ]
    }
   ],
   "source": [
    "total=0\n",
    "i=0\n",
    "print(arr)\n",
    "\n",
    "while i<len(arr):\n",
    "    total=total+arr[i]\n",
    "    i+=1\n",
    "    \n",
    "print(\"Sum of elements in list: \",total)"
   ]
  },
  {
   "cell_type": "code",
   "execution_count": 23,
   "id": "feb39502",
   "metadata": {},
   "outputs": [
    {
     "name": "stdout",
     "output_type": "stream",
     "text": [
      "Product of elements in list:  1159340667264000\n"
     ]
    }
   ],
   "source": [
    "total=1\n",
    "i=0\n",
    "while(i<len(arr)):\n",
    "    total*=arr[i]\n",
    "    i+=1\n",
    "    \n",
    "print(\"Product of elements in list: \",total)"
   ]
  },
  {
   "cell_type": "code",
   "execution_count": 24,
   "id": "755f017a",
   "metadata": {},
   "outputs": [
    {
     "name": "stdout",
     "output_type": "stream",
     "text": [
      "[81, 38, 90, 81, 20, 36, 78, 92, -10, -1]\n",
      "1\n",
      "2\n",
      "3\n",
      "4\n",
      "5\n",
      "No...Nothing is common in the lists\n"
     ]
    }
   ],
   "source": [
    "arr2=[]\n",
    "print(arr)\n",
    "\n",
    "i=0\n",
    "while i<5:    \n",
    "    arr2.append(int(input()))\n",
    "    i+=1\n",
    "yes = 0\n",
    "i = 0\n",
    "\n",
    "while i < len(arr):\n",
    "        j=0\n",
    "        while j < len(arr2):\n",
    "            if arr[i] == arr2[j]:\n",
    "                yes=1\n",
    "            j += 1\n",
    "        i += 1\n",
    "\n",
    "if(yes):\n",
    "    print(\"Yes! Both lists have something in common\" )\n",
    "else:\n",
    "    print(\"No...Nothing is common in the lists\")"
   ]
  },
  {
   "cell_type": "code",
   "execution_count": 25,
   "id": "b54d49cd",
   "metadata": {},
   "outputs": [
    {
     "name": "stdout",
     "output_type": "stream",
     "text": [
      "[81, 38, 90, 81, 20, 36, 78, 92, -10, -1]\n",
      "[81, 81, -1]\n"
     ]
    }
   ],
   "source": [
    "print(arr)\n",
    "odds=[]\n",
    "for i in arr:\n",
    "    if i%2!=0:\n",
    "        odds.append(i) \n",
    "\n",
    "print(odds)"
   ]
  },
  {
   "cell_type": "code",
   "execution_count": 26,
   "id": "8ec92c36",
   "metadata": {},
   "outputs": [
    {
     "name": "stdout",
     "output_type": "stream",
     "text": [
      "[81, 38, 90, 81, 20, 36, 78, 92, -10, -1]\n",
      "Second Smallest: -1\n"
     ]
    }
   ],
   "source": [
    "print(arr)\n",
    "\n",
    "i=0\n",
    "j=0\n",
    "while i < len(arr):\n",
    "    j=0\n",
    "    while j<len(arr):\n",
    "        if(arr[i]>arr[j]): #sorting highest to lowest\n",
    "            tmp = arr[i]\n",
    "            arr[i]=arr[j]\n",
    "            arr[j]=tmp\n",
    "        j+=1\n",
    "    i+=1\n",
    "print(\"Second Smallest:\", arr[len(arr)-2])\n",
    "            \n",
    "\n",
    "    \n",
    "    "
   ]
  },
  {
   "cell_type": "code",
   "execution_count": 27,
   "id": "86e1f762",
   "metadata": {
    "scrolled": true
   },
   "outputs": [
    {
     "name": "stdout",
     "output_type": "stream",
     "text": [
      "[92, 90, 81, 81, 78, 38, 36, 20, -1, -10]\n",
      "[92, 90, 78, 38, 36, 20, -1, -10]\n"
     ]
    }
   ],
   "source": [
    "        \n",
    "unique=[]\n",
    "\n",
    "print(arr)\n",
    "\n",
    "for i in range(0,len(arr)):    \n",
    "    yes=-1\n",
    "    for j in range(0,len(arr)):\n",
    "        if(arr[i]==arr[j]):\n",
    "            yes+=1\n",
    "    if(yes<=0):\n",
    "        unique.insert(i,arr[i])\n",
    "\n",
    "            \n",
    "print(unique)"
   ]
  },
  {
   "cell_type": "code",
   "execution_count": 29,
   "id": "9843e3bb",
   "metadata": {},
   "outputs": [
    {
     "name": "stdout",
     "output_type": "stream",
     "text": [
      "[92, 90, 81, 81, 78, 38, 36, 20, -1, -10]\n",
      "Even: \n",
      "[92, 90, 78, 38, 36, 20, -10]\n",
      "Odd:\n",
      "[81, 81, -1]\n"
     ]
    }
   ],
   "source": [
    "print(arr)\n",
    "o=[]\n",
    "e=[]\n",
    "i=0\n",
    "while(i<10):\n",
    "    if(arr[i]%2==0):\n",
    "        e.append(arr[i])\n",
    "    else:\n",
    "        o.append(arr[i])\n",
    "    i+=1\n",
    "print(\"Even: \")\n",
    "print(e)\n",
    "print(\"Odd:\")\n",
    "print(o)\n",
    "                \n",
    "        "
   ]
  }
 ],
 "metadata": {
  "kernelspec": {
   "display_name": "Python 3 (ipykernel)",
   "language": "python",
   "name": "python3"
  },
  "language_info": {
   "codemirror_mode": {
    "name": "ipython",
    "version": 3
   },
   "file_extension": ".py",
   "mimetype": "text/x-python",
   "name": "python",
   "nbconvert_exporter": "python",
   "pygments_lexer": "ipython3",
   "version": "3.9.13"
  }
 },
 "nbformat": 4,
 "nbformat_minor": 5
}
