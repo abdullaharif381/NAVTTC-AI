{
 "cells": [
  {
   "cell_type": "code",
   "execution_count": 1,
   "id": "6d288cf8",
   "metadata": {},
   "outputs": [],
   "source": [
    "# CMYK, RGB, HSV (hue, saturation, value)"
   ]
  },
  {
   "cell_type": "code",
   "execution_count": 2,
   "id": "f2cf44d4",
   "metadata": {},
   "outputs": [],
   "source": [
    "import cv2 as cv"
   ]
  },
  {
   "cell_type": "code",
   "execution_count": 3,
   "id": "6d559a83",
   "metadata": {},
   "outputs": [],
   "source": [
    "import numpy as np"
   ]
  },
  {
   "cell_type": "code",
   "execution_count": 4,
   "id": "ccc5f22e",
   "metadata": {},
   "outputs": [],
   "source": [
    "image=cv.imread('tree.jpg',0)\n",
    "cv.imshow(\"tree\",image)\n",
    "cv.waitKey(0)\n",
    "cv.destroyAllWindows()"
   ]
  },
  {
   "cell_type": "code",
   "execution_count": 5,
   "id": "14adc2d1",
   "metadata": {},
   "outputs": [
    {
     "data": {
      "text/plain": [
       "(797, 1199)"
      ]
     },
     "execution_count": 5,
     "metadata": {},
     "output_type": "execute_result"
    }
   ],
   "source": [
    "image.shape"
   ]
  },
  {
   "cell_type": "code",
   "execution_count": 6,
   "id": "31036d9d",
   "metadata": {},
   "outputs": [
    {
     "name": "stdout",
     "output_type": "stream",
     "text": [
      "797 pixels\n",
      "1199 pixels\n"
     ]
    }
   ],
   "source": [
    "print(int(image.shape[0]),\"pixels\")\n",
    "print(int(image.shape[1]),\"pixels\")"
   ]
  },
  {
   "cell_type": "code",
   "execution_count": 7,
   "id": "70f48676",
   "metadata": {},
   "outputs": [
    {
     "data": {
      "text/plain": [
       "True"
      ]
     },
     "execution_count": 7,
     "metadata": {},
     "output_type": "execute_result"
    }
   ],
   "source": [
    "cv.imwrite('output.jpg',image)"
   ]
  },
  {
   "cell_type": "code",
   "execution_count": 8,
   "id": "5a7ed1aa",
   "metadata": {},
   "outputs": [
    {
     "data": {
      "text/plain": [
       "True"
      ]
     },
     "execution_count": 8,
     "metadata": {},
     "output_type": "execute_result"
    }
   ],
   "source": [
    "cv.imwrite('output.png',image)"
   ]
  },
  {
   "cell_type": "code",
   "execution_count": 9,
   "id": "979d01c5",
   "metadata": {},
   "outputs": [],
   "source": [
    "imgg=cv.imread(\"city.jpg\",1)\n",
    "img=cv.resize(imgg,(900,600))\n",
    "img=cv.cvtColor(img,cv.COLOR_BGR2GRAY)\n",
    "cv.imshow(\"city\",img)\n",
    "cv.waitKey(0)\n",
    "cv.destroyAllWindows()"
   ]
  },
  {
   "cell_type": "code",
   "execution_count": 10,
   "id": "40434ced",
   "metadata": {},
   "outputs": [
    {
     "name": "stdout",
     "output_type": "stream",
     "text": [
      "[161 166 181]\n"
     ]
    }
   ],
   "source": [
    "print(imgg[10,50])"
   ]
  },
  {
   "cell_type": "code",
   "execution_count": 15,
   "id": "47058eb9",
   "metadata": {},
   "outputs": [],
   "source": [
    "img=cv.imread(\"city.jpg\",1)\n",
    "img=cv.resize(imgg,(900,600))\n",
    "hsv=cv.cvtColor(img,cv.COLOR_BGR2HSV)"
   ]
  },
  {
   "cell_type": "code",
   "execution_count": 16,
   "id": "a504e6ea",
   "metadata": {},
   "outputs": [],
   "source": [
    "cv.imshow('HSV',hsv)\n",
    "cv.waitKey(0)\n",
    "cv.destroyAllWindows()"
   ]
  },
  {
   "cell_type": "code",
   "execution_count": 20,
   "id": "a24d1e27",
   "metadata": {},
   "outputs": [],
   "source": [
    "cv.imshow('HSV',hsv[1:2:3])\n",
    "cv.waitKey(0)\n",
    "cv.destroyAllWindows()"
   ]
  },
  {
   "cell_type": "code",
   "execution_count": 30,
   "id": "0e1d1678",
   "metadata": {},
   "outputs": [
    {
     "ename": "ValueError",
     "evalue": "could not broadcast input array from shape (5,5) into shape (200,200)",
     "output_type": "error",
     "traceback": [
      "\u001b[1;31m---------------------------------------------------------------------------\u001b[0m",
      "\u001b[1;31mValueError\u001b[0m                                Traceback (most recent call last)",
      "Cell \u001b[1;32mIn[30], line 4\u001b[0m\n\u001b[0;32m      2\u001b[0m b \u001b[38;5;241m=\u001b[39m numpy\u001b[38;5;241m.\u001b[39mzeros([\u001b[38;5;241m200\u001b[39m,\u001b[38;5;241m200\u001b[39m,\u001b[38;5;241m3\u001b[39m])\n\u001b[0;32m      3\u001b[0m b\u001b[38;5;241m=\u001b[39mcv2\u001b[38;5;241m.\u001b[39mresize(b,(\u001b[38;5;241m200\u001b[39m,\u001b[38;5;241m200\u001b[39m))\n\u001b[1;32m----> 4\u001b[0m \u001b[43mb\u001b[49m\u001b[43m[\u001b[49m\u001b[43m:\u001b[49m\u001b[43m,\u001b[49m\u001b[43m:\u001b[49m\u001b[43m,\u001b[49m\u001b[38;5;241;43m0\u001b[39;49m\u001b[43m]\u001b[49m \u001b[38;5;241m=\u001b[39m numpy\u001b[38;5;241m.\u001b[39mones([\u001b[38;5;241m5\u001b[39m,\u001b[38;5;241m5\u001b[39m])\u001b[38;5;241m*\u001b[39m\u001b[38;5;241m64\u001b[39m\n\u001b[0;32m      5\u001b[0m b[:,:,\u001b[38;5;241m1\u001b[39m] \u001b[38;5;241m=\u001b[39m numpy\u001b[38;5;241m.\u001b[39mones([\u001b[38;5;241m5\u001b[39m,\u001b[38;5;241m5\u001b[39m])\u001b[38;5;241m*\u001b[39m\u001b[38;5;241m128\u001b[39m\n\u001b[0;32m      6\u001b[0m b[:,:,\u001b[38;5;241m2\u001b[39m] \u001b[38;5;241m=\u001b[39m numpy\u001b[38;5;241m.\u001b[39mones([\u001b[38;5;241m5\u001b[39m,\u001b[38;5;241m5\u001b[39m])\u001b[38;5;241m*\u001b[39m\u001b[38;5;241m192\u001b[39m\n",
      "\u001b[1;31mValueError\u001b[0m: could not broadcast input array from shape (5,5) into shape (200,200)"
     ]
    }
   ],
   "source": [
    "import numpy, cv2\n",
    "b = numpy.zeros([5,5,3])\n",
    "b[:,:,0] = numpy.ones([5,5])*64\n",
    "b[:,:,1] = numpy.ones([5,5])*128\n",
    "b[:,:,2] = numpy.ones([5,5])*192\n",
    "cv2.imwrite('color_img.jpg', b)\n",
    "cv2.imshow('Color image', b)\n",
    "cv2.waitKey(0)\n",
    "cv2.destroyAllWindows()"
   ]
  },
  {
   "cell_type": "code",
   "execution_count": 26,
   "id": "a43575db",
   "metadata": {},
   "outputs": [
    {
     "name": "stdout",
     "output_type": "stream",
     "text": [
      "(hMin = 0 , sMin = 0, vMin = 0), (hMax = 179 , sMax = 255, vMax = 255)\n",
      "(hMin = 0 , sMin = 0, vMin = 0), (hMax = 175 , sMax = 255, vMax = 255)\n",
      "(hMin = 0 , sMin = 0, vMin = 0), (hMax = 169 , sMax = 255, vMax = 255)\n",
      "(hMin = 0 , sMin = 0, vMin = 0), (hMax = 165 , sMax = 255, vMax = 255)\n",
      "(hMin = 0 , sMin = 0, vMin = 0), (hMax = 161 , sMax = 255, vMax = 255)\n",
      "(hMin = 0 , sMin = 0, vMin = 0), (hMax = 160 , sMax = 255, vMax = 255)\n",
      "(hMin = 0 , sMin = 0, vMin = 0), (hMax = 159 , sMax = 255, vMax = 255)\n",
      "(hMin = 0 , sMin = 0, vMin = 0), (hMax = 158 , sMax = 255, vMax = 255)\n",
      "(hMin = 0 , sMin = 0, vMin = 0), (hMax = 155 , sMax = 255, vMax = 255)\n",
      "(hMin = 0 , sMin = 0, vMin = 0), (hMax = 153 , sMax = 255, vMax = 255)\n",
      "(hMin = 0 , sMin = 0, vMin = 0), (hMax = 157 , sMax = 255, vMax = 255)\n",
      "(hMin = 0 , sMin = 0, vMin = 0), (hMax = 163 , sMax = 255, vMax = 255)\n",
      "(hMin = 0 , sMin = 0, vMin = 0), (hMax = 167 , sMax = 255, vMax = 255)\n",
      "(hMin = 0 , sMin = 0, vMin = 0), (hMax = 169 , sMax = 255, vMax = 255)\n",
      "(hMin = 0 , sMin = 0, vMin = 0), (hMax = 170 , sMax = 255, vMax = 255)\n",
      "(hMin = 0 , sMin = 0, vMin = 0), (hMax = 171 , sMax = 255, vMax = 255)\n",
      "(hMin = 0 , sMin = 0, vMin = 0), (hMax = 173 , sMax = 255, vMax = 255)\n",
      "(hMin = 0 , sMin = 0, vMin = 0), (hMax = 176 , sMax = 255, vMax = 255)\n",
      "(hMin = 0 , sMin = 0, vMin = 0), (hMax = 177 , sMax = 255, vMax = 255)\n",
      "(hMin = 0 , sMin = 0, vMin = 0), (hMax = 178 , sMax = 255, vMax = 255)\n",
      "(hMin = 0 , sMin = 0, vMin = 0), (hMax = 179 , sMax = 255, vMax = 255)\n",
      "(hMin = 9 , sMin = 0, vMin = 0), (hMax = 179 , sMax = 255, vMax = 255)\n",
      "(hMin = 17 , sMin = 0, vMin = 0), (hMax = 179 , sMax = 255, vMax = 255)\n",
      "(hMin = 21 , sMin = 0, vMin = 0), (hMax = 179 , sMax = 255, vMax = 255)\n",
      "(hMin = 24 , sMin = 0, vMin = 0), (hMax = 179 , sMax = 255, vMax = 255)\n",
      "(hMin = 29 , sMin = 0, vMin = 0), (hMax = 179 , sMax = 255, vMax = 255)\n",
      "(hMin = 32 , sMin = 0, vMin = 0), (hMax = 179 , sMax = 255, vMax = 255)\n",
      "(hMin = 37 , sMin = 0, vMin = 0), (hMax = 179 , sMax = 255, vMax = 255)\n",
      "(hMin = 43 , sMin = 0, vMin = 0), (hMax = 179 , sMax = 255, vMax = 255)\n",
      "(hMin = 45 , sMin = 0, vMin = 0), (hMax = 179 , sMax = 255, vMax = 255)\n",
      "(hMin = 47 , sMin = 0, vMin = 0), (hMax = 179 , sMax = 255, vMax = 255)\n",
      "(hMin = 49 , sMin = 0, vMin = 0), (hMax = 179 , sMax = 255, vMax = 255)\n",
      "(hMin = 52 , sMin = 0, vMin = 0), (hMax = 179 , sMax = 255, vMax = 255)\n",
      "(hMin = 55 , sMin = 0, vMin = 0), (hMax = 179 , sMax = 255, vMax = 255)\n",
      "(hMin = 59 , sMin = 0, vMin = 0), (hMax = 179 , sMax = 255, vMax = 255)\n",
      "(hMin = 64 , sMin = 0, vMin = 0), (hMax = 179 , sMax = 255, vMax = 255)\n",
      "(hMin = 68 , sMin = 0, vMin = 0), (hMax = 179 , sMax = 255, vMax = 255)\n",
      "(hMin = 81 , sMin = 0, vMin = 0), (hMax = 179 , sMax = 255, vMax = 255)\n",
      "(hMin = 85 , sMin = 0, vMin = 0), (hMax = 179 , sMax = 255, vMax = 255)\n",
      "(hMin = 86 , sMin = 0, vMin = 0), (hMax = 179 , sMax = 255, vMax = 255)\n",
      "(hMin = 89 , sMin = 0, vMin = 0), (hMax = 179 , sMax = 255, vMax = 255)\n",
      "(hMin = 118 , sMin = 0, vMin = 0), (hMax = 179 , sMax = 255, vMax = 255)\n",
      "(hMin = 146 , sMin = 0, vMin = 0), (hMax = 179 , sMax = 255, vMax = 255)\n",
      "(hMin = 156 , sMin = 0, vMin = 0), (hMax = 179 , sMax = 255, vMax = 255)\n",
      "(hMin = 164 , sMin = 0, vMin = 0), (hMax = 179 , sMax = 255, vMax = 255)\n",
      "(hMin = 169 , sMin = 0, vMin = 0), (hMax = 179 , sMax = 255, vMax = 255)\n",
      "(hMin = 172 , sMin = 0, vMin = 0), (hMax = 179 , sMax = 255, vMax = 255)\n",
      "(hMin = 174 , sMin = 0, vMin = 0), (hMax = 179 , sMax = 255, vMax = 255)\n",
      "(hMin = 175 , sMin = 0, vMin = 0), (hMax = 179 , sMax = 255, vMax = 255)\n",
      "(hMin = 176 , sMin = 0, vMin = 0), (hMax = 179 , sMax = 255, vMax = 255)\n",
      "(hMin = 177 , sMin = 0, vMin = 0), (hMax = 179 , sMax = 255, vMax = 255)\n",
      "(hMin = 179 , sMin = 0, vMin = 0), (hMax = 179 , sMax = 255, vMax = 255)\n",
      "(hMin = 177 , sMin = 0, vMin = 0), (hMax = 179 , sMax = 255, vMax = 255)\n",
      "(hMin = 175 , sMin = 0, vMin = 0), (hMax = 179 , sMax = 255, vMax = 255)\n",
      "(hMin = 173 , sMin = 0, vMin = 0), (hMax = 179 , sMax = 255, vMax = 255)\n",
      "(hMin = 172 , sMin = 0, vMin = 0), (hMax = 179 , sMax = 255, vMax = 255)\n",
      "(hMin = 170 , sMin = 0, vMin = 0), (hMax = 179 , sMax = 255, vMax = 255)\n",
      "(hMin = 168 , sMin = 0, vMin = 0), (hMax = 179 , sMax = 255, vMax = 255)\n",
      "(hMin = 166 , sMin = 0, vMin = 0), (hMax = 179 , sMax = 255, vMax = 255)\n",
      "(hMin = 164 , sMin = 0, vMin = 0), (hMax = 179 , sMax = 255, vMax = 255)\n",
      "(hMin = 161 , sMin = 0, vMin = 0), (hMax = 179 , sMax = 255, vMax = 255)\n",
      "(hMin = 158 , sMin = 0, vMin = 0), (hMax = 179 , sMax = 255, vMax = 255)\n",
      "(hMin = 155 , sMin = 0, vMin = 0), (hMax = 179 , sMax = 255, vMax = 255)\n",
      "(hMin = 153 , sMin = 0, vMin = 0), (hMax = 179 , sMax = 255, vMax = 255)\n",
      "(hMin = 152 , sMin = 0, vMin = 0), (hMax = 179 , sMax = 255, vMax = 255)\n",
      "(hMin = 151 , sMin = 0, vMin = 0), (hMax = 179 , sMax = 255, vMax = 255)\n",
      "(hMin = 149 , sMin = 0, vMin = 0), (hMax = 179 , sMax = 255, vMax = 255)\n",
      "(hMin = 147 , sMin = 0, vMin = 0), (hMax = 179 , sMax = 255, vMax = 255)\n",
      "(hMin = 144 , sMin = 0, vMin = 0), (hMax = 179 , sMax = 255, vMax = 255)\n",
      "(hMin = 142 , sMin = 0, vMin = 0), (hMax = 179 , sMax = 255, vMax = 255)\n",
      "(hMin = 140 , sMin = 0, vMin = 0), (hMax = 179 , sMax = 255, vMax = 255)\n",
      "(hMin = 138 , sMin = 0, vMin = 0), (hMax = 179 , sMax = 255, vMax = 255)\n",
      "(hMin = 136 , sMin = 0, vMin = 0), (hMax = 179 , sMax = 255, vMax = 255)\n",
      "(hMin = 134 , sMin = 0, vMin = 0), (hMax = 179 , sMax = 255, vMax = 255)\n",
      "(hMin = 133 , sMin = 0, vMin = 0), (hMax = 179 , sMax = 255, vMax = 255)\n",
      "(hMin = 132 , sMin = 0, vMin = 0), (hMax = 179 , sMax = 255, vMax = 255)\n",
      "(hMin = 133 , sMin = 0, vMin = 0), (hMax = 179 , sMax = 255, vMax = 255)\n",
      "(hMin = 134 , sMin = 0, vMin = 0), (hMax = 179 , sMax = 255, vMax = 255)\n",
      "(hMin = 137 , sMin = 0, vMin = 0), (hMax = 179 , sMax = 255, vMax = 255)\n",
      "(hMin = 139 , sMin = 0, vMin = 0), (hMax = 179 , sMax = 255, vMax = 255)\n",
      "(hMin = 137 , sMin = 0, vMin = 0), (hMax = 179 , sMax = 255, vMax = 255)\n",
      "(hMin = 118 , sMin = 0, vMin = 0), (hMax = 179 , sMax = 255, vMax = 255)\n",
      "(hMin = 97 , sMin = 0, vMin = 0), (hMax = 179 , sMax = 255, vMax = 255)\n",
      "(hMin = 91 , sMin = 0, vMin = 0), (hMax = 179 , sMax = 255, vMax = 255)\n",
      "(hMin = 86 , sMin = 0, vMin = 0), (hMax = 179 , sMax = 255, vMax = 255)\n",
      "(hMin = 82 , sMin = 0, vMin = 0), (hMax = 179 , sMax = 255, vMax = 255)\n",
      "(hMin = 80 , sMin = 0, vMin = 0), (hMax = 179 , sMax = 255, vMax = 255)\n",
      "(hMin = 77 , sMin = 0, vMin = 0), (hMax = 179 , sMax = 255, vMax = 255)\n",
      "(hMin = 73 , sMin = 0, vMin = 0), (hMax = 179 , sMax = 255, vMax = 255)\n",
      "(hMin = 63 , sMin = 0, vMin = 0), (hMax = 179 , sMax = 255, vMax = 255)\n",
      "(hMin = 58 , sMin = 0, vMin = 0), (hMax = 179 , sMax = 255, vMax = 255)\n",
      "(hMin = 55 , sMin = 0, vMin = 0), (hMax = 179 , sMax = 255, vMax = 255)\n",
      "(hMin = 54 , sMin = 0, vMin = 0), (hMax = 179 , sMax = 255, vMax = 255)\n",
      "(hMin = 53 , sMin = 0, vMin = 0), (hMax = 179 , sMax = 255, vMax = 255)\n",
      "(hMin = 52 , sMin = 0, vMin = 0), (hMax = 179 , sMax = 255, vMax = 255)\n",
      "(hMin = 51 , sMin = 0, vMin = 0), (hMax = 179 , sMax = 255, vMax = 255)\n",
      "(hMin = 50 , sMin = 0, vMin = 0), (hMax = 179 , sMax = 255, vMax = 255)\n",
      "(hMin = 49 , sMin = 0, vMin = 0), (hMax = 179 , sMax = 255, vMax = 255)\n",
      "(hMin = 55 , sMin = 0, vMin = 0), (hMax = 179 , sMax = 255, vMax = 255)\n",
      "(hMin = 64 , sMin = 0, vMin = 0), (hMax = 179 , sMax = 255, vMax = 255)\n",
      "(hMin = 69 , sMin = 0, vMin = 0), (hMax = 179 , sMax = 255, vMax = 255)\n",
      "(hMin = 74 , sMin = 0, vMin = 0), (hMax = 179 , sMax = 255, vMax = 255)\n",
      "(hMin = 77 , sMin = 0, vMin = 0), (hMax = 179 , sMax = 255, vMax = 255)\n",
      "(hMin = 81 , sMin = 0, vMin = 0), (hMax = 179 , sMax = 255, vMax = 255)\n",
      "(hMin = 84 , sMin = 0, vMin = 0), (hMax = 179 , sMax = 255, vMax = 255)\n",
      "(hMin = 86 , sMin = 0, vMin = 0), (hMax = 179 , sMax = 255, vMax = 255)\n",
      "(hMin = 88 , sMin = 0, vMin = 0), (hMax = 179 , sMax = 255, vMax = 255)\n",
      "(hMin = 90 , sMin = 0, vMin = 0), (hMax = 179 , sMax = 255, vMax = 255)\n",
      "(hMin = 93 , sMin = 0, vMin = 0), (hMax = 179 , sMax = 255, vMax = 255)\n",
      "(hMin = 94 , sMin = 0, vMin = 0), (hMax = 179 , sMax = 255, vMax = 255)\n",
      "(hMin = 98 , sMin = 0, vMin = 0), (hMax = 179 , sMax = 255, vMax = 255)\n",
      "(hMin = 100 , sMin = 0, vMin = 0), (hMax = 179 , sMax = 255, vMax = 255)\n",
      "(hMin = 102 , sMin = 0, vMin = 0), (hMax = 179 , sMax = 255, vMax = 255)\n",
      "(hMin = 106 , sMin = 0, vMin = 0), (hMax = 179 , sMax = 255, vMax = 255)\n"
     ]
    },
    {
     "name": "stdout",
     "output_type": "stream",
     "text": [
      "(hMin = 112 , sMin = 0, vMin = 0), (hMax = 179 , sMax = 255, vMax = 255)\n",
      "(hMin = 115 , sMin = 0, vMin = 0), (hMax = 179 , sMax = 255, vMax = 255)\n",
      "(hMin = 116 , sMin = 0, vMin = 0), (hMax = 179 , sMax = 255, vMax = 255)\n",
      "(hMin = 117 , sMin = 0, vMin = 0), (hMax = 179 , sMax = 255, vMax = 255)\n",
      "(hMin = 118 , sMin = 0, vMin = 0), (hMax = 179 , sMax = 255, vMax = 255)\n",
      "(hMin = 119 , sMin = 0, vMin = 0), (hMax = 179 , sMax = 255, vMax = 255)\n",
      "(hMin = 120 , sMin = 0, vMin = 0), (hMax = 179 , sMax = 255, vMax = 255)\n",
      "(hMin = 121 , sMin = 0, vMin = 0), (hMax = 179 , sMax = 255, vMax = 255)\n",
      "(hMin = 122 , sMin = 0, vMin = 0), (hMax = 179 , sMax = 255, vMax = 255)\n",
      "(hMin = 123 , sMin = 0, vMin = 0), (hMax = 179 , sMax = 255, vMax = 255)\n",
      "(hMin = 126 , sMin = 0, vMin = 0), (hMax = 179 , sMax = 255, vMax = 255)\n",
      "(hMin = 127 , sMin = 0, vMin = 0), (hMax = 179 , sMax = 255, vMax = 255)\n",
      "(hMin = 128 , sMin = 0, vMin = 0), (hMax = 179 , sMax = 255, vMax = 255)\n",
      "(hMin = 129 , sMin = 0, vMin = 0), (hMax = 179 , sMax = 255, vMax = 255)\n",
      "(hMin = 130 , sMin = 0, vMin = 0), (hMax = 179 , sMax = 255, vMax = 255)\n",
      "(hMin = 131 , sMin = 0, vMin = 0), (hMax = 179 , sMax = 255, vMax = 255)\n",
      "(hMin = 132 , sMin = 0, vMin = 0), (hMax = 179 , sMax = 255, vMax = 255)\n",
      "(hMin = 133 , sMin = 0, vMin = 0), (hMax = 179 , sMax = 255, vMax = 255)\n",
      "(hMin = 134 , sMin = 0, vMin = 0), (hMax = 179 , sMax = 255, vMax = 255)\n",
      "(hMin = 136 , sMin = 0, vMin = 0), (hMax = 179 , sMax = 255, vMax = 255)\n",
      "(hMin = 137 , sMin = 0, vMin = 0), (hMax = 179 , sMax = 255, vMax = 255)\n",
      "(hMin = 138 , sMin = 0, vMin = 0), (hMax = 179 , sMax = 255, vMax = 255)\n",
      "(hMin = 139 , sMin = 0, vMin = 0), (hMax = 179 , sMax = 255, vMax = 255)\n",
      "(hMin = 140 , sMin = 0, vMin = 0), (hMax = 179 , sMax = 255, vMax = 255)\n",
      "(hMin = 141 , sMin = 0, vMin = 0), (hMax = 179 , sMax = 255, vMax = 255)\n",
      "(hMin = 142 , sMin = 0, vMin = 0), (hMax = 179 , sMax = 255, vMax = 255)\n",
      "(hMin = 143 , sMin = 0, vMin = 0), (hMax = 179 , sMax = 255, vMax = 255)\n",
      "(hMin = 144 , sMin = 0, vMin = 0), (hMax = 179 , sMax = 255, vMax = 255)\n",
      "(hMin = 145 , sMin = 0, vMin = 0), (hMax = 179 , sMax = 255, vMax = 255)\n",
      "(hMin = 146 , sMin = 0, vMin = 0), (hMax = 179 , sMax = 255, vMax = 255)\n",
      "(hMin = 147 , sMin = 0, vMin = 0), (hMax = 179 , sMax = 255, vMax = 255)\n",
      "(hMin = 149 , sMin = 0, vMin = 0), (hMax = 179 , sMax = 255, vMax = 255)\n",
      "(hMin = 151 , sMin = 0, vMin = 0), (hMax = 179 , sMax = 255, vMax = 255)\n",
      "(hMin = 152 , sMin = 0, vMin = 0), (hMax = 179 , sMax = 255, vMax = 255)\n",
      "(hMin = 153 , sMin = 0, vMin = 0), (hMax = 179 , sMax = 255, vMax = 255)\n",
      "(hMin = 154 , sMin = 0, vMin = 0), (hMax = 179 , sMax = 255, vMax = 255)\n",
      "(hMin = 156 , sMin = 0, vMin = 0), (hMax = 179 , sMax = 255, vMax = 255)\n",
      "(hMin = 157 , sMin = 0, vMin = 0), (hMax = 179 , sMax = 255, vMax = 255)\n",
      "(hMin = 158 , sMin = 0, vMin = 0), (hMax = 179 , sMax = 255, vMax = 255)\n",
      "(hMin = 159 , sMin = 0, vMin = 0), (hMax = 179 , sMax = 255, vMax = 255)\n",
      "(hMin = 161 , sMin = 0, vMin = 0), (hMax = 179 , sMax = 255, vMax = 255)\n",
      "(hMin = 163 , sMin = 0, vMin = 0), (hMax = 179 , sMax = 255, vMax = 255)\n",
      "(hMin = 165 , sMin = 0, vMin = 0), (hMax = 179 , sMax = 255, vMax = 255)\n",
      "(hMin = 169 , sMin = 0, vMin = 0), (hMax = 179 , sMax = 255, vMax = 255)\n",
      "(hMin = 171 , sMin = 0, vMin = 0), (hMax = 179 , sMax = 255, vMax = 255)\n",
      "(hMin = 173 , sMin = 0, vMin = 0), (hMax = 179 , sMax = 255, vMax = 255)\n",
      "(hMin = 175 , sMin = 0, vMin = 0), (hMax = 179 , sMax = 255, vMax = 255)\n",
      "(hMin = 176 , sMin = 0, vMin = 0), (hMax = 179 , sMax = 255, vMax = 255)\n",
      "(hMin = 173 , sMin = 0, vMin = 0), (hMax = 179 , sMax = 255, vMax = 255)\n",
      "(hMin = 170 , sMin = 0, vMin = 0), (hMax = 179 , sMax = 255, vMax = 255)\n",
      "(hMin = 169 , sMin = 0, vMin = 0), (hMax = 179 , sMax = 255, vMax = 255)\n",
      "(hMin = 167 , sMin = 0, vMin = 0), (hMax = 179 , sMax = 255, vMax = 255)\n",
      "(hMin = 166 , sMin = 0, vMin = 0), (hMax = 179 , sMax = 255, vMax = 255)\n",
      "(hMin = 165 , sMin = 0, vMin = 0), (hMax = 179 , sMax = 255, vMax = 255)\n",
      "(hMin = 164 , sMin = 0, vMin = 0), (hMax = 179 , sMax = 255, vMax = 255)\n",
      "(hMin = 163 , sMin = 0, vMin = 0), (hMax = 179 , sMax = 255, vMax = 255)\n",
      "(hMin = 162 , sMin = 0, vMin = 0), (hMax = 179 , sMax = 255, vMax = 255)\n",
      "(hMin = 160 , sMin = 0, vMin = 0), (hMax = 179 , sMax = 255, vMax = 255)\n",
      "(hMin = 159 , sMin = 0, vMin = 0), (hMax = 179 , sMax = 255, vMax = 255)\n",
      "(hMin = 158 , sMin = 0, vMin = 0), (hMax = 179 , sMax = 255, vMax = 255)\n",
      "(hMin = 157 , sMin = 0, vMin = 0), (hMax = 179 , sMax = 255, vMax = 255)\n",
      "(hMin = 156 , sMin = 0, vMin = 0), (hMax = 179 , sMax = 255, vMax = 255)\n",
      "(hMin = 155 , sMin = 0, vMin = 0), (hMax = 179 , sMax = 255, vMax = 255)\n",
      "(hMin = 154 , sMin = 0, vMin = 0), (hMax = 179 , sMax = 255, vMax = 255)\n",
      "(hMin = 152 , sMin = 0, vMin = 0), (hMax = 179 , sMax = 255, vMax = 255)\n",
      "(hMin = 151 , sMin = 0, vMin = 0), (hMax = 179 , sMax = 255, vMax = 255)\n",
      "(hMin = 150 , sMin = 0, vMin = 0), (hMax = 179 , sMax = 255, vMax = 255)\n",
      "(hMin = 148 , sMin = 0, vMin = 0), (hMax = 179 , sMax = 255, vMax = 255)\n",
      "(hMin = 147 , sMin = 0, vMin = 0), (hMax = 179 , sMax = 255, vMax = 255)\n",
      "(hMin = 146 , sMin = 0, vMin = 0), (hMax = 179 , sMax = 255, vMax = 255)\n",
      "(hMin = 145 , sMin = 0, vMin = 0), (hMax = 179 , sMax = 255, vMax = 255)\n",
      "(hMin = 143 , sMin = 0, vMin = 0), (hMax = 179 , sMax = 255, vMax = 255)\n",
      "(hMin = 142 , sMin = 0, vMin = 0), (hMax = 179 , sMax = 255, vMax = 255)\n",
      "(hMin = 141 , sMin = 0, vMin = 0), (hMax = 179 , sMax = 255, vMax = 255)\n",
      "(hMin = 141 , sMin = 0, vMin = 0), (hMax = 178 , sMax = 255, vMax = 255)\n",
      "(hMin = 141 , sMin = 0, vMin = 0), (hMax = 173 , sMax = 255, vMax = 255)\n",
      "(hMin = 141 , sMin = 0, vMin = 0), (hMax = 170 , sMax = 255, vMax = 255)\n",
      "(hMin = 141 , sMin = 0, vMin = 0), (hMax = 166 , sMax = 255, vMax = 255)\n",
      "(hMin = 141 , sMin = 0, vMin = 0), (hMax = 164 , sMax = 255, vMax = 255)\n",
      "(hMin = 141 , sMin = 0, vMin = 0), (hMax = 163 , sMax = 255, vMax = 255)\n",
      "(hMin = 141 , sMin = 0, vMin = 0), (hMax = 162 , sMax = 255, vMax = 255)\n",
      "(hMin = 141 , sMin = 0, vMin = 0), (hMax = 161 , sMax = 255, vMax = 255)\n",
      "(hMin = 141 , sMin = 0, vMin = 0), (hMax = 160 , sMax = 255, vMax = 255)\n",
      "(hMin = 141 , sMin = 0, vMin = 0), (hMax = 159 , sMax = 255, vMax = 255)\n",
      "(hMin = 141 , sMin = 0, vMin = 0), (hMax = 158 , sMax = 255, vMax = 255)\n",
      "(hMin = 141 , sMin = 0, vMin = 0), (hMax = 161 , sMax = 255, vMax = 255)\n",
      "(hMin = 141 , sMin = 0, vMin = 0), (hMax = 164 , sMax = 255, vMax = 255)\n",
      "(hMin = 141 , sMin = 0, vMin = 0), (hMax = 166 , sMax = 255, vMax = 255)\n",
      "(hMin = 141 , sMin = 0, vMin = 0), (hMax = 168 , sMax = 255, vMax = 255)\n",
      "(hMin = 141 , sMin = 0, vMin = 0), (hMax = 169 , sMax = 255, vMax = 255)\n",
      "(hMin = 141 , sMin = 0, vMin = 0), (hMax = 170 , sMax = 255, vMax = 255)\n",
      "(hMin = 141 , sMin = 0, vMin = 0), (hMax = 172 , sMax = 255, vMax = 255)\n",
      "(hMin = 141 , sMin = 0, vMin = 0), (hMax = 179 , sMax = 255, vMax = 255)\n",
      "(hMin = 141 , sMin = 0, vMin = 0), (hMax = 179 , sMax = 251, vMax = 255)\n",
      "(hMin = 141 , sMin = 0, vMin = 0), (hMax = 179 , sMax = 247, vMax = 255)\n",
      "(hMin = 141 , sMin = 0, vMin = 0), (hMax = 179 , sMax = 244, vMax = 255)\n",
      "(hMin = 141 , sMin = 0, vMin = 0), (hMax = 179 , sMax = 242, vMax = 255)\n",
      "(hMin = 141 , sMin = 0, vMin = 0), (hMax = 179 , sMax = 240, vMax = 255)\n",
      "(hMin = 141 , sMin = 0, vMin = 0), (hMax = 179 , sMax = 239, vMax = 255)\n",
      "(hMin = 141 , sMin = 0, vMin = 0), (hMax = 179 , sMax = 238, vMax = 255)\n",
      "(hMin = 141 , sMin = 0, vMin = 0), (hMax = 179 , sMax = 237, vMax = 255)\n",
      "(hMin = 141 , sMin = 0, vMin = 0), (hMax = 179 , sMax = 233, vMax = 255)\n",
      "(hMin = 141 , sMin = 0, vMin = 0), (hMax = 179 , sMax = 230, vMax = 255)\n",
      "(hMin = 141 , sMin = 0, vMin = 0), (hMax = 179 , sMax = 224, vMax = 255)\n",
      "(hMin = 141 , sMin = 0, vMin = 0), (hMax = 179 , sMax = 220, vMax = 255)\n",
      "(hMin = 141 , sMin = 0, vMin = 0), (hMax = 179 , sMax = 218, vMax = 255)\n",
      "(hMin = 141 , sMin = 0, vMin = 0), (hMax = 179 , sMax = 216, vMax = 255)\n",
      "(hMin = 141 , sMin = 0, vMin = 0), (hMax = 179 , sMax = 213, vMax = 255)\n",
      "(hMin = 141 , sMin = 0, vMin = 0), (hMax = 179 , sMax = 209, vMax = 255)\n",
      "(hMin = 141 , sMin = 0, vMin = 0), (hMax = 179 , sMax = 206, vMax = 255)\n",
      "(hMin = 141 , sMin = 0, vMin = 0), (hMax = 179 , sMax = 199, vMax = 255)\n",
      "(hMin = 141 , sMin = 0, vMin = 0), (hMax = 179 , sMax = 193, vMax = 255)\n",
      "(hMin = 141 , sMin = 0, vMin = 0), (hMax = 179 , sMax = 184, vMax = 255)\n",
      "(hMin = 141 , sMin = 0, vMin = 0), (hMax = 179 , sMax = 179, vMax = 255)\n",
      "(hMin = 141 , sMin = 0, vMin = 0), (hMax = 179 , sMax = 170, vMax = 255)\n"
     ]
    },
    {
     "name": "stdout",
     "output_type": "stream",
     "text": [
      "(hMin = 141 , sMin = 0, vMin = 0), (hMax = 179 , sMax = 164, vMax = 255)\n",
      "(hMin = 141 , sMin = 0, vMin = 0), (hMax = 179 , sMax = 161, vMax = 255)\n",
      "(hMin = 141 , sMin = 0, vMin = 0), (hMax = 179 , sMax = 157, vMax = 255)\n",
      "(hMin = 141 , sMin = 0, vMin = 0), (hMax = 179 , sMax = 152, vMax = 255)\n",
      "(hMin = 141 , sMin = 0, vMin = 0), (hMax = 179 , sMax = 150, vMax = 255)\n",
      "(hMin = 141 , sMin = 0, vMin = 0), (hMax = 179 , sMax = 147, vMax = 255)\n",
      "(hMin = 141 , sMin = 0, vMin = 0), (hMax = 179 , sMax = 145, vMax = 255)\n",
      "(hMin = 141 , sMin = 0, vMin = 0), (hMax = 179 , sMax = 144, vMax = 255)\n",
      "(hMin = 141 , sMin = 0, vMin = 0), (hMax = 179 , sMax = 147, vMax = 255)\n",
      "(hMin = 141 , sMin = 0, vMin = 0), (hMax = 179 , sMax = 154, vMax = 255)\n",
      "(hMin = 141 , sMin = 0, vMin = 0), (hMax = 179 , sMax = 156, vMax = 255)\n",
      "(hMin = 141 , sMin = 0, vMin = 0), (hMax = 179 , sMax = 158, vMax = 255)\n",
      "(hMin = 141 , sMin = 0, vMin = 0), (hMax = 179 , sMax = 159, vMax = 255)\n",
      "(hMin = 141 , sMin = 0, vMin = 0), (hMax = 179 , sMax = 160, vMax = 255)\n",
      "(hMin = 141 , sMin = 0, vMin = 0), (hMax = 179 , sMax = 161, vMax = 255)\n",
      "(hMin = 141 , sMin = 0, vMin = 0), (hMax = 179 , sMax = 162, vMax = 255)\n",
      "(hMin = 141 , sMin = 0, vMin = 0), (hMax = 179 , sMax = 162, vMax = 250)\n",
      "(hMin = 141 , sMin = 0, vMin = 0), (hMax = 179 , sMax = 162, vMax = 227)\n",
      "(hMin = 141 , sMin = 0, vMin = 0), (hMax = 179 , sMax = 162, vMax = 214)\n",
      "(hMin = 141 , sMin = 0, vMin = 0), (hMax = 179 , sMax = 162, vMax = 200)\n",
      "(hMin = 141 , sMin = 0, vMin = 0), (hMax = 179 , sMax = 162, vMax = 188)\n",
      "(hMin = 141 , sMin = 0, vMin = 0), (hMax = 179 , sMax = 162, vMax = 182)\n",
      "(hMin = 141 , sMin = 0, vMin = 0), (hMax = 179 , sMax = 162, vMax = 174)\n",
      "(hMin = 141 , sMin = 0, vMin = 0), (hMax = 179 , sMax = 162, vMax = 170)\n",
      "(hMin = 141 , sMin = 0, vMin = 0), (hMax = 179 , sMax = 162, vMax = 167)\n",
      "(hMin = 141 , sMin = 0, vMin = 0), (hMax = 179 , sMax = 162, vMax = 166)\n",
      "(hMin = 141 , sMin = 0, vMin = 0), (hMax = 179 , sMax = 162, vMax = 168)\n",
      "(hMin = 141 , sMin = 0, vMin = 0), (hMax = 179 , sMax = 162, vMax = 173)\n",
      "(hMin = 141 , sMin = 0, vMin = 0), (hMax = 179 , sMax = 162, vMax = 176)\n",
      "(hMin = 141 , sMin = 0, vMin = 0), (hMax = 179 , sMax = 162, vMax = 180)\n",
      "(hMin = 141 , sMin = 0, vMin = 0), (hMax = 179 , sMax = 162, vMax = 184)\n",
      "(hMin = 141 , sMin = 0, vMin = 0), (hMax = 179 , sMax = 162, vMax = 192)\n",
      "(hMin = 141 , sMin = 0, vMin = 0), (hMax = 179 , sMax = 162, vMax = 196)\n",
      "(hMin = 141 , sMin = 0, vMin = 0), (hMax = 179 , sMax = 162, vMax = 203)\n",
      "(hMin = 141 , sMin = 0, vMin = 0), (hMax = 179 , sMax = 162, vMax = 216)\n",
      "(hMin = 141 , sMin = 0, vMin = 0), (hMax = 179 , sMax = 162, vMax = 220)\n",
      "(hMin = 141 , sMin = 0, vMin = 8), (hMax = 179 , sMax = 162, vMax = 220)\n",
      "(hMin = 141 , sMin = 0, vMin = 24), (hMax = 179 , sMax = 162, vMax = 220)\n",
      "(hMin = 141 , sMin = 0, vMin = 35), (hMax = 179 , sMax = 162, vMax = 220)\n",
      "(hMin = 141 , sMin = 0, vMin = 43), (hMax = 179 , sMax = 162, vMax = 220)\n",
      "(hMin = 141 , sMin = 0, vMin = 46), (hMax = 179 , sMax = 162, vMax = 220)\n",
      "(hMin = 141 , sMin = 0, vMin = 49), (hMax = 179 , sMax = 162, vMax = 220)\n",
      "(hMin = 141 , sMin = 0, vMin = 53), (hMax = 179 , sMax = 162, vMax = 220)\n",
      "(hMin = 141 , sMin = 0, vMin = 57), (hMax = 179 , sMax = 162, vMax = 220)\n",
      "(hMin = 141 , sMin = 0, vMin = 59), (hMax = 179 , sMax = 162, vMax = 220)\n",
      "(hMin = 141 , sMin = 0, vMin = 66), (hMax = 179 , sMax = 162, vMax = 220)\n",
      "(hMin = 141 , sMin = 0, vMin = 75), (hMax = 179 , sMax = 162, vMax = 220)\n",
      "(hMin = 141 , sMin = 0, vMin = 86), (hMax = 179 , sMax = 162, vMax = 220)\n",
      "(hMin = 141 , sMin = 0, vMin = 92), (hMax = 179 , sMax = 162, vMax = 220)\n",
      "(hMin = 141 , sMin = 0, vMin = 96), (hMax = 179 , sMax = 162, vMax = 220)\n",
      "(hMin = 141 , sMin = 0, vMin = 99), (hMax = 179 , sMax = 162, vMax = 220)\n",
      "(hMin = 141 , sMin = 0, vMin = 104), (hMax = 179 , sMax = 162, vMax = 220)\n",
      "(hMin = 141 , sMin = 0, vMin = 109), (hMax = 179 , sMax = 162, vMax = 220)\n",
      "(hMin = 141 , sMin = 0, vMin = 114), (hMax = 179 , sMax = 162, vMax = 220)\n",
      "(hMin = 141 , sMin = 0, vMin = 118), (hMax = 179 , sMax = 162, vMax = 220)\n",
      "(hMin = 141 , sMin = 0, vMin = 127), (hMax = 179 , sMax = 162, vMax = 220)\n",
      "(hMin = 141 , sMin = 0, vMin = 135), (hMax = 179 , sMax = 162, vMax = 220)\n",
      "(hMin = 141 , sMin = 0, vMin = 145), (hMax = 179 , sMax = 162, vMax = 220)\n",
      "(hMin = 141 , sMin = 0, vMin = 148), (hMax = 179 , sMax = 162, vMax = 220)\n",
      "(hMin = 141 , sMin = 0, vMin = 150), (hMax = 179 , sMax = 162, vMax = 220)\n",
      "(hMin = 141 , sMin = 7, vMin = 150), (hMax = 179 , sMax = 162, vMax = 220)\n",
      "(hMin = 141 , sMin = 23, vMin = 150), (hMax = 179 , sMax = 162, vMax = 220)\n",
      "(hMin = 141 , sMin = 39, vMin = 150), (hMax = 179 , sMax = 162, vMax = 220)\n",
      "(hMin = 141 , sMin = 55, vMin = 150), (hMax = 179 , sMax = 162, vMax = 220)\n",
      "(hMin = 141 , sMin = 67, vMin = 150), (hMax = 179 , sMax = 162, vMax = 220)\n",
      "(hMin = 141 , sMin = 73, vMin = 150), (hMax = 179 , sMax = 162, vMax = 220)\n",
      "(hMin = 141 , sMin = 83, vMin = 150), (hMax = 179 , sMax = 162, vMax = 220)\n",
      "(hMin = 141 , sMin = 86, vMin = 150), (hMax = 179 , sMax = 162, vMax = 220)\n",
      "(hMin = 141 , sMin = 87, vMin = 150), (hMax = 179 , sMax = 162, vMax = 220)\n",
      "(hMin = 141 , sMin = 80, vMin = 150), (hMax = 179 , sMax = 162, vMax = 220)\n",
      "(hMin = 141 , sMin = 73, vMin = 150), (hMax = 179 , sMax = 162, vMax = 220)\n",
      "(hMin = 141 , sMin = 68, vMin = 150), (hMax = 179 , sMax = 162, vMax = 220)\n",
      "(hMin = 141 , sMin = 62, vMin = 150), (hMax = 179 , sMax = 162, vMax = 220)\n",
      "(hMin = 141 , sMin = 60, vMin = 150), (hMax = 179 , sMax = 162, vMax = 220)\n",
      "(hMin = 141 , sMin = 59, vMin = 150), (hMax = 179 , sMax = 162, vMax = 220)\n"
     ]
    },
    {
     "ename": "error",
     "evalue": "OpenCV(4.8.0) D:\\a\\opencv-python\\opencv-python\\opencv\\modules\\highgui\\src\\window_w32.cpp:2561: error: (-27:Null pointer) NULL window: 'image' in function 'cvGetTrackbarPos'\n",
     "output_type": "error",
     "traceback": [
      "\u001b[1;31m---------------------------------------------------------------------------\u001b[0m",
      "\u001b[1;31merror\u001b[0m                                     Traceback (most recent call last)",
      "Cell \u001b[1;32mIn[26], line 33\u001b[0m\n\u001b[0;32m     29\u001b[0m phMin \u001b[38;5;241m=\u001b[39m psMin \u001b[38;5;241m=\u001b[39m pvMin \u001b[38;5;241m=\u001b[39m phMax \u001b[38;5;241m=\u001b[39m psMax \u001b[38;5;241m=\u001b[39m pvMax \u001b[38;5;241m=\u001b[39m \u001b[38;5;241m0\u001b[39m\n\u001b[0;32m     31\u001b[0m \u001b[38;5;28;01mwhile\u001b[39;00m(\u001b[38;5;241m1\u001b[39m):\n\u001b[0;32m     32\u001b[0m     \u001b[38;5;66;03m# Get current positions of all trackbars\u001b[39;00m\n\u001b[1;32m---> 33\u001b[0m     hMin \u001b[38;5;241m=\u001b[39m \u001b[43mcv2\u001b[49m\u001b[38;5;241;43m.\u001b[39;49m\u001b[43mgetTrackbarPos\u001b[49m\u001b[43m(\u001b[49m\u001b[38;5;124;43m'\u001b[39;49m\u001b[38;5;124;43mHMin\u001b[39;49m\u001b[38;5;124;43m'\u001b[39;49m\u001b[43m,\u001b[49m\u001b[43m \u001b[49m\u001b[38;5;124;43m'\u001b[39;49m\u001b[38;5;124;43mimage\u001b[39;49m\u001b[38;5;124;43m'\u001b[39;49m\u001b[43m)\u001b[49m\n\u001b[0;32m     34\u001b[0m     sMin \u001b[38;5;241m=\u001b[39m cv2\u001b[38;5;241m.\u001b[39mgetTrackbarPos(\u001b[38;5;124m'\u001b[39m\u001b[38;5;124mSMin\u001b[39m\u001b[38;5;124m'\u001b[39m, \u001b[38;5;124m'\u001b[39m\u001b[38;5;124mimage\u001b[39m\u001b[38;5;124m'\u001b[39m)\n\u001b[0;32m     35\u001b[0m     vMin \u001b[38;5;241m=\u001b[39m cv2\u001b[38;5;241m.\u001b[39mgetTrackbarPos(\u001b[38;5;124m'\u001b[39m\u001b[38;5;124mVMin\u001b[39m\u001b[38;5;124m'\u001b[39m, \u001b[38;5;124m'\u001b[39m\u001b[38;5;124mimage\u001b[39m\u001b[38;5;124m'\u001b[39m)\n",
      "\u001b[1;31merror\u001b[0m: OpenCV(4.8.0) D:\\a\\opencv-python\\opencv-python\\opencv\\modules\\highgui\\src\\window_w32.cpp:2561: error: (-27:Null pointer) NULL window: 'image' in function 'cvGetTrackbarPos'\n"
     ]
    }
   ],
   "source": [
    "import cv2\n",
    "import numpy as np\n",
    "\n",
    "def nothing(x):\n",
    "    pass\n",
    "\n",
    "# Load image\n",
    "image = cv2.imread('tree.jpg')\n",
    "\n",
    "# Create a window\n",
    "cv2.namedWindow('image')\n",
    "\n",
    "# Create trackbars for color change\n",
    "# Hue is from 0-179 for Opencv\n",
    "cv2.createTrackbar('HMin', 'image', 0, 179, nothing)\n",
    "cv2.createTrackbar('SMin', 'image', 0, 255, nothing)\n",
    "cv2.createTrackbar('VMin', 'image', 0, 255, nothing)\n",
    "cv2.createTrackbar('HMax', 'image', 0, 179, nothing)\n",
    "cv2.createTrackbar('SMax', 'image', 0, 255, nothing)\n",
    "cv2.createTrackbar('VMax', 'image', 0, 255, nothing)\n",
    "\n",
    "# Set default value for Max HSV trackbars\n",
    "cv2.setTrackbarPos('HMax', 'image', 179)\n",
    "cv2.setTrackbarPos('SMax', 'image', 255)\n",
    "cv2.setTrackbarPos('VMax', 'image', 255)\n",
    "\n",
    "# Initialize HSV min/max values\n",
    "hMin = sMin = vMin = hMax = sMax = vMax = 0\n",
    "phMin = psMin = pvMin = phMax = psMax = pvMax = 0\n",
    "\n",
    "while(1):\n",
    "    # Get current positions of all trackbars\n",
    "    hMin = cv2.getTrackbarPos('HMin', 'image')\n",
    "    sMin = cv2.getTrackbarPos('SMin', 'image')\n",
    "    vMin = cv2.getTrackbarPos('VMin', 'image')\n",
    "    hMax = cv2.getTrackbarPos('HMax', 'image')\n",
    "    sMax = cv2.getTrackbarPos('SMax', 'image')\n",
    "    vMax = cv2.getTrackbarPos('VMax', 'image')\n",
    "\n",
    "    # Set minimum and maximum HSV values to display\n",
    "    lower = np.array([hMin, sMin, vMin])\n",
    "    upper = np.array([hMax, sMax, vMax])\n",
    "\n",
    "    # Convert to HSV format and color threshold\n",
    "    hsv = cv2.cvtColor(image, cv2.COLOR_BGR2HSV)\n",
    "    mask = cv2.inRange(hsv, lower, upper)\n",
    "    result = cv2.bitwise_and(image, image, mask=mask)\n",
    "\n",
    "    # Print if there is a change in HSV value\n",
    "    if((phMin != hMin) | (psMin != sMin) | (pvMin != vMin) | (phMax != hMax) | (psMax != sMax) | (pvMax != vMax) ):\n",
    "        print(\"(hMin = %d , sMin = %d, vMin = %d), (hMax = %d , sMax = %d, vMax = %d)\" % (hMin , sMin , vMin, hMax, sMax , vMax))\n",
    "        phMin = hMin\n",
    "        psMin = sMin\n",
    "        pvMin = vMin\n",
    "        phMax = hMax\n",
    "        psMax = sMax\n",
    "        pvMax = vMax\n",
    "\n",
    "    # Display result image\n",
    "    cv2.imshow('image', result)\n",
    "    if cv2.waitKey(10) & 0xFF == ord('q'):\n",
    "        break\n",
    "\n",
    "cv2.destroyAllWindows()"
   ]
  },
  {
   "cell_type": "code",
   "execution_count": null,
   "id": "9c56c8de",
   "metadata": {},
   "outputs": [],
   "source": []
  },
  {
   "cell_type": "code",
   "execution_count": null,
   "id": "c047dd91",
   "metadata": {},
   "outputs": [],
   "source": []
  }
 ],
 "metadata": {
  "kernelspec": {
   "display_name": "Python 3 (ipykernel)",
   "language": "python",
   "name": "python3"
  },
  "language_info": {
   "codemirror_mode": {
    "name": "ipython",
    "version": 3
   },
   "file_extension": ".py",
   "mimetype": "text/x-python",
   "name": "python",
   "nbconvert_exporter": "python",
   "pygments_lexer": "ipython3",
   "version": "3.9.13"
  }
 },
 "nbformat": 4,
 "nbformat_minor": 5
}
