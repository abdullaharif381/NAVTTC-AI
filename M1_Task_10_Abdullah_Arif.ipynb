{
 "cells": [
  {
   "cell_type": "markdown",
   "id": "76d8f69d",
   "metadata": {},
   "source": [
    "# 1"
   ]
  },
  {
   "cell_type": "code",
   "execution_count": 11,
   "id": "4e85805c",
   "metadata": {},
   "outputs": [
    {
     "name": "stdout",
     "output_type": "stream",
     "text": [
      "this is a testing string\n",
      "Upper Case:THIS IS A TESTING STRING\n",
      "Lower Case:this is a testing string\n",
      "Title:This Is A Testing String \n"
     ]
    }
   ],
   "source": [
    "def convert(string):\n",
    "    return string.upper(),string.lower(),string.title()\n",
    "words=\"this is a testing string\"\n",
    "display = \"Upper Case:{}\\nLower Case:{}\\nTitle:{} \"\n",
    "print(words)\n",
    "a,b,c=convert(words)\n",
    "print(display.format(a,b,c))"
   ]
  },
  {
   "cell_type": "markdown",
   "id": "bbc1948f",
   "metadata": {},
   "source": [
    "## 2\n"
   ]
  },
  {
   "cell_type": "code",
   "execution_count": 278,
   "id": "a7e146b1",
   "metadata": {
    "scrolled": true
   },
   "outputs": [
    {
     "name": "stdout",
     "output_type": "stream",
     "text": [
      "{'if': 1, 'you': 48, 'embrace': 1, 'this': 22, 'method': 1, 'of': 13, 'learning,': 1, 'you’ll': 14, 'get': 1, 'the': 43, 'hang': 1, 'python': 50, 'in': 32, 'less': 6, 'time': 1, 'than': 1, 'might': 8, 'expect': 1, 'and': 21, 'knowledge': 31, 'will': 1, 'stick': 1, 'catch': 1, 'onto': 1, 'concepts': 1, 'quickly': 1, 'be': 11, 'bored,': 1, 'even': 1, 'excited': 1, 'certainly': 1, 'motivated': 1, 'feel': 1, 'confident': 1, 'instead': 1, 'frustrated': 1, 'remember': 1, 'lessons': 1, 'long': 1, 'after': 1, 'close': 1, 'book': 26, 'is': 20, 'all': 1, 'too': 1, 'much': 1, 'for': 40, 'a': 49, 'to': 47, 'promise?': 1, 'yes,': 1, 'it': 34, 'yet': 1, 'i': 1, 'can': 1, 'make': 1, 'these': 1, 'promises': 1, 'keep': 1, 'them,': 1, 'because': 1, 'isn’t': 1, 'just': 1, 'it’s': 42, 'plus': 1, 'almost': 1, 'athousand': 1, 'interactive': 1, 'online': 1, 'exercisesyou’re': 1, 'going': 46, 'learn': 1, 'by': 1, 'doing': 1, \"you'll\": 1, 'read': 1, 'chapter,': 1, 'then': 1, 'practice': 1, 'with': 1, 'exercises': 44, 'that': 45, 'way,': 1, 'gets': 1, 'embedded': 1, 'your': 35, 'memory': 1, 'so': 38, \"don't\": 1, 'forget': 1, 'instant': 1, 'feedback': 1, 'corrects': 1, 'mistakes': 1, 'like': 1, 'one-on-one': 1, 'teacher': 1, 'i’ve': 1, 'done': 1, 'my': 1, 'best': 1, 'write': 1, 'each': 1, 'chapter': 1, 'easy': 1, 'anyone': 1, 'understand,': 1, 'but': 1, 'are': 1, 'turn': 1, 'into': 1, 'real': 1, 'coder': 1}\n"
     ]
    }
   ],
   "source": [
    "para=\"If you embrace this method of learning, you’ll get the hang of Python in less time than you might expect. And the knowledge will stick. You’ll catch onto concepts quickly. You’ll be less bored, and might even be excited. You’ll certainly be motivated. You’ll feel confident instead of frustrated. You’ll remember the lessons long after you close the book. Is all this too much for a book to promise? Yes, it is. Yet I can make these promises and keep them, because this isn’t just a book. It’s a book plus almost athousand interactive online exercises.You’re going to learn by doing. You'll read a chapter, then practice with the exercises. That way, the knowledge gets embedded in your memory so you don't forget it. Instant feedback corrects your mistakes like a one-on-one teacher. I’ve done my best to write each chapter so it’s easy for anyone to understand, but it’s the exercises that are going to turn you into a real Python coder.\"\n",
    "para1=\"She sells seashells by the seashore\"\n",
    "def count_words(string):\n",
    "    words = string.replace('.','').lower().strip().split()\n",
    "    word_count = {}\n",
    "    count=0\n",
    "    for word in words:\n",
    "        if word not in word_count:\n",
    "            word_count[word] = 1\n",
    "        else:\n",
    "            count+=1\n",
    "            word_count[word] = count\n",
    "            \n",
    "    return word_count\n",
    "\n",
    "x=count_words(para)\n",
    "print(x)\n",
    "    "
   ]
  },
  {
   "cell_type": "markdown",
   "id": "40845dc5",
   "metadata": {},
   "source": [
    "## 3"
   ]
  },
  {
   "cell_type": "code",
   "execution_count": 199,
   "id": "e164a92c",
   "metadata": {
    "scrolled": true
   },
   "outputs": [
    {
     "name": "stdout",
     "output_type": "stream",
     "text": [
      "Enter Password: aslam!990A\n",
      "Password is valid\n"
     ]
    }
   ],
   "source": [
    "def validate(pwd):\n",
    "    checks=0\n",
    "    if(len(pwd)>=8): #checks if size is 8 or not\n",
    "        checks+=1    \n",
    "      \n",
    "    if(pwd.find(\" \")==-1): #cheks if space is there\n",
    "        checks+=1\n",
    "        \n",
    "    p_list=list(pwd)\n",
    "\n",
    "    for u in p_list:\n",
    "        if(u.isupper()):\n",
    "            checks+=1 #checks for upper\n",
    "            break\n",
    "\n",
    "    for l in p_list:\n",
    "        if (l.islower()): #checks for lower\n",
    "            checks+=1\n",
    "            break\n",
    "    \n",
    "    for d in p_list:\n",
    "        if(d.isdigit()): #checks if digit\n",
    "            checks+=1\n",
    "            break      \n",
    "\n",
    "    return  checks==5\n",
    "\n",
    "\n",
    "pwd=(input(\"Enter Password: \"))\n",
    "if(validate(pwd)):\n",
    "    print(\"Password is valid\")\n",
    "else:\n",
    "    print(\"Password is invalid\")"
   ]
  },
  {
   "cell_type": "markdown",
   "id": "c4c8c9e2",
   "metadata": {},
   "source": [
    "## 4"
   ]
  },
  {
   "cell_type": "code",
   "execution_count": 289,
   "id": "15145d19",
   "metadata": {},
   "outputs": [
    {
     "name": "stdout",
     "output_type": "stream",
     "text": [
      "Username : my_email123\n",
      "Domain Name : example.com\n",
      "Extension : com\n"
     ]
    }
   ],
   "source": [
    "email=\"abdullah@gmail.com\"\n",
    "def parse(email):\n",
    "\n",
    "    e=email.split('@')\n",
    "    address={}\n",
    "    address[\"Username\"]=e[0]\n",
    "    address[\"Domain Name\"]=e[1]\n",
    "    e=email.split('.')\n",
    "    address[\"Extension\"]=e[1]\n",
    "    return address\n",
    "\n",
    "email=\"my_email123@example.com\"\n",
    "parts=parse(email)\n",
    "for key,val in parts.items():\n",
    "    print(key,\":\",val)\n"
   ]
  },
  {
   "cell_type": "markdown",
   "id": "bd4037a1",
   "metadata": {},
   "source": [
    "## 5"
   ]
  },
  {
   "cell_type": "code",
   "execution_count": 290,
   "id": "29553d82",
   "metadata": {},
   "outputs": [
    {
     "data": {
      "text/plain": [
       "'Aslam Deserves That The Most'"
      ]
     },
     "execution_count": 290,
     "metadata": {},
     "output_type": "execute_result"
    }
   ],
   "source": [
    "def conc(strs):\n",
    "    para=' '.join(strs)\n",
    "    return para.title()\n",
    "\n",
    "conc(['aslam','deserves','that','the','most'])\n",
    "    "
   ]
  },
  {
   "cell_type": "markdown",
   "id": "c5b6f537",
   "metadata": {},
   "source": [
    "## 6"
   ]
  },
  {
   "cell_type": "code",
   "execution_count": 277,
   "id": "8c65ad40",
   "metadata": {
    "scrolled": false
   },
   "outputs": [
    {
     "name": "stdout",
     "output_type": "stream",
     "text": [
      "Detartrated\n",
      "The word is a palindrome\n"
     ]
    }
   ],
   "source": [
    "def is_palindrome(word):\n",
    "    name=word.lower() #converts to lower\n",
    "   \n",
    "    listt=list(name) #converts string into list\n",
    "    \n",
    "    listt.reverse() #reverse the string\n",
    "   \n",
    "    rev_name=''.join(listt) #join every string in list together making it a complete string\n",
    "    \n",
    "    return name==rev_name #check if same\n",
    "    \n",
    "    \n",
    "name=input()\n",
    "if(is_palindrome(name)):\n",
    "    print(\"The word is a palindrome\")\n",
    "else:\n",
    "    print(\"Just another word\")\n",
    "        \n"
   ]
  },
  {
   "cell_type": "code",
   "execution_count": 279,
   "id": "15591374",
   "metadata": {},
   "outputs": [
    {
     "data": {
      "text/plain": [
       "False"
      ]
     },
     "execution_count": 279,
     "metadata": {},
     "output_type": "execute_result"
    }
   ],
   "source": [
    "a='Abc'\n",
    "a.isupper()"
   ]
  },
  {
   "cell_type": "markdown",
   "id": "398094a1",
   "metadata": {},
   "source": [
    "### just for fun"
   ]
  },
  {
   "cell_type": "code",
   "execution_count": 249,
   "id": "5982c1db",
   "metadata": {},
   "outputs": [
    {
     "name": "stdout",
     "output_type": "stream",
     "text": [
      "3 = 1 + 2\n",
      "4 = 1 + 3\n",
      "5 = 1 + 4\n",
      "5 = 2 + 3\n"
     ]
    }
   ],
   "source": [
    "#this program sums to numbers in a list and checks if the sum is present in the list \n",
    "listt=[1,2,3,4,5,10] #list\n",
    "size=len(listt) #size declared\n",
    "for i in range(size): #first complete loop\n",
    "    summ=0 #sum initialized to 0\n",
    "    for j in range(i+1, size): #second loop starting from i index and ending at the last index of list\n",
    "        summ=listt[i]+listt[j] #addition of value at i and value at j\n",
    "        for k in range(size):   #third loop complete\n",
    "            if summ == listt[k]: #comparison of sum and number in k index\n",
    "                print(summ,\"=\",listt[i],\"+\", listt[j]) #print             \n",
    "\n",
    "        \n",
    "        "
   ]
  },
  {
   "cell_type": "code",
   "execution_count": 40,
   "id": "3f0732ba",
   "metadata": {
    "scrolled": false
   },
   "outputs": [
    {
     "name": "stdout",
     "output_type": "stream",
     "text": [
      "neutral\n",
      "12\n",
      "a pair of ones\n",
      "many owls together\n",
      "many lions together\n",
      "\n",
      "\n",
      "\n",
      "0\n",
      "a dozen\n",
      "snake eyes\n",
      "parliament\n",
      "pride\n",
      "\n",
      "\n",
      "\n",
      "(0, 'neutral')\n",
      "('a dozen', 12)\n",
      "('snake eyes', 'a pair of ones')\n",
      "('parliament', 'many owls together')\n",
      "('pride', 'many lions together')\n",
      "\n",
      "\n",
      "\n",
      " 0 is neutral\n",
      " a dozen is 12\n",
      " snake eyes is a pair of ones\n",
      " parliament is many owls together\n",
      " pride is many lions together\n"
     ]
    }
   ],
   "source": [
    "what_is = {0: \"neutral\",\n",
    "                      \"a dozen\": 12,\n",
    "                      \"snake eyes\": \"a pair of ones\",\n",
    "                      13: \"a baker's dozen\",\n",
    "          'parliament':'many owls together',\n",
    "          'pride':'many lions together'}\n",
    "what_is[13]=\"odd number\"\n",
    "what_is[13]\n",
    "del what_is[13]\n",
    "        \n",
    "for vals in what_is.values():\n",
    "    print(vals)\n",
    "print(\"\\n\\n\")\n",
    "for defs in what_is:\n",
    "    print(defs)\n",
    "print(\"\\n\\n\")\n",
    "\n",
    "for every in what_is.items():\n",
    "    print(every)\n",
    "print(\"\\n\\n\")\n",
    "\n",
    "for keys,values in what_is.items():\n",
    "    print(\"\", keys,\"is\", values)"
   ]
  },
  {
   "cell_type": "code",
   "execution_count": 43,
   "id": "bf99708e",
   "metadata": {},
   "outputs": [
    {
     "name": "stdout",
     "output_type": "stream",
     "text": [
      "c 3.11\n",
      "f 3.12\n",
      "s 3.1\n"
     ]
    }
   ],
   "source": [
    "second=((3)+(2.33*3)+(2.33*3)+(2.33)+(2.67*3)+(4)+(3.67*3)+(2*4)+(2.330))/(17)\n",
    "first=(3+2.67+3*3+2.67*3+3.33*3+2.67+3.67*3+3.33*2)/17\n",
    "cum=(second+first)/2\n",
    "print(\"c\",round(cum,2))\n",
    "print(\"f\",round(first,2))\n",
    "print(\"s\",round(second,2))"
   ]
  },
  {
   "cell_type": "code",
   "execution_count": 3,
   "id": "4461c153",
   "metadata": {},
   "outputs": [
    {
     "name": "stdout",
     "output_type": "stream",
     "text": [
      "c 3.07\n",
      "f 3.12\n",
      "s 3.1\n",
      "t 3.0\n"
     ]
    }
   ],
   "source": [
    "second=((3)+(2.33*3)+(2.33*3)+(2.33)+(2.67*3)+(4)+(3.67*3)+(2*4)+(2.330))/(17)\n",
    "first=(3+2.67+3*3+2.67*3+3.33*3+2.67+3.67*3+3.33*2)/17\n",
    "third=(3*3+3)/4\n",
    "cum=(second+first+third)/3\n",
    "print(\"c\",round(cum,2))\n",
    "print(\"f\",round(first,2))\n",
    "print(\"s\",round(second,2))\n",
    "print(\"t\",round(third,2))"
   ]
  },
  {
   "cell_type": "code",
   "execution_count": null,
   "id": "83bdf5ce",
   "metadata": {},
   "outputs": [],
   "source": []
  }
 ],
 "metadata": {
  "kernelspec": {
   "display_name": "Python 3 (ipykernel)",
   "language": "python",
   "name": "python3"
  },
  "language_info": {
   "codemirror_mode": {
    "name": "ipython",
    "version": 3
   },
   "file_extension": ".py",
   "mimetype": "text/x-python",
   "name": "python",
   "nbconvert_exporter": "python",
   "pygments_lexer": "ipython3",
   "version": "3.9.13"
  }
 },
 "nbformat": 4,
 "nbformat_minor": 5
}
