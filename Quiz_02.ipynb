{
 "cells": [
  {
   "cell_type": "code",
   "execution_count": 2,
   "id": "08c06b97",
   "metadata": {},
   "outputs": [
    {
     "name": "stdout",
     "output_type": "stream",
     "text": [
      "largest: 11\n",
      "list form tupple:  [0, 2, 3, 4, 4, 0, 5]\n",
      "unique vals: [78, 381, 901, 88, 77]\n",
      "sum= 153 avg: 25.5\n",
      "[1, 2, 3]\n",
      "[2, 3, 100]\n"
     ]
    }
   ],
   "source": [
    "#question01:\n",
    "largest=0\n",
    "_list=[1,2,3,10,11,7,8,0]\n",
    "largest=_list[0]\n",
    "size=len(_list)\n",
    "i=0\n",
    "while i<size:\n",
    "    if _list[i]>largest:\n",
    "        largest=_list[i]\n",
    "    i+=1\n",
    "print(\"largest:\",largest)\n",
    "\n",
    "#question02:\n",
    "def to_list(*t):\n",
    "    arr=[]\n",
    "    for i in t:\n",
    "        arr.append(i)\n",
    "    return arr\n",
    "lis=to_list(0,2,3,4,4,0,5)\n",
    "print(\"list form tupple: \",lis)\n",
    "\n",
    "#unique:\n",
    "listt=[0,9,0,0,78,6,1,381,901,88,77,1,9,6]\n",
    "same=0\n",
    "uni=[]\n",
    "for i in listt:\n",
    "    same=0\n",
    "    for j in listt:\n",
    "        if i == j:\n",
    "            same+=1\n",
    "    if(same==1):\n",
    "        uni.append(i)\n",
    "print(\"unique vals:\", uni)\n",
    "\n",
    "#average,sum:\n",
    "listt=[12,3,5,123,5,5]\n",
    "avg=0\n",
    "lenn=len(listt)\n",
    "summ=0\n",
    "for i in listt:\n",
    "    summ+=i\n",
    "avg=summ/lenn  \n",
    "\n",
    "print(\"sum=\",summ,\"avg:\",avg)\n",
    "\n",
    "#by copy in argument\n",
    "import students as sms\n",
    "n=[1,2,3]\n",
    "print(n)\n",
    "sms.change(n)\n",
    "print(n)"
   ]
  },
  {
   "cell_type": "code",
   "execution_count": null,
   "id": "57079eab",
   "metadata": {},
   "outputs": [],
   "source": []
  }
 ],
 "metadata": {
  "kernelspec": {
   "display_name": "Python 3 (ipykernel)",
   "language": "python",
   "name": "python3"
  },
  "language_info": {
   "codemirror_mode": {
    "name": "ipython",
    "version": 3
   },
   "file_extension": ".py",
   "mimetype": "text/x-python",
   "name": "python",
   "nbconvert_exporter": "python",
   "pygments_lexer": "ipython3",
   "version": "3.9.13"
  }
 },
 "nbformat": 4,
 "nbformat_minor": 5
}
