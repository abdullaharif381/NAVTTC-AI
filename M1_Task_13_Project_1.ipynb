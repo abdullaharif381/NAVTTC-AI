{
 "cells": [
  {
   "cell_type": "code",
   "execution_count": 2,
   "id": "4a7f7ce6",
   "metadata": {},
   "outputs": [],
   "source": [
    "import waste_management as wm"
   ]
  },
  {
   "cell_type": "code",
   "execution_count": null,
   "id": "8f2e4d97",
   "metadata": {},
   "outputs": [
    {
     "name": "stdout",
     "output_type": "stream",
     "text": [
      "Enter number of boxes: 4\n",
      "Enter number of shoppers: 3\n",
      "Choose the trashcan: 1\n",
      "| 0 | 0 | 0 | 0 |\n",
      "| 0 | 0 | 0 | 0 |\n",
      "| 0 | 1 | 0 | 0 |\n",
      "____________________\n",
      "Counter: [0 1 0 0]\n",
      "Choose the trashcan: 2\n",
      "| 0 | 0 | 0 | 0 |\n",
      "| 0 | 0 | 0 | 0 |\n",
      "| 0 | 1 | 1 | 0 |\n",
      "____________________\n",
      "Counter: [0 1 1 0]\n",
      "Choose the trashcan: 0\n",
      "| 0 | 0 | 0 | 0 |\n",
      "| 0 | 0 | 0 | 0 |\n",
      "| 1 | 1 | 1 | 0 |\n",
      "____________________\n",
      "Counter: [1 1 1 0]\n",
      "Choose the trashcan: 1\n",
      "| 0 | 0 | 0 | 0 |\n",
      "| 0 | 2 | 0 | 0 |\n",
      "| 1 | 1 | 1 | 0 |\n",
      "____________________\n",
      "Counter: [1 2 1 0]\n",
      "Choose the trashcan: 1\n",
      "| 0 | 3 | 0 | 0 |\n",
      "| 0 | 2 | 0 | 0 |\n",
      "| 1 | 1 | 1 | 0 |\n",
      "____________________\n",
      "Counter: [1 3 1 0]\n"
     ]
    }
   ],
   "source": [
    "box = abs(int(input(\"Enter number of boxes: \")))\n",
    "shopper = abs(int(input(\"Enter number of shoppers: \")))\n",
    "bins, counter = wm.bin_size(box, shopper)\n",
    "\n",
    "while sum(counter) != box * shopper:\n",
    "    wm.add_to_can(box, shopper, bins, counter)\n",
    "    wm.display(box, shopper, bins, counter)"
   ]
  },
  {
   "cell_type": "markdown",
   "id": "c7bd171c",
   "metadata": {},
   "source": [
    "### "
   ]
  }
 ],
 "metadata": {
  "kernelspec": {
   "display_name": "Python 3 (ipykernel)",
   "language": "python",
   "name": "python3"
  },
  "language_info": {
   "codemirror_mode": {
    "name": "ipython",
    "version": 3
   },
   "file_extension": ".py",
   "mimetype": "text/x-python",
   "name": "python",
   "nbconvert_exporter": "python",
   "pygments_lexer": "ipython3",
   "version": "3.9.13"
  }
 },
 "nbformat": 4,
 "nbformat_minor": 5
}
