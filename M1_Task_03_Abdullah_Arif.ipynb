{
 "cells": [
  {
   "cell_type": "code",
   "execution_count": 2,
   "id": "103c4b12",
   "metadata": {},
   "outputs": [],
   "source": [
    "a=[9,3,1,3,32,234,123,-823,123,231,324,213,45,123,8812,-12]"
   ]
  },
  {
   "cell_type": "code",
   "execution_count": 9,
   "id": "b2566c70",
   "metadata": {},
   "outputs": [
    {
     "name": "stdout",
     "output_type": "stream",
     "text": [
      "[-823, -12, 1, 3, 3, 9, 32, 45, 123, 123, 123, 213, 231, 234, 324, 8812, 381, 2, 381, 901, -10]\n",
      "sum: 11096\n",
      "min: -823\n",
      "max: 8812\n",
      "length: 21\n"
     ]
    }
   ],
   "source": [
    "\n",
    "print(a)\n",
    "\n",
    "print(\"sum:\",sum(a))\n",
    "\n",
    "print(\"min:\",min(a))\n",
    "\n",
    "print(\"max:\",max(a))\n",
    "\n",
    "print(\"length:\",len(a))\n",
    "\n",
    "\n",
    "\n",
    "\n",
    "\n"
   ]
  },
  {
   "cell_type": "code",
   "execution_count": 10,
   "id": "6825e444",
   "metadata": {},
   "outputs": [
    {
     "name": "stdout",
     "output_type": "stream",
     "text": [
      "[-823, -12, 1, 3, 3, 9, 32, 45, 123, 123, 123, 213, 231, 234, 324, 8812, 381, 2, 381, 901, -10, 381, 2, 381, 901, -10]\n"
     ]
    }
   ],
   "source": [
    "a.extend([381,2,381,901,-10])\n",
    "print(a)"
   ]
  },
  {
   "cell_type": "code",
   "execution_count": 11,
   "id": "d572f5e8",
   "metadata": {},
   "outputs": [
    {
     "name": "stdout",
     "output_type": "stream",
     "text": [
      "[-10, 901, 381, 2, 381, -10, 901, 381, 2, 381, 8812, 324, 234, 231, 213, 123, 123, 123, 45, 32, 9, 3, 3, 1, -12, -823]\n"
     ]
    }
   ],
   "source": [
    "a.reverse()\n",
    "print(a)"
   ]
  },
  {
   "cell_type": "code",
   "execution_count": 12,
   "id": "fb20d4f8",
   "metadata": {},
   "outputs": [
    {
     "name": "stdout",
     "output_type": "stream",
     "text": [
      "[-823, -12, -10, -10, 1, 2, 2, 3, 3, 9, 32, 45, 123, 123, 123, 213, 231, 234, 324, 381, 381, 381, 381, 901, 901, 8812]\n"
     ]
    }
   ],
   "source": [
    "a.sort()\n",
    "print(a)"
   ]
  },
  {
   "cell_type": "code",
   "execution_count": null,
   "id": "b75490b3",
   "metadata": {},
   "outputs": [],
   "source": [
    "a.append(\"Aslam\") #any type of data can be included in a list\n",
    "print(a) #append will add the item at the end of list"
   ]
  },
  {
   "cell_type": "code",
   "execution_count": 13,
   "id": "55dad459",
   "metadata": {},
   "outputs": [
    {
     "data": {
      "text/plain": [
       "[]"
      ]
     },
     "execution_count": 13,
     "metadata": {},
     "output_type": "execute_result"
    }
   ],
   "source": [
    "a.clear() #a becomes empty\n",
    "a"
   ]
  },
  {
   "cell_type": "code",
   "execution_count": null,
   "id": "b6813503",
   "metadata": {},
   "outputs": [],
   "source": [
    "\n",
    "\n",
    "n=\"Aslam Ali Khan\"\n",
    "print(len(\"Aslama\"))\n",
    "print(n[3])\n",
    "print(a)\n",
    "(a.reverse())\n",
    "print(a)\n",
    "print(\"(090078601)\")\n",
    "c.append(\"Aslam\")\n",
    "print(c)\n",
    "c\n",
    "\n",
    "x=['2','3','4']\n",
    "y=['5','7','9']\n",
    "z = x+y\n",
    "print(z)\n",
    "l=['*','*','*']\n",
    "m=['*','*','*']\n",
    "n = l+m\n",
    "print(n)\n",
    "j=[2,5]\n",
    "print(j*2)\n",
    "print(x)\n",
    "\n",
    "print(x)\n",
    "pov=[1,2,4,5]\n",
    "tmp=pov[1]\n",
    "pov[1]=pov[3]\n",
    "pov[3]=tmp\n",
    "print(pov)\n",
    "pov.clear()\n",
    "pov\n",
    "pov.reverse()\n",
    "pov\n",
    "\n",
    "h=[2,4,2,3,1,5]\n",
    "h[0]=-1\n",
    "print(h)\n",
    "print(h.index(2))\n",
    "\n",
    "jik=['a','-a','A','b','c', 'axzzz', 'bananz','anana']\n",
    "jik.sort()\n",
    "print(jik)\n"
   ]
  },
  {
   "cell_type": "markdown",
   "id": "f99c6bac",
   "metadata": {},
   "source": [
    " "
   ]
  }
 ],
 "metadata": {
  "kernelspec": {
   "display_name": "Python 3 (ipykernel)",
   "language": "python",
   "name": "python3"
  },
  "language_info": {
   "codemirror_mode": {
    "name": "ipython",
    "version": 3
   },
   "file_extension": ".py",
   "mimetype": "text/x-python",
   "name": "python",
   "nbconvert_exporter": "python",
   "pygments_lexer": "ipython3",
   "version": "3.9.13"
  }
 },
 "nbformat": 4,
 "nbformat_minor": 5
}
