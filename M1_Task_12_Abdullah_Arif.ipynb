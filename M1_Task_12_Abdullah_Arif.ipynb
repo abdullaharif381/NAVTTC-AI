{
 "cells": [
  {
   "cell_type": "code",
   "execution_count": 1,
   "id": "5f487b4c",
   "metadata": {},
   "outputs": [],
   "source": [
    "import numpy as np\n",
    "from numpy import concatenate"
   ]
  },
  {
   "cell_type": "code",
   "execution_count": 2,
   "id": "c2a8d38d",
   "metadata": {},
   "outputs": [
    {
     "data": {
      "text/plain": [
       "array([[0, 1, 2],\n",
       "       [3, 4, 5],\n",
       "       [6, 7, 8]])"
      ]
     },
     "execution_count": 2,
     "metadata": {},
     "output_type": "execute_result"
    }
   ],
   "source": [
    "arr = np.arange(9).reshape(3,3)\n",
    "arr"
   ]
  },
  {
   "cell_type": "code",
   "execution_count": 3,
   "id": "4575035e",
   "metadata": {},
   "outputs": [
    {
     "data": {
      "text/plain": [
       "array([[1., 0., 0.],\n",
       "       [0., 2., 0.],\n",
       "       [0., 0., 3.]])"
      ]
     },
     "execution_count": 3,
     "metadata": {},
     "output_type": "execute_result"
    }
   ],
   "source": [
    "arr_=np.zeros(9).reshape(3,3)\n",
    "for i in range(3):\n",
    "    arr_[i,i]=i+1\n",
    "arr_"
   ]
  },
  {
   "cell_type": "code",
   "execution_count": 4,
   "id": "f31e31aa",
   "metadata": {},
   "outputs": [
    {
     "name": "stdout",
     "output_type": "stream",
     "text": [
      "[1 2 3 4 5]\n",
      "\n",
      "Mean:  3.0\n",
      "Median:  3.0\n",
      "Standard Deviation:  1.4142135623730951\n",
      "Standard variation:  2.0\n"
     ]
    }
   ],
   "source": [
    "vals=np.array([1,2,3,4,5])\n",
    "print(vals)\n",
    "print()\n",
    "print(\"Mean: \", np.mean(vals))\n",
    "print(\"Median: \", np.median(vals))\n",
    "#print(\"Mode: \", np.mode(vals))\n",
    "print(\"Standard Deviation: \", np.std(vals))\n",
    "print(\"Standard variation: \", np.var(vals))"
   ]
  },
  {
   "cell_type": "code",
   "execution_count": 5,
   "id": "c745be1a",
   "metadata": {},
   "outputs": [
    {
     "name": "stdout",
     "output_type": "stream",
     "text": [
      "A:  [[1 2 3]\n",
      " [0 0 0]] \n",
      "\n",
      " B:  [[4 5 6]] \n",
      "\n",
      "\n",
      "[[1 2 3]\n",
      " [0 0 0]\n",
      " [4 5 6]] \n",
      "\n",
      "\n",
      "[1 2 3 0 0 0 4 5 6] \n",
      "\n",
      "\n"
     ]
    }
   ],
   "source": [
    "a = np.array([[1,2,3],[0,0,0]])\n",
    "b = np.array([[4,5,6]])\n",
    "print(\"A: \",a[0:2],\"\\n\\n\",\"B: \",b,\"\\n\\n\")\n",
    "print(np.concatenate((a,b),axis=0),\"\\n\\n\")\n",
    "print(np.concatenate((a,b),axis=None),\"\\n\\n\")\n",
    "\n"
   ]
  },
  {
   "cell_type": "code",
   "execution_count": 6,
   "id": "0a310b80",
   "metadata": {},
   "outputs": [
    {
     "name": "stdout",
     "output_type": "stream",
     "text": [
      "[[ 5 12]\n",
      " [21 32]]\n"
     ]
    },
    {
     "data": {
      "text/plain": [
       "array([[19, 22],\n",
       "       [43, 50]])"
      ]
     },
     "execution_count": 6,
     "metadata": {},
     "output_type": "execute_result"
    }
   ],
   "source": [
    "A = np.array([[1, 2], [3, 4]] )\n",
    "B = np.array([[5, 6], [7, 8]])\n",
    "print(A*B)\n",
    "\n",
    "C=A.dot(B)\n",
    "C"
   ]
  },
  {
   "cell_type": "code",
   "execution_count": 7,
   "id": "cc106320",
   "metadata": {},
   "outputs": [
    {
     "name": "stdout",
     "output_type": "stream",
     "text": [
      "[1 0 3 0 5 0 7 0 9 0]\n",
      "['1' 'even' '3' 'even' '5' 'even' '7' 'even' '9' 'even']\n"
     ]
    }
   ],
   "source": [
    "arr=np.array([1, 2, 3, 4, 5,6,7,8,9,10])\n",
    "print(np.where(arr%2==0,0,arr))\n",
    "print(np.where(arr%2==0,'even',arr))\n"
   ]
  },
  {
   "cell_type": "code",
   "execution_count": 8,
   "id": "6ddb4fe4",
   "metadata": {},
   "outputs": [
    {
     "name": "stdout",
     "output_type": "stream",
     "text": [
      "[[1 2 4]\n",
      " [4 5 6]\n",
      " [7 8 9]]\n",
      "Sum of each column:  12 15 19\n"
     ]
    }
   ],
   "source": [
    "A = np.array([[1, 2,4], \n",
    "              [4, 5,6],\n",
    "              [7,8,9]])\n",
    "print(A)\n",
    "print(\"Sum of each column: \",sum(A[0:3,0]),sum(A[0:3,1]),sum(A[0:3,2]))"
   ]
  },
  {
   "cell_type": "code",
   "execution_count": 9,
   "id": "049b78ae",
   "metadata": {},
   "outputs": [
    {
     "name": "stdout",
     "output_type": "stream",
     "text": [
      "[ 9  3  2  4  1 29  2  3]\n",
      "[ 0  2  3  6  7 10  1 23]\n",
      "A is greater than B at indeces: [0 1 5 6]\n"
     ]
    }
   ],
   "source": [
    "def compare(a,b):\n",
    "    index=([])    \n",
    "    return np.where(a>b)[0]\n",
    "\n",
    "\n",
    "a=np.array([9,3,2,4,1,29,2,3])\n",
    "b=np.array([0,2,3,6,7,10,1,23])\n",
    "print(a)\n",
    "print(b)\n",
    "print(\"A is greater than B at indeces:\",compare(a,b))"
   ]
  },
  {
   "cell_type": "code",
   "execution_count": 10,
   "id": "fb0c6137",
   "metadata": {},
   "outputs": [
    {
     "data": {
      "text/plain": [
       "15"
      ]
     },
     "execution_count": 10,
     "metadata": {},
     "output_type": "execute_result"
    }
   ],
   "source": [
    "A = np.array([[1, 2,3,4], \n",
    "              [3, 2,5,9],\n",
    "              [5,8,3,7],\n",
    "              [5,8,9,12]] )\n",
    "A\n",
    "n=3\n",
    "arr=np.diag(A)\n",
    "a = arr[arr%n==0]\n",
    "sum(a)\n"
   ]
  },
  {
   "cell_type": "code",
   "execution_count": 11,
   "id": "9b185e75",
   "metadata": {},
   "outputs": [
    {
     "name": "stdout",
     "output_type": "stream",
     "text": [
      "Max Row: [   1 1000    3    4]\n",
      "Min Row: [3 2 5 9]\n"
     ]
    }
   ],
   "source": [
    "def max_row(a):\n",
    "    return arr[np.argmax(np.sum(arr,axis=1))],arr[np.argmin(np.sum(arr,axis=1))]\n",
    "    \n",
    "arr = np.array([[1, 1000,3,4], \n",
    "              [3, 2,5,9],\n",
    "              [5,8,3,7],\n",
    "              [5,8,9,10]] )\n",
    "d,c=max_row(a)\n",
    "print(\"Max Row:\",d)\n",
    "print(\"Min Row:\",c)"
   ]
  },
  {
   "cell_type": "code",
   "execution_count": 12,
   "id": "2b16093f",
   "metadata": {},
   "outputs": [
    {
     "data": {
      "text/plain": [
       "array([[0.        , 0.        , 0.        , 0.        , 0.58709061],\n",
       "       [0.        , 0.        , 2.72894193, 0.        , 1.01218865],\n",
       "       [1.02213618, 0.        , 0.31578506, 0.        , 0.32972017],\n",
       "       [0.        , 0.        , 0.60538648, 1.24407166, 0.90964678],\n",
       "       [0.        , 0.22358488, 0.        , 0.        , 1.50878877]])"
      ]
     },
     "execution_count": 12,
     "metadata": {},
     "output_type": "execute_result"
    }
   ],
   "source": [
    "arr=np.random.randn(5,5)\n",
    "arr[arr<0]=0\n",
    "arr"
   ]
  },
  {
   "cell_type": "code",
   "execution_count": 13,
   "id": "abbb2f41",
   "metadata": {},
   "outputs": [
    {
     "data": {
      "text/plain": [
       "[2.3333333333333335, 3.0, 5.0]"
      ]
     },
     "execution_count": 13,
     "metadata": {},
     "output_type": "execute_result"
    }
   ],
   "source": [
    "arr=[1,2,4,3,8]\n",
    "ar=[]\n",
    "for i in range(len(arr)):\n",
    "    if i == 0 or i==(len(arr)-1):\n",
    "        continue\n",
    "    else:\n",
    "        ar.append((arr[i]+arr[i+1]+arr[i-1])/3)\n",
    "ar"
   ]
  },
  {
   "cell_type": "code",
   "execution_count": 14,
   "id": "a98c6f8b",
   "metadata": {},
   "outputs": [
    {
     "name": "stdout",
     "output_type": "stream",
     "text": [
      "[2.33333333 3.         5.        ]\n"
     ]
    }
   ],
   "source": [
    "def calculate_moving_average(arr):\n",
    "    moving_averages = np.convolve(arr, np.ones(3), mode='valid') / 3.0\n",
    "    return moving_averages\n",
    "\n",
    "numbers = np.array([1, 2, 4, 3,8])\n",
    "averages = calculate_moving_average(numbers)\n",
    "print(averages)\n"
   ]
  },
  {
   "cell_type": "code",
   "execution_count": 15,
   "id": "e5e43e17",
   "metadata": {},
   "outputs": [],
   "source": [
    "a=np.array([3,7,6,8])\n",
    "b=([1,5,4,6])"
   ]
  },
  {
   "cell_type": "code",
   "execution_count": 16,
   "id": "05f62501",
   "metadata": {},
   "outputs": [
    {
     "data": {
      "text/plain": [
       "4.0"
      ]
     },
     "execution_count": 16,
     "metadata": {},
     "output_type": "execute_result"
    }
   ],
   "source": [
    "from numpy.linalg import norm\n",
    "norm(a-b)"
   ]
  },
  {
   "cell_type": "code",
   "execution_count": 17,
   "id": "dad9471d",
   "metadata": {},
   "outputs": [
    {
     "data": {
      "text/plain": [
       "4.0"
      ]
     },
     "execution_count": 17,
     "metadata": {},
     "output_type": "execute_result"
    }
   ],
   "source": [
    "def norm_of(a,b):\n",
    "    return np.sqrt(sum(np.square(np.subtract(a,b))))\n",
    "norm_of(a,b)"
   ]
  },
  {
   "cell_type": "code",
   "execution_count": 18,
   "id": "87c6d322",
   "metadata": {},
   "outputs": [
    {
     "data": {
      "text/plain": [
       "array([0. , 0.1, 0.2, 0.3, 0.9, 1. ])"
      ]
     },
     "execution_count": 18,
     "metadata": {},
     "output_type": "execute_result"
    }
   ],
   "source": [
    "def reduce(a):\n",
    "    return np.sort(a/np.max(a))\n",
    "a = [0,1,2,3,10,9]\n",
    "reduce(a)"
   ]
  },
  {
   "cell_type": "code",
   "execution_count": 24,
   "id": "4c72b7f7",
   "metadata": {},
   "outputs": [],
   "source": [
    "def calculate_average_neighbors(arr):\n",
    "    rows = len(arr)\n",
    "    cols = len(arr[0])\n",
    "    result = [[0] * cols for _ in range(rows)]  # Create a new array to store the averages\n",
    "\n",
    "    for i in range(rows):\n",
    "        for j in range(cols):\n",
    "            sum_neighbors = 0\n",
    "            count = 0\n",
    "\n",
    "            for x in range(i - 1, i + 2):\n",
    "                for y in range(j - 1, j + 2):\n",
    "                    if 0 <= x < rows and 0 <= y < cols:\n",
    "                        sum_neighbors += arr[x][y]\n",
    "                        count += 1\n",
    "\n",
    "            result[i][j] = sum_neighbors / count\n",
    "\n",
    "    return result\n"
   ]
  },
  {
   "cell_type": "code",
   "execution_count": 39,
   "id": "f51aa2c0",
   "metadata": {},
   "outputs": [
    {
     "name": "stdout",
     "output_type": "stream",
     "text": [
      "[2.0, 1.6666666666666667, 2.0]\n",
      "[1.6666666666666667, 1.4444444444444444, 1.6666666666666667]\n",
      "[2.0, 1.6666666666666667, 2.0]\n"
     ]
    }
   ],
   "source": [
    "arr = [[1, 1, 1],\n",
    "       [1, 5, 1],\n",
    "       [1, 1, 1]]\n",
    "\n",
    "result = calculate_average_neighbors(arr)\n",
    "for row in result:\n",
    "    print(row)\n"
   ]
  },
  {
   "cell_type": "code",
   "execution_count": null,
   "id": "77519913",
   "metadata": {},
   "outputs": [],
   "source": []
  },
  {
   "cell_type": "code",
   "execution_count": null,
   "id": "2ba9e672",
   "metadata": {},
   "outputs": [],
   "source": []
  }
 ],
 "metadata": {
  "kernelspec": {
   "display_name": "Python 3 (ipykernel)",
   "language": "python",
   "name": "python3"
  },
  "language_info": {
   "codemirror_mode": {
    "name": "ipython",
    "version": 3
   },
   "file_extension": ".py",
   "mimetype": "text/x-python",
   "name": "python",
   "nbconvert_exporter": "python",
   "pygments_lexer": "ipython3",
   "version": "3.9.13"
  }
 },
 "nbformat": 4,
 "nbformat_minor": 5
}
