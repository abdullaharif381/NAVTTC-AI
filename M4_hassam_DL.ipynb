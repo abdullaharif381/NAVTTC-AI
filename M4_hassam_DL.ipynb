{
 "cells": [
  {
   "cell_type": "code",
   "execution_count": 1,
   "id": "2cbe8695",
   "metadata": {},
   "outputs": [],
   "source": [
    "import glob as gb\n",
    "import os\n",
    "import cv2 as cv\n",
    "import pandas as pd\n",
    "import numpy as np\n",
    "import tensorflow as tf\n",
    "from tensorflow.keras import layers\n",
    "from tensorflow.keras import models\n",
    "import sklearn.preprocessing as sp\n",
    "from sklearn.compose import make_column_transformer\n",
    "from sklearn.model_selection import train_test_split\n",
    "from sklearn.metrics import confusion_matrix\n",
    "import seaborn as sns\n",
    "import matplotlib.pyplot as plt"
   ]
  },
  {
   "cell_type": "code",
   "execution_count": 2,
   "id": "0c038303",
   "metadata": {},
   "outputs": [],
   "source": [
    "images=[]\n",
    "label=[]\n",
    "file=gb.glob('C:/Users/Dev/Downloads/Corit/trainingSet/')\n",
    "for root,dirs,files in os.walk(file[0]):\n",
    "    for file in files:\n",
    "        if file.endswith('.jpg'):\n",
    "            file_path = os.path.join(root,file)\n",
    "            img=cv.imread(file_path)\n",
    "            img=img.flatten()\n",
    "            images.append(img)\n",
    "            label.append(root)     "
   ]
  },
  {
   "cell_type": "code",
   "execution_count": 3,
   "id": "9f2ab0d0",
   "metadata": {},
   "outputs": [
    {
     "data": {
      "text/plain": [
       "array([['C:/Users/Dev/Downloads/Corit/trainingSet/trainingSet\\\\0'],\n",
       "       ['C:/Users/Dev/Downloads/Corit/trainingSet/trainingSet\\\\0'],\n",
       "       ['C:/Users/Dev/Downloads/Corit/trainingSet/trainingSet\\\\0'],\n",
       "       ...,\n",
       "       ['C:/Users/Dev/Downloads/Corit/trainingSet/trainingSet\\\\9'],\n",
       "       ['C:/Users/Dev/Downloads/Corit/trainingSet/trainingSet\\\\9'],\n",
       "       ['C:/Users/Dev/Downloads/Corit/trainingSet/trainingSet\\\\9']],\n",
       "      dtype='<U54')"
      ]
     },
     "execution_count": 3,
     "metadata": {},
     "output_type": "execute_result"
    }
   ],
   "source": [
    "image=np.array(images)\n",
    "labels=np.array(label)\n",
    "labels=labels.reshape(-1,1)\n",
    "labels"
   ]
  },
  {
   "cell_type": "code",
   "execution_count": 4,
   "id": "749fa328",
   "metadata": {},
   "outputs": [
    {
     "data": {
      "text/plain": [
       "array([[1., 0., 0., ..., 0., 0., 0.],\n",
       "       [1., 0., 0., ..., 0., 0., 0.],\n",
       "       [1., 0., 0., ..., 0., 0., 0.],\n",
       "       ...,\n",
       "       [0., 0., 0., ..., 0., 0., 1.],\n",
       "       [0., 0., 0., ..., 0., 0., 1.],\n",
       "       [0., 0., 0., ..., 0., 0., 1.]])"
      ]
     },
     "execution_count": 4,
     "metadata": {},
     "output_type": "execute_result"
    }
   ],
   "source": [
    "encoder_y=sp.OneHotEncoder()\n",
    "Y=encoder_y.fit_transform(labels).toarray()\n",
    "Y"
   ]
  },
  {
   "cell_type": "code",
   "execution_count": 5,
   "id": "663267d4",
   "metadata": {},
   "outputs": [
    {
     "name": "stdout",
     "output_type": "stream",
     "text": [
      "Model: \"sequential\"\n",
      "_________________________________________________________________\n",
      " Layer (type)                Output Shape              Param #   \n",
      "=================================================================\n",
      " dense (Dense)               (None, 1024)              43009024  \n",
      "                                                                 \n",
      " dense_1 (Dense)             (None, 512)               524800    \n",
      "                                                                 \n",
      " dense_2 (Dense)             (None, 256)               131328    \n",
      "                                                                 \n",
      " dense_3 (Dense)             (None, 128)               32896     \n",
      "                                                                 \n",
      " dense_4 (Dense)             (None, 64)                8256      \n",
      "                                                                 \n",
      " dense_5 (Dense)             (None, 32)                2080      \n",
      "                                                                 \n",
      " dense_6 (Dense)             (None, 16)                528       \n",
      "                                                                 \n",
      " dense_7 (Dense)             (None, 12)                204       \n",
      "                                                                 \n",
      " dense_8 (Dense)             (None, 10)                130       \n",
      "                                                                 \n",
      "=================================================================\n",
      "Total params: 43709246 (166.74 MB)\n",
      "Trainable params: 43709246 (166.74 MB)\n",
      "Non-trainable params: 0 (0.00 Byte)\n",
      "_________________________________________________________________\n"
     ]
    },
    {
     "data": {
      "text/plain": [
       "NoneType"
      ]
     },
     "execution_count": 5,
     "metadata": {},
     "output_type": "execute_result"
    }
   ],
   "source": [
    "model=models.Sequential()\n",
    "model.add(layers.Dense(1024, input_dim=42000, activation='relu'))\n",
    "model.add(layers.Dense(512, activation='relu'))\n",
    "model.add(layers.Dense(256, activation='relu'))\n",
    "model.add(layers.Dense(128, activation='relu'))\n",
    "model.add(layers.Dense(64, activation='relu'))\n",
    "model.add(layers.Dense(32, activation='relu'))\n",
    "model.add(layers.Dense(16, activation='relu'))\n",
    "model.add(layers.Dense(12, activation='relu'))\n",
    "model.add(layers.Dense(10, activation='softmax'))\n",
    "type(model.summary())"
   ]
  },
  {
   "cell_type": "code",
   "execution_count": null,
   "id": "7390cee5",
   "metadata": {},
   "outputs": [],
   "source": [
    "model.compile(loss='categorical_crossentropy',optimizer='adam',metrics=['accuracy'])\n",
    "model.fit(images,Y,validation_split=0.1,epochs=1)"
   ]
  },
  {
   "cell_type": "code",
   "execution_count": null,
   "id": "42287703",
   "metadata": {},
   "outputs": [],
   "source": []
  }
 ],
 "metadata": {
  "kernelspec": {
   "display_name": "Python 3 (ipykernel)",
   "language": "python",
   "name": "python3"
  },
  "language_info": {
   "codemirror_mode": {
    "name": "ipython",
    "version": 3
   },
   "file_extension": ".py",
   "mimetype": "text/x-python",
   "name": "python",
   "nbconvert_exporter": "python",
   "pygments_lexer": "ipython3",
   "version": "3.9.13"
  }
 },
 "nbformat": 4,
 "nbformat_minor": 5
}
