{
 "cells": [
  {
   "cell_type": "code",
   "execution_count": 2,
   "id": "f20a7e71",
   "metadata": {},
   "outputs": [],
   "source": [
    "import shapes as sp"
   ]
  },
  {
   "cell_type": "code",
   "execution_count": 1,
   "id": "b70cd581",
   "metadata": {},
   "outputs": [],
   "source": [
    "import calculator as calc"
   ]
  },
  {
   "cell_type": "code",
   "execution_count": 5,
   "id": "5e855680",
   "metadata": {},
   "outputs": [
    {
     "name": "stdout",
     "output_type": "stream",
     "text": [
      "Enter Radius = 3\n",
      "Area of circle:  28.27\n"
     ]
    }
   ],
   "source": [
    "r= int(input(\"Enter Radius = \"))\n",
    "area = sp.circle_area(r)\n",
    "print(\"Area of circle: \",\"%.2f\"% area)"
   ]
  },
  {
   "cell_type": "code",
   "execution_count": 6,
   "id": "925d2765",
   "metadata": {},
   "outputs": [
    {
     "name": "stdout",
     "output_type": "stream",
     "text": [
      "Enter Radius = 3\n",
      "Area of sphere:  113.10\n"
     ]
    }
   ],
   "source": [
    "r= int(input(\"Enter Radius = \"))\n",
    "area = sp.sphere_area(r)\n",
    "print(\"Area of sphere: \",\"%.2f\"% area)"
   ]
  },
  {
   "cell_type": "code",
   "execution_count": 8,
   "id": "7e9f531f",
   "metadata": {},
   "outputs": [
    {
     "name": "stdout",
     "output_type": "stream",
     "text": [
      "Enter height = 3\n",
      "Enter base = 10\n",
      "Area of right-angle triangle:  15.00\n"
     ]
    }
   ],
   "source": [
    "x= int(input(\"Enter height = \"))\n",
    "y =int(input(\"Enter base = \"))\n",
    "area = sp.right_tri_area(x,y)\n",
    "print(\"Area of right-angle triangle: \",\"%.2f\"% area)"
   ]
  },
  {
   "cell_type": "code",
   "execution_count": 11,
   "id": "bee207fc",
   "metadata": {},
   "outputs": [
    {
     "name": "stdout",
     "output_type": "stream",
     "text": [
      "Sum of list:  417\n"
     ]
    }
   ],
   "source": [
    "lis=[1,2,3,10,20,381]\n",
    "sum_=calc.sum_list(lis)\n",
    "print(\"Sum of list: \",sum_)"
   ]
  },
  {
   "cell_type": "code",
   "execution_count": 12,
   "id": "ab3e16f7",
   "metadata": {},
   "outputs": [
    {
     "name": "stdout",
     "output_type": "stream",
     "text": [
      "Enter a number: 7\n",
      "Factorial of number is:  5040\n"
     ]
    }
   ],
   "source": [
    "num=int(input(\"Enter a number: \"))\n",
    "print(\"Factorial of number is: \", calc.fac(num))"
   ]
  },
  {
   "cell_type": "code",
   "execution_count": 3,
   "id": "98667f42",
   "metadata": {},
   "outputs": [
    {
     "name": "stdout",
     "output_type": "stream",
     "text": [
      "Enter lower bound: 10\n",
      "Enter upper bound: 20\n",
      "Enter Number: 3\n",
      "3 lies out of the range\n"
     ]
    }
   ],
   "source": [
    "#Write a Python function to check whether a number falls in a given range.\n",
    "u_bound=-1\n",
    "l_bound=0\n",
    "while(u_bound<=l_bound):\n",
    "    l_bound=int(input(\"Enter lower bound: \"))\n",
    "    u_bound=int(input(\"Enter upper bound: \"))\n",
    "num = int(input(\"Enter Number: \"))\n",
    "if (num<=u_bound and num>=l_bound):\n",
    "    print(num, \"lies in the range\")\n",
    "else:\n",
    "    print(num, \"lies out of the range\")"
   ]
  },
  {
   "cell_type": "code",
   "execution_count": 3,
   "id": "ab88f3e8",
   "metadata": {},
   "outputs": [
    {
     "name": "stdout",
     "output_type": "stream",
     "text": [
      "Enter lower bound: 10\n",
      "Enter upper bound: 100\n",
      "Enter step value: 7\n"
     ]
    },
    {
     "data": {
      "text/plain": [
       "[10, 17, 24, 31, 38, 45, 52, 59, 66, 73, 80, 87, 94]"
      ]
     },
     "execution_count": 3,
     "metadata": {},
     "output_type": "execute_result"
    }
   ],
   "source": [
    "# Write a function which can produce N numbers between given range.\n",
    "\n",
    "\n",
    "    \n",
    "u=0\n",
    "l=0\n",
    "while(u<=l):\n",
    "    l=int(input(\"Enter lower bound: \"))\n",
    "    u=int(input(\"Enter upper bound: \"))\n",
    "step = int(input(\"Enter step value: \"))\n",
    "lis=[]\n",
    "lis=(calc.nums_in(l,u,step))\n",
    "lis\n"
   ]
  },
  {
   "cell_type": "markdown",
   "id": "775e2bcd",
   "metadata": {},
   "source": []
  }
 ],
 "metadata": {
  "kernelspec": {
   "display_name": "Python 3 (ipykernel)",
   "language": "python",
   "name": "python3"
  },
  "language_info": {
   "codemirror_mode": {
    "name": "ipython",
    "version": 3
   },
   "file_extension": ".py",
   "mimetype": "text/x-python",
   "name": "python",
   "nbconvert_exporter": "python",
   "pygments_lexer": "ipython3",
   "version": "3.9.13"
  }
 },
 "nbformat": 4,
 "nbformat_minor": 5
}
