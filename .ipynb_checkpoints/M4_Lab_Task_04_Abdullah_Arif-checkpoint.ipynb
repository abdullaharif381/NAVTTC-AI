{
 "cells": [
  {
   "cell_type": "code",
   "execution_count": 1,
   "id": "6d288cf8",
   "metadata": {},
   "outputs": [],
   "source": [
    "# CMYK, RGB, HSV (hue, saturation, value)"
   ]
  },
  {
   "cell_type": "code",
   "execution_count": 2,
   "id": "f2cf44d4",
   "metadata": {},
   "outputs": [],
   "source": [
    "import cv2 as cv"
   ]
  },
  {
   "cell_type": "code",
   "execution_count": 3,
   "id": "6d559a83",
   "metadata": {},
   "outputs": [],
   "source": [
    "import numpy as np"
   ]
  },
  {
   "cell_type": "code",
   "execution_count": 4,
   "id": "ccc5f22e",
   "metadata": {},
   "outputs": [],
   "source": [
    "image=cv.imread('tree.jpg',0)\n",
    "cv.imshow(\"tree\",image)\n",
    "cv.waitKey(0)\n",
    "cv.destroyAllWindows()"
   ]
  },
  {
   "cell_type": "code",
   "execution_count": 5,
   "id": "14adc2d1",
   "metadata": {},
   "outputs": [
    {
     "data": {
      "text/plain": [
       "(797, 1199)"
      ]
     },
     "execution_count": 5,
     "metadata": {},
     "output_type": "execute_result"
    }
   ],
   "source": [
    "image.shape"
   ]
  },
  {
   "cell_type": "code",
   "execution_count": 6,
   "id": "31036d9d",
   "metadata": {},
   "outputs": [
    {
     "name": "stdout",
     "output_type": "stream",
     "text": [
      "797 pixels\n",
      "1199 pixels\n"
     ]
    }
   ],
   "source": [
    "print(int(image.shape[0]),\"pixels\")\n",
    "print(int(image.shape[1]),\"pixels\")"
   ]
  },
  {
   "cell_type": "code",
   "execution_count": 7,
   "id": "70f48676",
   "metadata": {},
   "outputs": [
    {
     "data": {
      "text/plain": [
       "True"
      ]
     },
     "execution_count": 7,
     "metadata": {},
     "output_type": "execute_result"
    }
   ],
   "source": [
    "cv.imwrite('output.jpg',image)"
   ]
  },
  {
   "cell_type": "code",
   "execution_count": 8,
   "id": "5a7ed1aa",
   "metadata": {},
   "outputs": [
    {
     "data": {
      "text/plain": [
       "True"
      ]
     },
     "execution_count": 8,
     "metadata": {},
     "output_type": "execute_result"
    }
   ],
   "source": [
    "cv.imwrite('output.png',image)"
   ]
  },
  {
   "cell_type": "code",
   "execution_count": 9,
   "id": "979d01c5",
   "metadata": {},
   "outputs": [],
   "source": [
    "imgg=cv.imread(\"city.jpg\",1)\n",
    "img=cv.resize(imgg,(900,600))\n",
    "img=cv.cvtColor(img,cv.COLOR_BGR2GRAY)\n",
    "cv.imshow(\"city\",img)\n",
    "cv.waitKey(0)\n",
    "cv.destroyAllWindows()"
   ]
  },
  {
   "cell_type": "code",
   "execution_count": 10,
   "id": "40434ced",
   "metadata": {},
   "outputs": [
    {
     "name": "stdout",
     "output_type": "stream",
     "text": [
      "[161 166 181]\n"
     ]
    }
   ],
   "source": [
    "print(imgg[10,50])"
   ]
  },
  {
   "cell_type": "code",
   "execution_count": 11,
   "id": "47058eb9",
   "metadata": {},
   "outputs": [],
   "source": [
    "img=cv.imread(\"city.jpg\",1)\n",
    "img=cv.resize(imgg,(900,600))\n",
    "hsv=cv.cvtColor(img,cv.COLOR_BGR2HSV)"
   ]
  },
  {
   "cell_type": "code",
   "execution_count": null,
   "id": "a504e6ea",
   "metadata": {},
   "outputs": [],
   "source": [
    "cv.imshow('HSV',hsv)\n",
    "cv.waitKey(0)\n",
    "cv.destroyAllWindows()"
   ]
  },
  {
   "cell_type": "code",
   "execution_count": null,
   "id": "2889fd2c",
   "metadata": {},
   "outputs": [],
   "source": [
    "cv.imshow('HSV',hsv)\n",
    "cv.waitKey(0)\n",
    "cv.destroyAllWindows()"
   ]
  }
 ],
 "metadata": {
  "kernelspec": {
   "display_name": "Python 3 (ipykernel)",
   "language": "python",
   "name": "python3"
  },
  "language_info": {
   "codemirror_mode": {
    "name": "ipython",
    "version": 3
   },
   "file_extension": ".py",
   "mimetype": "text/x-python",
   "name": "python",
   "nbconvert_exporter": "python",
   "pygments_lexer": "ipython3",
   "version": "3.9.13"
  }
 },
 "nbformat": 4,
 "nbformat_minor": 5
}
