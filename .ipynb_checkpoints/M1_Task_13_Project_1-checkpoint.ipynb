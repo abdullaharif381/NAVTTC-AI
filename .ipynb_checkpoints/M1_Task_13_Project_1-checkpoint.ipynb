{
 "cells": [
  {
   "cell_type": "code",
   "execution_count": 12,
   "id": "4a7f7ce6",
   "metadata": {},
   "outputs": [],
   "source": [
    "import numpy as np\n",
    "import waste_management as wm"
   ]
  },
  {
   "cell_type": "code",
   "execution_count": 4,
   "id": "09d674ba",
   "metadata": {},
   "outputs": [],
   "source": [
    "def bin_size(box,shopper):   \n",
    "    bins=np.zeros(box*shopper)\n",
    "    counter=np.zeros(box)\n",
    "    bins=bins.reshape(shopper,box)\n",
    "    return bins,counter"
   ]
  },
  {
   "cell_type": "code",
   "execution_count": 5,
   "id": "d907443e",
   "metadata": {},
   "outputs": [],
   "source": [
    "def add_to_can(box,shopper,bins,counter): \n",
    "    box_num=box+1\n",
    "    while(box_num>box):\n",
    "        box_num=abs(int(input(\"Choose the trashcan: \" )))\n",
    "    row=int(shopper-(counter[box_num])-1)\n",
    "    col=int(box_num)\n",
    "    bins=list(bins)\n",
    "    bins[row][col]=1\n",
    "    if(counter[box_num]<shopper):\n",
    "        counter[box_num]+=1\n",
    "    \n",
    "   "
   ]
  },
  {
   "cell_type": "code",
   "execution_count": 6,
   "id": "38208bf0",
   "metadata": {},
   "outputs": [],
   "source": [
    "def display(box,shopper,bins,counter):\n",
    "    bins=np.where(bins == 0, \" \",\"1\")\n",
    "    for i in bins:\n",
    "        for j in i:\n",
    "            print(\"| \", j,\"|\",end=\"\")\n",
    "        print(\" \")\n",
    "    print(\"_____________\")\n",
    "    print(counter)"
   ]
  },
  {
   "cell_type": "code",
   "execution_count": 7,
   "id": "b9495b14",
   "metadata": {},
   "outputs": [
    {
     "name": "stdout",
     "output_type": "stream",
     "text": [
      "Enter number of boxes: 5\n",
      "Enter number of of shoppers: 5\n"
     ]
    }
   ],
   "source": [
    "box=abs(int(input(\"Enter number of boxes: \")))\n",
    "shopper=abs(int(input(\"Enter number of of shoppers: \")))\n",
    "bins,counter=bin_size(box,shopper)"
   ]
  },
  {
   "cell_type": "code",
   "execution_count": 10,
   "id": "40d97502",
   "metadata": {},
   "outputs": [
    {
     "name": "stdout",
     "output_type": "stream",
     "text": [
      "Choose the trashcan: 3\n"
     ]
    }
   ],
   "source": [
    "add_to_can(box,shopper,bins,counter)"
   ]
  },
  {
   "cell_type": "code",
   "execution_count": 11,
   "id": "01b0735d",
   "metadata": {},
   "outputs": [
    {
     "name": "stdout",
     "output_type": "stream",
     "text": [
      "|    ||    ||    ||    ||    | \n",
      "|    ||    ||    ||    ||    | \n",
      "|    ||    ||    ||    ||    | \n",
      "|    ||    ||    ||  1 ||    | \n",
      "|    ||    ||    ||  1 ||    | \n",
      "_____________\n",
      "[0. 0. 0. 2. 0.]\n"
     ]
    }
   ],
   "source": [
    "display(box,shopper,bins,counter)"
   ]
  },
  {
   "cell_type": "code",
   "execution_count": null,
   "id": "e83f80e7",
   "metadata": {},
   "outputs": [],
   "source": []
  }
 ],
 "metadata": {
  "kernelspec": {
   "display_name": "Python 3 (ipykernel)",
   "language": "python",
   "name": "python3"
  },
  "language_info": {
   "codemirror_mode": {
    "name": "ipython",
    "version": 3
   },
   "file_extension": ".py",
   "mimetype": "text/x-python",
   "name": "python",
   "nbconvert_exporter": "python",
   "pygments_lexer": "ipython3",
   "version": "3.9.13"
  }
 },
 "nbformat": 4,
 "nbformat_minor": 5
}
