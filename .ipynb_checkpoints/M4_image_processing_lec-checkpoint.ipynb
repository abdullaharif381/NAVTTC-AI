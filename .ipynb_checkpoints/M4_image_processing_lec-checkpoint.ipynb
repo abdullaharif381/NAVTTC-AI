{
 "cells": [
  {
   "cell_type": "code",
   "execution_count": 13,
   "id": "7d7e563b",
   "metadata": {},
   "outputs": [],
   "source": []
  },
  {
   "cell_type": "code",
   "execution_count": 15,
   "id": "cedfbaa4",
   "metadata": {},
   "outputs": [
    {
     "ename": "error",
     "evalue": "OpenCV(4.8.0) :-1: error: (-5:Bad argument) in function 'imshow'\n> Overload resolution failed:\n>  - mat is not a numpy array, neither a scalar\n>  - Expected Ptr<cv::cuda::GpuMat> for argument 'mat'\n>  - Expected Ptr<cv::UMat> for argument 'mat'\n",
     "output_type": "error",
     "traceback": [
      "\u001b[1;31m---------------------------------------------------------------------------\u001b[0m",
      "\u001b[1;31merror\u001b[0m                                     Traceback (most recent call last)",
      "Cell \u001b[1;32mIn[15], line 3\u001b[0m\n\u001b[0;32m      1\u001b[0m \u001b[38;5;28;01mimport\u001b[39;00m \u001b[38;5;21;01mcv2\u001b[39;00m \u001b[38;5;28;01mas\u001b[39;00m \u001b[38;5;21;01mcv2\u001b[39;00m\n\u001b[0;32m      2\u001b[0m my_img\u001b[38;5;241m=\u001b[39m\u001b[38;5;124m\"\u001b[39m\u001b[38;5;124m1562820543136.jpg\u001b[39m\u001b[38;5;124m\"\u001b[39m\n\u001b[1;32m----> 3\u001b[0m \u001b[43mcv2\u001b[49m\u001b[38;5;241;43m.\u001b[39;49m\u001b[43mimshow\u001b[49m\u001b[43m(\u001b[49m\u001b[38;5;124;43m'\u001b[39;49m\u001b[38;5;124;43mimg\u001b[39;49m\u001b[38;5;124;43m'\u001b[39;49m\u001b[43m,\u001b[49m\u001b[43mmy_img\u001b[49m\u001b[43m)\u001b[49m\n\u001b[0;32m      4\u001b[0m cv2\u001b[38;5;241m.\u001b[39mwaitKey(\u001b[38;5;241m0\u001b[39m)\n\u001b[0;32m      5\u001b[0m cv2\u001b[38;5;241m.\u001b[39mdestroyAllWindows()\n",
      "\u001b[1;31merror\u001b[0m: OpenCV(4.8.0) :-1: error: (-5:Bad argument) in function 'imshow'\n> Overload resolution failed:\n>  - mat is not a numpy array, neither a scalar\n>  - Expected Ptr<cv::cuda::GpuMat> for argument 'mat'\n>  - Expected Ptr<cv::UMat> for argument 'mat'\n"
     ]
    }
   ],
   "source": [
    "import cv2 as cv2\n",
    "my_img=\"1562820543136.jpg\"\n",
    "cv2.imshow('img',my_img)\n",
    "cv2.waitKey(0)\n",
    "cv2.destroyAllWindows()"
   ]
  },
  {
   "cell_type": "code",
   "execution_count": 37,
   "id": "1fbd9683",
   "metadata": {},
   "outputs": [],
   "source": [
    "my_img=cv2.imread('apple.jpg',0)\n",
    "cv2.imshow('Gray Scale Image Apple',my_img)\n",
    "cv2.waitKey(0)\n",
    "cv2.destroyAllWindows()\n"
   ]
  },
  {
   "cell_type": "code",
   "execution_count": 38,
   "id": "a9440bf6",
   "metadata": {},
   "outputs": [
    {
     "data": {
      "text/plain": [
       "True"
      ]
     },
     "execution_count": 38,
     "metadata": {},
     "output_type": "execute_result"
    }
   ],
   "source": [
    "import cv2\n",
    "my_img=cv2.imread('apple.jpg',0)\n",
    "cv2.imwrite('Grayscale_apple.png',my_img)"
   ]
  },
  {
   "cell_type": "code",
   "execution_count": 18,
   "id": "169f52c3",
   "metadata": {},
   "outputs": [
    {
     "data": {
      "text/plain": [
       "(185, 273)"
      ]
     },
     "execution_count": 18,
     "metadata": {},
     "output_type": "execute_result"
    }
   ],
   "source": [
    "my_img=cv2.imread('additive.png')\n",
    "B,G,R=cv2.split(my_img)\n",
    "cv2.imshow('Blue' , R)\n",
    "cv2.waitKey(0)\n",
    "cv2.destroyAllWindows()\n",
    "B.shape"
   ]
  },
  {
   "cell_type": "code",
   "execution_count": 1,
   "id": "aa5b8b39",
   "metadata": {},
   "outputs": [
    {
     "ename": "NameError",
     "evalue": "name 'cv2' is not defined",
     "output_type": "error",
     "traceback": [
      "\u001b[1;31m---------------------------------------------------------------------------\u001b[0m",
      "\u001b[1;31mNameError\u001b[0m                                 Traceback (most recent call last)",
      "Cell \u001b[1;32mIn[1], line 1\u001b[0m\n\u001b[1;32m----> 1\u001b[0m img1\u001b[38;5;241m=\u001b[39m\u001b[43mcv2\u001b[49m\u001b[38;5;241m.\u001b[39mimread(\u001b[38;5;124m'\u001b[39m\u001b[38;5;124mmount.jpg\u001b[39m\u001b[38;5;124m'\u001b[39m)\n\u001b[0;32m      2\u001b[0m img2\u001b[38;5;241m=\u001b[39mcv2\u001b[38;5;241m.\u001b[39mimread(\u001b[38;5;124m'\u001b[39m\u001b[38;5;124mmount2.jpg\u001b[39m\u001b[38;5;124m'\u001b[39m)\n\u001b[0;32m      3\u001b[0m img1\u001b[38;5;241m=\u001b[39mcv2\u001b[38;5;241m.\u001b[39mresize(img1,(\u001b[38;5;241m550\u001b[39m,\u001b[38;5;241m550\u001b[39m))\n",
      "\u001b[1;31mNameError\u001b[0m: name 'cv2' is not defined"
     ]
    }
   ],
   "source": [
    "img1=cv2.imread('mount.jpg')\n",
    "img2=cv2.imread('mount2.jpg')\n",
    "img1=cv2.resize(img1,(550,550))\n",
    "img2=cv2.resize(img2,(550,550))\n",
    "\n",
    "add = cv2.addWeighted(img1, 0.4, img2, 0.7, gamma=None)\n",
    "cv2.imshow('ADD' , add)\n",
    "cv2.waitKey(0)\n",
    "cv2.destroyAllWindows()\n"
   ]
  },
  {
   "cell_type": "code",
   "execution_count": 3,
   "id": "10b748e9",
   "metadata": {},
   "outputs": [],
   "source": [
    "img1=cv2.imread('apple.jpg')\n",
    "img2=cv2.imread('grapes.jpg')\n",
    "img1=cv2.resize(img1,(550,550))\n",
    "img2=cv2.resize(img2,(550,550))\n",
    "sub = cv2.subtract(img2,img1)\n",
    "cv2.imshow('sub' , sub)\n",
    "cv2.waitKey(0)\n",
    "cv2.destroyAllWindows()"
   ]
  },
  {
   "cell_type": "code",
   "execution_count": 13,
   "id": "3495104f",
   "metadata": {},
   "outputs": [],
   "source": [
    "img1=cv2.imread('apple.jpg')\n",
    "img1=cv2.resize(img1,(250,250))\n",
    "img = cv2.copyMakeBorder(img1, 250, 250,250,0,cv2.BORDER_REFLECT)\n",
    "cv2.imshow('ADD' , img)\n",
    "cv2.waitKey(0)\n",
    "cv2.destroyAllWindows()\n"
   ]
  },
  {
   "cell_type": "code",
   "execution_count": 27,
   "id": "0260693f",
   "metadata": {},
   "outputs": [],
   "source": [
    "from matplotlib import pyplot as plt\n",
    "img=cv2.imread('apple.jpg')\n",
    "img=cv2.resize(img,(250,250),0)\n",
    "start=(0,250)\n",
    "end=(250,0)\n",
    "thickness=10\n",
    "color=(250,0,0)\n",
    "image = cv2.line(img, start, end, color, thickness)\n",
    "cv2.imshow('Draw Line',image)\n",
    "cv2.waitKey(0)\n",
    "cv2.destroyAllWindows()\n"
   ]
  },
  {
   "cell_type": "code",
   "execution_count": null,
   "id": "97f28bb7",
   "metadata": {},
   "outputs": [],
   "source": [
    "from matplotlib import pyplot as plt\n",
    "img=cv2.imread('apple.jpg')\n",
    "img=cv2.resize(img,(250,250))\n",
    "start=(125,0)\n",
    "end=(125,250)\n",
    "thickness=10\n",
    "color=(250,0,0)\n",
    "image = cv2.arrowedLine(img, start, end, color, thickness)\n",
    "start=(2,125)\n",
    "end=(250,125)\n",
    "thickness=10\n",
    "color=(0,250,0)\n",
    "image = cv2.arrowedLine(image, start, end, color, thickness)\n",
    "cv2.imshow('Draw Line',image)\n",
    "cv2.waitKey(0)\n",
    "cv2.destroyAllWindows()"
   ]
  },
  {
   "cell_type": "code",
   "execution_count": 15,
   "id": "e0781ffb",
   "metadata": {},
   "outputs": [],
   "source": [
    "img=cv2.imread('apple.jpg',0)\n",
    "img=cv2.resize(img,(250,250),0)"
   ]
  },
  {
   "cell_type": "code",
   "execution_count": 16,
   "id": "87a11535",
   "metadata": {},
   "outputs": [
    {
     "data": {
      "text/plain": [
       "array([[255, 255, 255, ..., 255, 255, 255],\n",
       "       [255, 255, 255, ..., 255, 255, 255],\n",
       "       [255, 255, 255, ..., 255, 255, 255],\n",
       "       ...,\n",
       "       [255, 255, 255, ..., 255, 255, 255],\n",
       "       [255, 255, 255, ..., 255, 255, 255],\n",
       "       [255, 255, 255, ..., 255, 255, 255]], dtype=uint8)"
      ]
     },
     "execution_count": 16,
     "metadata": {},
     "output_type": "execute_result"
    }
   ],
   "source": [
    "img"
   ]
  },
  {
   "cell_type": "code",
   "execution_count": 23,
   "id": "68cb97c7",
   "metadata": {},
   "outputs": [],
   "source": [
    "img[0:50,:]=0"
   ]
  },
  {
   "cell_type": "code",
   "execution_count": 24,
   "id": "6f8ec870",
   "metadata": {},
   "outputs": [],
   "source": [
    "img[200:,:]=0"
   ]
  },
  {
   "cell_type": "code",
   "execution_count": 27,
   "id": "14772079",
   "metadata": {},
   "outputs": [],
   "source": [
    "cv2.imshow('Draw Line',img)\n",
    "cv2.waitKey(0)\n",
    "cv2.destroyAllWindows()"
   ]
  },
  {
   "cell_type": "code",
   "execution_count": 22,
   "id": "a8359525",
   "metadata": {},
   "outputs": [
    {
     "data": {
      "text/plain": [
       "array([[[250,   0,   0],\n",
       "        [250,   0,   0],\n",
       "        [250,   0,   0],\n",
       "        ...,\n",
       "        [250,   0,   0],\n",
       "        [250,   0,   0],\n",
       "        [250,   0,   0]],\n",
       "\n",
       "       [[250,   0,   0],\n",
       "        [250,   0,   0],\n",
       "        [250,   0,   0],\n",
       "        ...,\n",
       "        [250,   0,   0],\n",
       "        [250,   0,   0],\n",
       "        [250,   0,   0]],\n",
       "\n",
       "       [[250,   0,   0],\n",
       "        [250,   0,   0],\n",
       "        [250,   0,   0],\n",
       "        ...,\n",
       "        [250,   0,   0],\n",
       "        [250,   0,   0],\n",
       "        [250,   0,   0]],\n",
       "\n",
       "       ...,\n",
       "\n",
       "       [[250,   0,   0],\n",
       "        [250,   0,   0],\n",
       "        [250,   0,   0],\n",
       "        ...,\n",
       "        [250,   0,   0],\n",
       "        [250,   0,   0],\n",
       "        [250,   0,   0]],\n",
       "\n",
       "       [[250,   0,   0],\n",
       "        [250,   0,   0],\n",
       "        [250,   0,   0],\n",
       "        ...,\n",
       "        [250,   0,   0],\n",
       "        [250,   0,   0],\n",
       "        [250,   0,   0]],\n",
       "\n",
       "       [[250,   0,   0],\n",
       "        [250,   0,   0],\n",
       "        [250,   0,   0],\n",
       "        ...,\n",
       "        [250,   0,   0],\n",
       "        [250,   0,   0],\n",
       "        [250,   0,   0]]], dtype=uint8)"
      ]
     },
     "execution_count": 22,
     "metadata": {},
     "output_type": "execute_result"
    }
   ],
   "source": [
    "img"
   ]
  },
  {
   "cell_type": "code",
   "execution_count": 26,
   "id": "e8a91f37",
   "metadata": {},
   "outputs": [],
   "source": [
    "img[:,0:20]=0\n",
    "img[:,230:]=0"
   ]
  },
  {
   "cell_type": "code",
   "execution_count": null,
   "id": "ee4493e1",
   "metadata": {},
   "outputs": [],
   "source": []
  }
 ],
 "metadata": {
  "kernelspec": {
   "display_name": "Python 3 (ipykernel)",
   "language": "python",
   "name": "python3"
  },
  "language_info": {
   "codemirror_mode": {
    "name": "ipython",
    "version": 3
   },
   "file_extension": ".py",
   "mimetype": "text/x-python",
   "name": "python",
   "nbconvert_exporter": "python",
   "pygments_lexer": "ipython3",
   "version": "3.9.13"
  }
 },
 "nbformat": 4,
 "nbformat_minor": 5
}
