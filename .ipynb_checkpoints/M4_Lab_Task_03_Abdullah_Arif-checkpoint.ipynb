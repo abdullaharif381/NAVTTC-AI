{
 "cells": [
  {
   "cell_type": "code",
   "execution_count": 10,
   "id": "0c2502c5",
   "metadata": {},
   "outputs": [],
   "source": [
    "import cv2 as cv2"
   ]
  },
  {
   "cell_type": "code",
   "execution_count": 11,
   "id": "122866b5",
   "metadata": {},
   "outputs": [],
   "source": [
    "mount=cv2.imread('mount.jpg',1) # 0 indicates that image is loaded in grayscale"
   ]
  },
  {
   "cell_type": "code",
   "execution_count": 12,
   "id": "56daeecc",
   "metadata": {},
   "outputs": [],
   "source": [
    "rain=cv2.imread('rain.jpg',0) # -1 indicates that image is loaded as it is"
   ]
  },
  {
   "cell_type": "code",
   "execution_count": 13,
   "id": "371cb0f8",
   "metadata": {},
   "outputs": [],
   "source": [
    "tree=cv2.imread('tree.jpg',-1) # 1 indicates that image is loaded in RGB\n"
   ]
  },
  {
   "cell_type": "code",
   "execution_count": 14,
   "id": "519934e4",
   "metadata": {},
   "outputs": [
    {
     "data": {
      "text/plain": [
       "(782, 1000)"
      ]
     },
     "execution_count": 14,
     "metadata": {},
     "output_type": "execute_result"
    }
   ],
   "source": [
    "B,G,R=cv2.split(mount) # split the images in 3 colors\n",
    "cv2.imshow('Blue' , B)\n",
    "cv2.waitKey(0)\n",
    "cv2.destroyAllWindows()\n",
    "B.shape"
   ]
  },
  {
   "cell_type": "code",
   "execution_count": 25,
   "id": "2611f4a3",
   "metadata": {},
   "outputs": [],
   "source": [
    "img1=cv2.imread('rain.jpg')\n",
    "img2=cv2.imread('tree.jpg')\n",
    "img1=cv2.resize(img1,(600,600))\n",
    "img2=cv2.resize(img2,(600,600))\n",
    "mix = cv2.addWeighted(img1, 0.25, img2, 0.65, 0)\n",
    "cv2.imshow('Filtered' , mix)\n",
    "cv2.waitKey(0)\n",
    "cv2.destroyAllWindows()"
   ]
  },
  {
   "cell_type": "code",
   "execution_count": 35,
   "id": "8a38abbd",
   "metadata": {},
   "outputs": [],
   "source": [
    "img1=cv2.imread('bowl.jpg')\n",
    "img1=cv2.resize(img1,(550,350))\n",
    "cv2.imshow('Bowl' , img1)\n",
    "cv2.waitKey(0)\n",
    "cv2.destroyAllWindows()"
   ]
  },
  {
   "cell_type": "code",
   "execution_count": 36,
   "id": "c86c72a5",
   "metadata": {},
   "outputs": [],
   "source": [
    "img2=cv2.imread('fish.jpg')\n",
    "img2=cv2.resize(img2,(550,350))\n",
    "cv2.imshow('GoldFish' , img2)\n",
    "cv2.waitKey(0)\n",
    "cv2.destroyAllWindows()"
   ]
  },
  {
   "cell_type": "code",
   "execution_count": 48,
   "id": "f9c86ece",
   "metadata": {},
   "outputs": [],
   "source": [
    "img1=cv2.imread('bowl.jpg')\n",
    "img2=cv2.imread('fish.jpg')\n",
    "img1=cv2.resize(img1,(550,350))\n",
    "img2=cv2.resize(img2,(550,350))\n",
    "mix = cv2.addWeighted(img1, 0.55, img2, 0.35, 0)\n",
    "cv2.imshow('Filtered' , mix)\n",
    "cv2.waitKey(0)\n",
    "cv2.destroyAllWindows()"
   ]
  },
  {
   "cell_type": "code",
   "execution_count": 15,
   "id": "fcba0bcf",
   "metadata": {},
   "outputs": [],
   "source": [
    "img1=cv2.imread('mount.jpg')\n",
    "img2=cv2.imread('mount2.jpg')\n",
    "img3=cv2.imread('sunny.jpg')\n",
    "img4=cv2.imread('rain.jpg')\n",
    "img1=cv2.resize(img1,(600,600))\n",
    "img2=cv2.resize(img2,(600,600))\n",
    "img3=cv2.resize(img3, (600,600))\n",
    "img4=cv2.resize(img4, (600,600))\n",
    "\n",
    "# Define the weights for each image\n",
    "w1 = 0.5\n",
    "w2 = 0.2\n",
    "w3 = 0.2\n",
    "w4=0.1\n",
    "blended1 = cv2.addWeighted(img1, 0.25, img2, 0.25, 0)\n",
    "blended2 = cv2.addWeighted(img3, 0.25, img4, 0.25, 0)\n",
    "add = cv2.addWeighted(blended1, 0.2, blended2, 0.8, 0)\n",
    "\n",
    "cv2.imshow('ADD' , add)\n",
    "cv2.waitKey(0)\n",
    "cv2.destroyAllWindows()\n"
   ]
  },
  {
   "cell_type": "code",
   "execution_count": 16,
   "id": "5b5c1199",
   "metadata": {},
   "outputs": [],
   "source": [
    "img1=cv2.imread('mount2.jpg')\n",
    "img2=cv2.imread('mount.jpg')\n",
    "img1=cv2.resize(img1,(550,550))\n",
    "img2=cv2.resize(img2,(550,550))\n",
    "sub = cv2.subtract(img2,img1)\n",
    "cv2.imshow('sub' , sub)\n",
    "cv2.waitKey(0)\n",
    "cv2.destroyAllWindows()"
   ]
  },
  {
   "cell_type": "code",
   "execution_count": 17,
   "id": "6f81ebe9",
   "metadata": {},
   "outputs": [],
   "source": [
    "img1=cv2.imread('tree.jpg')\n",
    "img1=cv2.resize(img1,(250,250))\n",
    "img = cv2.copyMakeBorder(img1, 250, 250,250,0,cv2.BORDER_REFLECT)\n",
    "cv2.imshow('ADD' , img)\n",
    "cv2.waitKey(0)\n",
    "cv2.destroyAllWindows()\n"
   ]
  },
  {
   "cell_type": "code",
   "execution_count": 18,
   "id": "1bf660bf",
   "metadata": {},
   "outputs": [],
   "source": [
    "from matplotlib import pyplot as plt\n",
    "img=cv2.imread('sunny.jpg')\n",
    "img=cv2.resize(img,(500,500))\n",
    "start=(0,0)\n",
    "end=(500,500)\n",
    "thickness=3\n",
    "color=(150,221,122)\n",
    "image = cv2.line(img, start, end, color, thickness)\n",
    "cv2.imshow('Draw Line',image)\n",
    "cv2.waitKey(0)\n",
    "cv2.destroyAllWindows()\n"
   ]
  },
  {
   "cell_type": "code",
   "execution_count": 19,
   "id": "59cada17",
   "metadata": {},
   "outputs": [],
   "source": [
    "from matplotlib import pyplot as plt\n",
    "img=cv2.imread('tree.jpg')\n",
    "img=cv2.resize(img,(250,250))\n",
    "start=(125,0)\n",
    "end=(125,250)\n",
    "thickness=3\n",
    "color=(210,220,120)\n",
    "image = cv2.arrowedLine(img, start, end, color, thickness)\n",
    "start=(2,125)\n",
    "end=(250,125)\n",
    "thickness=3\n",
    "color=(111,220,210)\n",
    "image = cv2.arrowedLine(image, start, end, color, thickness)\n",
    "start=(0,125)\n",
    "end=(250,125)\n",
    "thickness=3\n",
    "color=(31,221,55)\n",
    "image = cv2.arrowedLine(img, start, end, color, thickness)\n",
    "start=(125,2)\n",
    "end=(125,250)\n",
    "thickness=3\n",
    "color=(122,11,233)\n",
    "image = cv2.arrowedLine(image, start, end, color, thickness)\n",
    "cv2.imshow('Draw Line',image)\n",
    "cv2.waitKey(0)\n",
    "cv2.destroyAllWindows()"
   ]
  },
  {
   "cell_type": "code",
   "execution_count": 20,
   "id": "1e217946",
   "metadata": {},
   "outputs": [],
   "source": [
    "img=cv2.imread('sunny.jpg',1)\n",
    "img=cv2.resize(img,(500,500))\n",
    "img[0:25,:]=0\n",
    "img[475:,:]=0\n",
    "img[:,0:25]=0\n",
    "img[:,475:500]=0\n",
    "\n",
    "cv2.imshow('Sunny',img)\n",
    "cv2.waitKey(0)\n",
    "cv2.destroyAllWindows()"
   ]
  },
  {
   "cell_type": "code",
   "execution_count": 21,
   "id": "6440081b",
   "metadata": {},
   "outputs": [],
   "source": [
    "white=cv2.imread('white.jpg')\n",
    "white=cv2.resize(white,(400,400))\n",
    "\n",
    "for row in range(8):\n",
    "    for col in range(8):\n",
    "        x1=col * 50\n",
    "        y1=row * 50\n",
    "        x2=x1 + 50\n",
    "        y2=y1 + 50    \n",
    "        if (row + col) % 2 != 0:\n",
    "            white[y1:y2, x1:x2] = [210,250,140]\n",
    "\n",
    "cv2.imshow(\"board\",white)\n",
    "cv2.waitKey(0)\n",
    "cv2.destroyAllWindows()\n"
   ]
  },
  {
   "cell_type": "code",
   "execution_count": null,
   "id": "6bf707e1",
   "metadata": {},
   "outputs": [],
   "source": []
  }
 ],
 "metadata": {
  "kernelspec": {
   "display_name": "Python 3 (ipykernel)",
   "language": "python",
   "name": "python3"
  },
  "language_info": {
   "codemirror_mode": {
    "name": "ipython",
    "version": 3
   },
   "file_extension": ".py",
   "mimetype": "text/x-python",
   "name": "python",
   "nbconvert_exporter": "python",
   "pygments_lexer": "ipython3",
   "version": "3.9.13"
  }
 },
 "nbformat": 4,
 "nbformat_minor": 5
}
