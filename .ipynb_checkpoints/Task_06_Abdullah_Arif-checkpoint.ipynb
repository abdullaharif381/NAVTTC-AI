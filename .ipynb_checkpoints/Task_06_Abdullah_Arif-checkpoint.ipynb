{
 "cells": [
  {
   "cell_type": "code",
   "execution_count": 129,
   "id": "65e25056",
   "metadata": {},
   "outputs": [
    {
     "name": "stdout",
     "output_type": "stream",
     "text": [
      "Enter any 10 numbers: \n",
      "9\n",
      "8\n",
      "-1\n",
      "-3\n",
      "2\n",
      "4\n",
      "10\n",
      "9\n",
      "2\n",
      "3\n",
      "Smallest:  -3 Largest:  10\n"
     ]
    }
   ],
   "source": [
    "arr=[]\n",
    "i=0\n",
    "small=a[i]\n",
    "big = a[i]\n",
    "print(\"Enter any 10 numbers: \")\n",
    "while (i<10):    \n",
    "    arr.append(int(input()))\n",
    "    i+=1\n",
    "    \n",
    "    ###############\n",
    "i=0\n",
    "j=0\n",
    "\n",
    "while i < len(arr):\n",
    "    if arr[i] < small:\n",
    "        small = arr[i]\n",
    "    elif(arr[i]>big):\n",
    "        big=arr[i]\n",
    "    i += 1\n",
    "\n",
    "print(\"Smallest: \", small, \"Largest: \", big)"
   ]
  },
  {
   "cell_type": "code",
   "execution_count": 108,
   "id": "709681cc",
   "metadata": {},
   "outputs": [
    {
     "name": "stdout",
     "output_type": "stream",
     "text": [
      "Sum of elements in array:  92\n"
     ]
    }
   ],
   "source": [
    "total=0\n",
    "i=0\n",
    "while i<len(arr):\n",
    "    total=total+arr[i]\n",
    "    i+=1\n",
    "    \n",
    "print(\"Sum of elements in array: \",total)"
   ]
  },
  {
   "cell_type": "code",
   "execution_count": 109,
   "id": "feb39502",
   "metadata": {},
   "outputs": [
    {
     "name": "stdout",
     "output_type": "stream",
     "text": [
      "Product of elements in array:  0\n"
     ]
    }
   ],
   "source": [
    "total=0\n",
    "i=0\n",
    "while(i<len(arr)):\n",
    "    total*=arr[i]\n",
    "    i+=1\n",
    "    \n",
    "print(\"Product of elements in array: \",total)"
   ]
  },
  {
   "cell_type": "code",
   "execution_count": 110,
   "id": "755f017a",
   "metadata": {},
   "outputs": [
    {
     "name": "stdout",
     "output_type": "stream",
     "text": [
      "9\n",
      "02\n",
      "-2\n",
      "12\n",
      "44\n",
      "Yes!\n"
     ]
    }
   ],
   "source": [
    "arr2=[]\n",
    "i=0\n",
    "while i<5:    \n",
    "    arr2.append(int(input()))\n",
    "    i+=1\n",
    "yes = 0\n",
    "i = 0\n",
    "while i < len(arr):\n",
    "        j=0\n",
    "        while j < len(arr2):\n",
    "            if arr[i] == arr2[j]:\n",
    "                yes=1\n",
    "            j += 1\n",
    "        i += 1\n",
    "\n",
    "if(yes):\n",
    "    print(\"Yes!\")\n",
    "else:\n",
    "    print(\"No...\")"
   ]
  },
  {
   "cell_type": "code",
   "execution_count": 137,
   "id": "42c142e2",
   "metadata": {},
   "outputs": [
    {
     "name": "stdout",
     "output_type": "stream",
     "text": [
      "[9, -1, -3, 9, 3]\n"
     ]
    }
   ],
   "source": [
    "odds=[]\n",
    "for i in arr:\n",
    "    if i%2!=0:\n",
    "        odds.append(i) \n",
    "arr=odds\n",
    "print(arr)"
   ]
  },
  {
   "cell_type": "code",
   "execution_count": 14,
   "id": "8ec92c36",
   "metadata": {},
   "outputs": [
    {
     "name": "stdout",
     "output_type": "stream",
     "text": [
      "Second Smallest: -3\n"
     ]
    }
   ],
   "source": [
    "arr=[1,2,3,-1,-3,0,2,-10,0]\n",
    "i=0\n",
    "j=0\n",
    "while i < len(arr):\n",
    "    j=0\n",
    "    while j<len(arr):\n",
    "        if(arr[i]>arr[j]): #sorting highest to lowest\n",
    "            tmp = arr[i]\n",
    "            arr[i]=arr[j]\n",
    "            arr[j]=tmp\n",
    "        j+=1\n",
    "    i+=1\n",
    "print(\"Second Smallest:\", arr[len(arr)-2])\n",
    "            \n",
    "\n",
    "    \n",
    "    "
   ]
  },
  {
   "cell_type": "code",
   "execution_count": 53,
   "id": "86e1f762",
   "metadata": {
    "scrolled": true
   },
   "outputs": [
    {
     "name": "stdout",
     "output_type": "stream",
     "text": [
      "2\n",
      "3\n",
      "0\n"
     ]
    }
   ],
   "source": [
    "arr=[1,2,3,0,1,2]\n",
    "i=0\n",
    "j=0\n",
    "while i < len(arr):\n",
    "    j=0\n",
    "    while j<len(arr):\n",
    "        if(arr[i]>arr[j]):\n",
    "            tmp = arr[i]\n",
    "            arr[i]=arr[j]\n",
    "            arr[j]=tmp\n",
    "        j+=1\n",
    "    i+=1\n",
    "i=j=0\n",
    "\n",
    "            \n",
    "i=0\n",
    "j=0          \n",
    "\n",
    "yes=0\n",
    "count=-1\n",
    "arr=[1,2,3,0,1]\n",
    "for i in range(0,len(arr)):    \n",
    "    yes=0\n",
    "    for j in range(0,len(arr)):\n",
    "        if(arr[i]==arr[j]):\n",
    "            yes+=1\n",
    "    if(yes<=1):\n",
    "        print(arr[i])\n",
    "\n",
    "            \n"
   ]
  },
  {
   "cell_type": "code",
   "execution_count": 52,
   "id": "9843e3bb",
   "metadata": {},
   "outputs": [
    {
     "name": "stdout",
     "output_type": "stream",
     "text": [
      "Even: \n",
      "[2, 4, 6, 8, 10]\n",
      "Odd:\n",
      "[1, 3, 5, 7, 9]\n"
     ]
    }
   ],
   "source": [
    "a=[1,2,3,4,5,6,7,8,9,10]\n",
    "o=[]\n",
    "e=[]\n",
    "i=0\n",
    "while(i<10):\n",
    "    if(a[i]%2==0):\n",
    "        e.append(a[i])\n",
    "    else:\n",
    "        o.append(a[i])\n",
    "    i+=1\n",
    "print(\"Even: \")\n",
    "print(e)\n",
    "print(\"Odd:\")\n",
    "print(o)\n",
    "                \n",
    "        "
   ]
  },
  {
   "cell_type": "code",
   "execution_count": null,
   "id": "9794f67a",
   "metadata": {},
   "outputs": [],
   "source": []
  }
 ],
 "metadata": {
  "kernelspec": {
   "display_name": "Python 3 (ipykernel)",
   "language": "python",
   "name": "python3"
  },
  "language_info": {
   "codemirror_mode": {
    "name": "ipython",
    "version": 3
   },
   "file_extension": ".py",
   "mimetype": "text/x-python",
   "name": "python",
   "nbconvert_exporter": "python",
   "pygments_lexer": "ipython3",
   "version": "3.9.13"
  }
 },
 "nbformat": 4,
 "nbformat_minor": 5
}
