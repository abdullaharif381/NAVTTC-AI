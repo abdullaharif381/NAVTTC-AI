{
 "cells": [
  {
   "cell_type": "code",
   "execution_count": 527,
   "id": "f4817d1a",
   "metadata": {},
   "outputs": [],
   "source": [
    "import numpy as np\n",
    "from numpy import log,log2,log10,log1p,exp,sqrt,square,sign,ceil,floor,rint,modf,isnan,isfinite,isinf\n",
    "from numpy import arccos,arcsin,arctan,arccosh,arcsinh,arctanh,cos,sin,tan,sinh,cosh,tanh\n",
    "from numpy import logical_not,logical_or,logical_and,logical_xor\n",
    "from numpy import std,var,cumsum,cumprod,argmin,argmax,mean\n",
    "from numpy import diag,dot,trace\n",
    "import numpy.linalg as la\n",
    "from numpy.linalg import det,inv,pinv,svd,qr,solve\n",
    "import random as rnd"
   ]
  },
  {
   "cell_type": "markdown",
   "id": "02c37dbf",
   "metadata": {},
   "source": [
    "## 1"
   ]
  },
  {
   "cell_type": "code",
   "execution_count": 483,
   "id": "a92ad16e",
   "metadata": {},
   "outputs": [
    {
     "name": "stdout",
     "output_type": "stream",
     "text": [
      "\n",
      "\n",
      "c= [1 3 5 7 9] \n",
      "d= [ 0 20 40 60 80]\n",
      "\n",
      "\n",
      "\n",
      "Addition: [ 1 23 45 67 89]\n",
      "Subtraction: [-1 17 35 53 71]\n",
      "Multiplication [  0  60 200 420 720]\n",
      "Division: [0.         6.66666667 8.         8.57142857 8.88888889]\n"
     ]
    }
   ],
   "source": [
    "c = np.arange(1,11,2)\n",
    "d = np.arange(0,100,20)\n",
    "print(\"\\n\\nc=\",c,\"\\nd=\",d)\n",
    "print(\"\\n\\n\")\n",
    "print(\"Addition:\",c+d)\n",
    "print(\"Subtraction:\",d-c)\n",
    "print(\"Multiplication\",c*d)\n",
    "print(\"Division:\",d/c)"
   ]
  },
  {
   "cell_type": "markdown",
   "id": "7aa96426",
   "metadata": {},
   "source": [
    "## 2"
   ]
  },
  {
   "cell_type": "code",
   "execution_count": 484,
   "id": "d53cb383",
   "metadata": {},
   "outputs": [
    {
     "name": "stdout",
     "output_type": "stream",
     "text": [
      "[1 2 3]\n"
     ]
    }
   ],
   "source": [
    "\n",
    "# From values\n",
    "a = np.array([1, 2, 3])\n",
    "print(a)"
   ]
  },
  {
   "cell_type": "code",
   "execution_count": 485,
   "id": "6185cdc2",
   "metadata": {},
   "outputs": [
    {
     "name": "stdout",
     "output_type": "stream",
     "text": [
      "[4 5 6]\n"
     ]
    }
   ],
   "source": [
    "# From a Python list or tuple\n",
    "b = np.asarray((4, 5, 6))\n",
    "print(b)"
   ]
  },
  {
   "cell_type": "code",
   "execution_count": 486,
   "id": "e12c7bec",
   "metadata": {},
   "outputs": [
    {
     "name": "stdout",
     "output_type": "stream",
     "text": [
      "[1. 1. 1.]\n"
     ]
    }
   ],
   "source": [
    "# Empty array (any values)\n",
    "c = np.empty(3)\n",
    "print(c)"
   ]
  },
  {
   "cell_type": "code",
   "execution_count": 487,
   "id": "be43985a",
   "metadata": {},
   "outputs": [
    {
     "name": "stdout",
     "output_type": "stream",
     "text": [
      "[1. 1. 1.]\n"
     ]
    }
   ],
   "source": [
    "# Array of ones\n",
    "d = np.ones(3)\n",
    "print(d)"
   ]
  },
  {
   "cell_type": "code",
   "execution_count": 488,
   "id": "876f517b",
   "metadata": {},
   "outputs": [
    {
     "name": "stdout",
     "output_type": "stream",
     "text": [
      "[0. 0. 0.]\n"
     ]
    }
   ],
   "source": [
    "\n",
    "# Array of zeros\n",
    "e = np.zeros(3)\n",
    "print(e)"
   ]
  },
  {
   "cell_type": "code",
   "execution_count": 489,
   "id": "d06b1af1",
   "metadata": {},
   "outputs": [
    {
     "name": "stdout",
     "output_type": "stream",
     "text": [
      "[7 7 7 7]\n"
     ]
    }
   ],
   "source": [
    "# complete array of any value \n",
    "f = np.full((4), 7) #(np.full(size of array), number to print)\n",
    "print(f)\n"
   ]
  },
  {
   "cell_type": "code",
   "execution_count": 490,
   "id": "7a2765c1",
   "metadata": {},
   "outputs": [
    {
     "name": "stdout",
     "output_type": "stream",
     "text": [
      "[0 1 2]\n"
     ]
    }
   ],
   "source": [
    "#evenly spaced values\n",
    "h = np.arange(3)\n",
    "print(h)"
   ]
  },
  {
   "cell_type": "code",
   "execution_count": 491,
   "id": "f82b132c",
   "metadata": {},
   "outputs": [
    {
     "name": "stdout",
     "output_type": "stream",
     "text": [
      "[1 2 3]\n"
     ]
    }
   ],
   "source": [
    "# Copy an array\n",
    "g = np.copy(a)\n",
    "print(g)\n"
   ]
  },
  {
   "cell_type": "markdown",
   "id": "62dad93f",
   "metadata": {},
   "source": [
    "## 3"
   ]
  },
  {
   "cell_type": "code",
   "execution_count": 492,
   "id": "8f9f2e2a",
   "metadata": {},
   "outputs": [
    {
     "name": "stdout",
     "output_type": "stream",
     "text": [
      "[[[ 0  1  2]\n",
      "  [ 3  4  5]]\n",
      "\n",
      " [[ 6  7  8]\n",
      "  [ 9 10 11]]]\n",
      "\n"
     ]
    }
   ],
   "source": [
    "import numpy as np\n",
    "\n",
    "arr_m = np.arange(12).reshape(2, 2, 3)\n",
    "print(arr_m)\n",
    "print()\n"
   ]
  },
  {
   "cell_type": "code",
   "execution_count": 493,
   "id": "c4ffa97a",
   "metadata": {},
   "outputs": [
    {
     "name": "stdout",
     "output_type": "stream",
     "text": [
      "[[[ 0  1  2]\n",
      "  [ 3  4  5]]\n",
      "\n",
      " [[ 6  7  8]\n",
      "  [ 9 10 11]]]\n"
     ]
    }
   ],
   "source": [
    "print(arr_m[0:2])"
   ]
  },
  {
   "cell_type": "code",
   "execution_count": 494,
   "id": "2a69a79c",
   "metadata": {},
   "outputs": [
    {
     "name": "stdout",
     "output_type": "stream",
     "text": [
      "[ 9 10 11]\n",
      "[[ 2  5]\n",
      " [ 8 11]]\n"
     ]
    }
   ],
   "source": [
    "print(arr_m[1,1])\n",
    "print(arr_m[0:2,0:,2])\n"
   ]
  },
  {
   "cell_type": "markdown",
   "id": "6893b098",
   "metadata": {},
   "source": [
    "## 4"
   ]
  },
  {
   "cell_type": "code",
   "execution_count": 495,
   "id": "10b55eb8",
   "metadata": {},
   "outputs": [
    {
     "data": {
      "text/plain": [
       "1"
      ]
     },
     "execution_count": 495,
     "metadata": {},
     "output_type": "execute_result"
    }
   ],
   "source": [
    "abs(-1) #prints the absolute of any number"
   ]
  },
  {
   "cell_type": "code",
   "execution_count": 496,
   "id": "f661537f",
   "metadata": {},
   "outputs": [
    {
     "data": {
      "text/plain": [
       "2.0"
      ]
     },
     "execution_count": 496,
     "metadata": {},
     "output_type": "execute_result"
    }
   ],
   "source": [
    "sqrt(4)"
   ]
  },
  {
   "cell_type": "code",
   "execution_count": 497,
   "id": "bf2727d6",
   "metadata": {},
   "outputs": [
    {
     "data": {
      "text/plain": [
       "64"
      ]
     },
     "execution_count": 497,
     "metadata": {},
     "output_type": "execute_result"
    }
   ],
   "source": [
    "square(8) #equals to x**something"
   ]
  },
  {
   "cell_type": "code",
   "execution_count": 498,
   "id": "5fe4ca50",
   "metadata": {},
   "outputs": [
    {
     "data": {
      "text/plain": [
       "8103.083927575384"
      ]
     },
     "execution_count": 498,
     "metadata": {},
     "output_type": "execute_result"
    }
   ],
   "source": [
    "exp(0.6*15) #finds e^parameter"
   ]
  },
  {
   "cell_type": "code",
   "execution_count": 499,
   "id": "0ccf6c44",
   "metadata": {
    "scrolled": true
   },
   "outputs": [
    {
     "name": "stdout",
     "output_type": "stream",
     "text": [
      "2.995732273553991\n",
      "1.0\n",
      "0.6931471805599453\n",
      "1.0\n"
     ]
    }
   ],
   "source": [
    "print(log(20) )\n",
    "print(log2(2))\n",
    "print(log1p(1))\n",
    "print(log10(10))"
   ]
  },
  {
   "cell_type": "code",
   "execution_count": 500,
   "id": "6e97b34d",
   "metadata": {
    "scrolled": true
   },
   "outputs": [
    {
     "name": "stdout",
     "output_type": "stream",
     "text": [
      "0\n",
      "1\n",
      "-1\n"
     ]
    }
   ],
   "source": [
    "print(sign(0)) #prints 0 for neutral\n",
    "print(sign(--2)) #prints 1 for positive\n",
    "print(sign(-2)) #prints -1 for negative"
   ]
  },
  {
   "cell_type": "code",
   "execution_count": 501,
   "id": "28ee905b",
   "metadata": {
    "scrolled": true
   },
   "outputs": [
    {
     "name": "stdout",
     "output_type": "stream",
     "text": [
      "1.0\n",
      "-1.0\n"
     ]
    }
   ],
   "source": [
    "print(ceil(0.22)) #prints the nearest, upper value (whole number)\n",
    "print(floor(-0.22)) #prints the nearest, lower value (whole number)"
   ]
  },
  {
   "cell_type": "code",
   "execution_count": 502,
   "id": "9cd7eac2",
   "metadata": {},
   "outputs": [
    {
     "name": "stdout",
     "output_type": "stream",
     "text": [
      "9.0\n",
      "-2.0\n",
      "1.0\n"
     ]
    }
   ],
   "source": [
    "print(rint(9.2))\n",
    "print(rint(-2.3))\n",
    "print(rint(0.6)) \n",
    "#prints nearest integer but for 0.5 prints 0"
   ]
  },
  {
   "cell_type": "code",
   "execution_count": 503,
   "id": "a7d4e8bc",
   "metadata": {},
   "outputs": [
    {
     "name": "stdout",
     "output_type": "stream",
     "text": [
      "[False False False False False False False False]\n"
     ]
    }
   ],
   "source": [
    "p = np.array((1,2,3,1,3,123,0,-1))\n",
    "print(isnan(p))"
   ]
  },
  {
   "cell_type": "code",
   "execution_count": 504,
   "id": "b317ee42",
   "metadata": {},
   "outputs": [
    {
     "name": "stdout",
     "output_type": "stream",
     "text": [
      "[ True  True  True  True  True  True  True  True]\n",
      "[False False False False False False False False]\n"
     ]
    }
   ],
   "source": [
    "print(isfinite(p))\n",
    "print(isinf(p))"
   ]
  },
  {
   "cell_type": "code",
   "execution_count": 505,
   "id": "dbd41208",
   "metadata": {
    "scrolled": false
   },
   "outputs": [
    {
     "name": "stdout",
     "output_type": "stream",
     "text": [
      "Trig functions at 0\n",
      "0.0\n",
      "1.0\n",
      "0.0\n",
      "hyperbolic trig functions at 0:\n",
      "0.0\n",
      "1.0\n",
      "0.0\n",
      "arc trig functions at 0:\n",
      "0.0\n",
      "1.5707963267948966\n",
      "0.0\n",
      "arc hyperbolic trig functions at 0:\n",
      "0.0\n",
      "0.0\n",
      "0.0\n"
     ]
    }
   ],
   "source": [
    "print(\"Trig functions at 0\")\n",
    "print(sin(0)) #sin at 0\n",
    "print(cos(0)) #cos at 0\n",
    "print(tan(0)) #tan at 0\n",
    "print(\"hyperbolic trig functions at 0:\")\n",
    "print(sinh(0))\n",
    "print(cosh(0))\n",
    "print(tanh(0))\n",
    "print(\"arc trig functions at 0:\")\n",
    "print(arcsin(0))\n",
    "print(arccos(0))\n",
    "print(arctan(0))\n",
    "print(\"arc hyperbolic trig functions at 0:\")\n",
    "print(arcsinh(0))\n",
    "print(arccosh(1)) # gives nan (unknown) for x=0 or x<=0 and gives 0 for x=1\n",
    "print(arctanh(0))"
   ]
  },
  {
   "cell_type": "code",
   "execution_count": 506,
   "id": "c81c2afa",
   "metadata": {},
   "outputs": [
    {
     "data": {
      "text/plain": [
       "array([ True, False])"
      ]
     },
     "execution_count": 506,
     "metadata": {},
     "output_type": "execute_result"
    }
   ],
   "source": [
    "logical_not([0,1]) #inverts\n"
   ]
  },
  {
   "cell_type": "code",
   "execution_count": 507,
   "id": "da39988d",
   "metadata": {},
   "outputs": [
    {
     "data": {
      "text/plain": [
       "array([ True, False])"
      ]
     },
     "execution_count": 507,
     "metadata": {},
     "output_type": "execute_result"
    }
   ],
   "source": [
    "logical_and([1,0],[1,3]) #1 and 0 is zero\n"
   ]
  },
  {
   "cell_type": "code",
   "execution_count": 508,
   "id": "ea4b71d3",
   "metadata": {},
   "outputs": [
    {
     "data": {
      "text/plain": [
       "array([ True,  True])"
      ]
     },
     "execution_count": 508,
     "metadata": {},
     "output_type": "execute_result"
    }
   ],
   "source": [
    "logical_xor([1,1],[0,0]) #gives true if number of 1's is even\n"
   ]
  },
  {
   "cell_type": "code",
   "execution_count": 509,
   "id": "70d438e5",
   "metadata": {},
   "outputs": [
    {
     "data": {
      "text/plain": [
       "array([False,  True])"
      ]
     },
     "execution_count": 509,
     "metadata": {},
     "output_type": "execute_result"
    }
   ],
   "source": [
    "logical_or([0,1],[0,0]) #returns true if 0 or 0 and false if 0 or 1\n"
   ]
  },
  {
   "cell_type": "markdown",
   "id": "4d9c2173",
   "metadata": {},
   "source": [
    "## 5"
   ]
  },
  {
   "cell_type": "code",
   "execution_count": 510,
   "id": "912f435e",
   "metadata": {
    "scrolled": true
   },
   "outputs": [
    {
     "name": "stdout",
     "output_type": "stream",
     "text": [
      "a:  [9 7 3]\n",
      "b:  [3 4 2]\n",
      "\n",
      "\n",
      "\n",
      "Addition: [12 11  5]\n",
      "Subtraction: [6 3 1]\n",
      "Multiplication: [27 28  6]\n",
      "Division: [3.   1.75 1.5 ]\n",
      "Floor Division: [3 1 1]\n",
      "Remainder of Division: [0 3 1]\n",
      "max:  [9 7 3]\n",
      "min:  [3 4 2]\n"
     ]
    }
   ],
   "source": [
    "a = np.array([9, 7, 3])\n",
    "b = np.array([3, 4, 2])\n",
    "print(\"a: \",a)\n",
    "print(\"b: \", b)\n",
    "print(\"\\n\\n\")\n",
    "print(\"Addition:\",np.add(a,b))\n",
    "print(\"Subtraction:\",np.subtract(a,b))\n",
    "print(\"Multiplication:\",np.multiply(a,b))\n",
    "print(\"Division:\",np.divide(a,b))\n",
    "print(\"Floor Division:\",np.floor_divide(a,b)) #gives output to nearest whole number (lower_bound)\n",
    "print(\"Remainder of Division:\",np.mod(a,b))\n",
    "print(\"max: \",np.fmax(a,b)) #prints largest possible numbers in two arrays and sorts max array\n",
    "print(\"min: \",np.fmin(a,b)) #prints least numebrs possible in an array\n",
    "\n",
    "\n",
    "\n",
    "\n"
   ]
  },
  {
   "cell_type": "markdown",
   "id": "381a5cbf",
   "metadata": {},
   "source": [
    "## 6"
   ]
  },
  {
   "cell_type": "code",
   "execution_count": 511,
   "id": "f1738ac1",
   "metadata": {},
   "outputs": [
    {
     "name": "stdout",
     "output_type": "stream",
     "text": [
      "a:  [ 1  2  3  5 10 20]\n",
      "\n",
      "\n",
      "\n",
      "sum: 41\n",
      "mean: 6.833333333333333\n",
      "standard deviation: 6.568020165079344\n",
      "standard variation: 43.13888888888889\n",
      "max at index: 5\n",
      "min at index: 0\n",
      "cumulative sum: [ 1  3  6 11 21 41]\n",
      "cumulative product  [   1    2    6   30  300 6000]\n"
     ]
    }
   ],
   "source": [
    "a = np.array([1, 2, 3,5,10,20])\n",
    "print(\"a: \",a)\n",
    "\n",
    "print(\"\\n\\n\")\n",
    "print(\"sum:\",np.sum(a))\n",
    "print(\"mean:\",np.mean(a))\n",
    "print(\"standard deviation:\",np.std(a))\n",
    "print(\"standard variation:\",np.var(a))\n",
    "print(\"max at index:\",np.argmax(a)) \n",
    "print(\"min at index:\",np.argmin(a))\n",
    "print(\"cumulative sum:\",np.cumsum(a)) \n",
    "print(\"cumulative product \",np.cumprod(a)) \n",
    "\n",
    "\n",
    "\n",
    "\n"
   ]
  },
  {
   "cell_type": "markdown",
   "id": "b3738c6a",
   "metadata": {},
   "source": [
    "## 7"
   ]
  },
  {
   "cell_type": "code",
   "execution_count": 512,
   "id": "ee57272f",
   "metadata": {},
   "outputs": [
    {
     "name": "stdout",
     "output_type": "stream",
     "text": [
      "a:  [100   1   3   1   5  10   3   2  20]\n",
      "b:  [  1   2   3  38 381 900]\n",
      "\n",
      "\n",
      "\n",
      "unique values in a:  [  1   2   3   5  10  20 100]\n",
      "intersection of a and b: [1 2 3]\n",
      "union of a and b:  [  1   2   3   5  10  20  38 100 381 900]\n",
      "is a[i] present in b[i]: [False  True  True  True False False  True  True False]\n",
      "Elements in a absent in b: [  5  10  20 100]\n",
      "Elements in a and b absent in intersection of a and b:  [  5  10  20  38 100 381 900]\n"
     ]
    }
   ],
   "source": [
    "a = np.array([100,1, 3,1,5,10,3,2,20])\n",
    "b = np.array([1,2,3,38,381,900])\n",
    "print(\"a: \",a)\n",
    "print(\"b: \", b)\n",
    "print(\"\\n\\n\")\n",
    "print(\"unique values in a: \",np.unique(a)) #sorts and finds the single elements in the list\n",
    "print(\"intersection of a and b:\",np.intersect1d(a,b)) #elements present in both lists\n",
    "print(\"union of a and b: \",np.union1d(a,b)) #elimnates any repeated values and forms union of two sets\n",
    "print(\"is a[i] present in b[i]:\",np.in1d(a,b)) #returns boolean at the specifc index whose value is present in array b\n",
    "print(\"Elements in a absent in b:\",np.setdiff1d(a,b)) \n",
    "print(\"Elements in a and b absent in intersection of a and b: \",np.setxor1d(a,b))\n",
    "\n",
    "\n",
    "\n",
    "\n",
    "\n"
   ]
  },
  {
   "cell_type": "markdown",
   "id": "82c98d69",
   "metadata": {},
   "source": [
    "## 8"
   ]
  },
  {
   "cell_type": "code",
   "execution_count": 513,
   "id": "d7a8f050",
   "metadata": {},
   "outputs": [
    {
     "name": "stdout",
     "output_type": "stream",
     "text": [
      "a: \n",
      " [[1 2 0]\n",
      " [1 3 1]\n",
      " [1 2 4]]\n",
      "b: \n",
      " [[1 0 2]\n",
      " [2 0 3]\n",
      " [3 1 4]]\n"
     ]
    }
   ],
   "source": [
    "a = np.array([[1,2,0],\n",
    "             [1,3,1],\n",
    "             [1,2,4]])\n",
    "           \n",
    "b = np.array([[1,0, 2],\n",
    "             [2,0,3],\n",
    "             [3,1,4]])\n",
    "print(\"a: \\n\",a)\n",
    "print(\"b: \\n\", b)"
   ]
  },
  {
   "cell_type": "code",
   "execution_count": 514,
   "id": "25f361cb",
   "metadata": {},
   "outputs": [
    {
     "name": "stdout",
     "output_type": "stream",
     "text": [
      "Diagonal values of a:  [1 3 4]\n"
     ]
    }
   ],
   "source": [
    "print(\"Diagonal values of a: \",np.diag(a)) #sorts and finds the single elements in the list"
   ]
  },
  {
   "cell_type": "code",
   "execution_count": 515,
   "id": "ea9debae",
   "metadata": {
    "scrolled": true
   },
   "outputs": [
    {
     "name": "stdout",
     "output_type": "stream",
     "text": [
      "A.B =  [[ 5  0  8]\n",
      " [10  1 15]\n",
      " [17  4 24]]\n"
     ]
    }
   ],
   "source": [
    "print(\"A.B = \", dot(a,b))"
   ]
  },
  {
   "cell_type": "code",
   "execution_count": 516,
   "id": "03e3e2a9",
   "metadata": {},
   "outputs": [
    {
     "name": "stdout",
     "output_type": "stream",
     "text": [
      "Trace of A (sum of diagonals) = 8\n",
      "Trace of B (sum of diagonals) = 5\n"
     ]
    }
   ],
   "source": [
    "print(\"Trace of A (sum of diagonals) =\", trace(a))\n",
    "print(\"Trace of B (sum of diagonals) =\", trace(b))\n"
   ]
  },
  {
   "cell_type": "code",
   "execution_count": 517,
   "id": "3bdbc258",
   "metadata": {},
   "outputs": [
    {
     "name": "stdout",
     "output_type": "stream",
     "text": [
      "Determinant of A:  4\n",
      "Determinant of B:  1\n"
     ]
    }
   ],
   "source": [
    "print(\"Determinant of A: \", int(la.det(a)))\n",
    "print(\"Determinant of B: \", int(la.det(b)))"
   ]
  },
  {
   "cell_type": "code",
   "execution_count": 518,
   "id": "77d3fa7f",
   "metadata": {},
   "outputs": [
    {
     "name": "stdout",
     "output_type": "stream",
     "text": [
      "Eigenvalues and Eigenvectors of A:  (array([5.32340428, 0.31866936, 2.35792637]), array([[-0.21391401, -0.94341884, -0.53278031],\n",
      "       [-0.46241838,  0.32139008, -0.36173821],\n",
      "       [-0.86047082,  0.08166576,  0.76504288]]))\n"
     ]
    }
   ],
   "source": [
    "print(\"Eigenvalues and Eigenvectors of A: \",la.eig(a))"
   ]
  },
  {
   "cell_type": "code",
   "execution_count": 522,
   "id": "b200a7c1",
   "metadata": {
    "scrolled": false
   },
   "outputs": [
    {
     "name": "stdout",
     "output_type": "stream",
     "text": [
      "[1, 2, 3] \n",
      "Solution of matrix Ax=b: [0.  0.5 0.5]\n",
      "Solution of matrix Bx=b: [ 1.00000000e+00 -1.66533454e-16  0.00000000e+00]\n"
     ]
    }
   ],
   "source": [
    "vec=[1,2,3]\n",
    "print(vec,\"\\nSolution of matrix Ax=b:\",la.solve(a,vec))\n",
    "print(\"Solution of matrix Bx=b:\",la.solve(b,vec))"
   ]
  },
  {
   "cell_type": "markdown",
   "id": "fed470af",
   "metadata": {},
   "source": [
    "## 9\n"
   ]
  },
  {
   "cell_type": "code",
   "execution_count": 627,
   "id": "4e991451",
   "metadata": {},
   "outputs": [],
   "source": [
    "import itertools as it\n",
    "from itertools import permutations\n",
    "import random\n"
   ]
  },
  {
   "cell_type": "code",
   "execution_count": 582,
   "id": "60518eb0",
   "metadata": {},
   "outputs": [
    {
     "name": "stdout",
     "output_type": "stream",
     "text": [
      "0.5714025946899135   0.6329565913853956\n"
     ]
    }
   ],
   "source": [
    "random.seed(10)\n",
    "num=random.random()\n",
    "arr=np.random.rand()\n",
    "print(num,\" \",arr)"
   ]
  },
  {
   "cell_type": "code",
   "execution_count": 609,
   "id": "f11ba06d",
   "metadata": {},
   "outputs": [
    {
     "name": "stdout",
     "output_type": "stream",
     "text": [
      "(0, 1, 2)\n",
      "(0, 2, 1)\n",
      "(1, 0, 2)\n",
      "(1, 2, 0)\n",
      "(2, 0, 1)\n",
      "(2, 1, 0)\n"
     ]
    }
   ],
   "source": [
    "perm=it.permutations([0,1,2])\n",
    "for i in list(perm):\n",
    "    print(i)"
   ]
  },
  {
   "cell_type": "code",
   "execution_count": 628,
   "id": "ad7264d9",
   "metadata": {},
   "outputs": [
    {
     "name": "stdout",
     "output_type": "stream",
     "text": [
      "None\n"
     ]
    }
   ],
   "source": [
    "num=random.shuffle([2,1,23,3]) #removed from python 3.11\n",
    "print(num)\n"
   ]
  },
  {
   "cell_type": "code",
   "execution_count": null,
   "id": "ebdf7fcb",
   "metadata": {},
   "outputs": [],
   "source": []
  }
 ],
 "metadata": {
  "kernelspec": {
   "display_name": "Python 3 (ipykernel)",
   "language": "python",
   "name": "python3"
  },
  "language_info": {
   "codemirror_mode": {
    "name": "ipython",
    "version": 3
   },
   "file_extension": ".py",
   "mimetype": "text/x-python",
   "name": "python",
   "nbconvert_exporter": "python",
   "pygments_lexer": "ipython3",
   "version": "3.9.13"
  }
 },
 "nbformat": 4,
 "nbformat_minor": 5
}
