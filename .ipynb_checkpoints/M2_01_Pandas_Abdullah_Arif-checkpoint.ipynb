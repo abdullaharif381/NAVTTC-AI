{
 "cells": [
  {
   "cell_type": "code",
   "execution_count": 167,
   "id": "83900540",
   "metadata": {},
   "outputs": [],
   "source": [
    "import numpy as np\n",
    "import pandas as pd\n"
   ]
  },
  {
   "cell_type": "markdown",
   "id": "9383e0ad",
   "metadata": {},
   "source": [
    "### 1"
   ]
  },
  {
   "cell_type": "code",
   "execution_count": 168,
   "id": "3dc8c257",
   "metadata": {},
   "outputs": [],
   "source": [
    "nums = np.random.randint(1, 1000, size=50)\n",
    "even = nums[nums%2==0]\n",
    "odd = nums[nums%2!=0]"
   ]
  },
  {
   "cell_type": "code",
   "execution_count": 169,
   "id": "0796cefd",
   "metadata": {},
   "outputs": [
    {
     "data": {
      "text/html": [
       "<div>\n",
       "<style scoped>\n",
       "    .dataframe tbody tr th:only-of-type {\n",
       "        vertical-align: middle;\n",
       "    }\n",
       "\n",
       "    .dataframe tbody tr th {\n",
       "        vertical-align: top;\n",
       "    }\n",
       "\n",
       "    .dataframe thead th {\n",
       "        text-align: right;\n",
       "    }\n",
       "</style>\n",
       "<table border=\"1\" class=\"dataframe\">\n",
       "  <thead>\n",
       "    <tr style=\"text-align: right;\">\n",
       "      <th></th>\n",
       "      <th>0</th>\n",
       "    </tr>\n",
       "  </thead>\n",
       "  <tbody>\n",
       "    <tr>\n",
       "      <th>0</th>\n",
       "      <td>970</td>\n",
       "    </tr>\n",
       "    <tr>\n",
       "      <th>1</th>\n",
       "      <td>332</td>\n",
       "    </tr>\n",
       "    <tr>\n",
       "      <th>2</th>\n",
       "      <td>618</td>\n",
       "    </tr>\n",
       "    <tr>\n",
       "      <th>3</th>\n",
       "      <td>690</td>\n",
       "    </tr>\n",
       "    <tr>\n",
       "      <th>4</th>\n",
       "      <td>100</td>\n",
       "    </tr>\n",
       "    <tr>\n",
       "      <th>5</th>\n",
       "      <td>180</td>\n",
       "    </tr>\n",
       "  </tbody>\n",
       "</table>\n",
       "</div>"
      ],
      "text/plain": [
       "     0\n",
       "0  970\n",
       "1  332\n",
       "2  618\n",
       "3  690\n",
       "4  100\n",
       "5  180"
      ]
     },
     "execution_count": 169,
     "metadata": {},
     "output_type": "execute_result"
    }
   ],
   "source": [
    "even_data=pd.DataFrame(even)\n",
    "even_data.head(6)"
   ]
  },
  {
   "cell_type": "code",
   "execution_count": 170,
   "id": "83be2aeb",
   "metadata": {},
   "outputs": [
    {
     "data": {
      "text/html": [
       "<div>\n",
       "<style scoped>\n",
       "    .dataframe tbody tr th:only-of-type {\n",
       "        vertical-align: middle;\n",
       "    }\n",
       "\n",
       "    .dataframe tbody tr th {\n",
       "        vertical-align: top;\n",
       "    }\n",
       "\n",
       "    .dataframe thead th {\n",
       "        text-align: right;\n",
       "    }\n",
       "</style>\n",
       "<table border=\"1\" class=\"dataframe\">\n",
       "  <thead>\n",
       "    <tr style=\"text-align: right;\">\n",
       "      <th></th>\n",
       "      <th>0</th>\n",
       "    </tr>\n",
       "  </thead>\n",
       "  <tbody>\n",
       "    <tr>\n",
       "      <th>18</th>\n",
       "      <td>557</td>\n",
       "    </tr>\n",
       "    <tr>\n",
       "      <th>19</th>\n",
       "      <td>905</td>\n",
       "    </tr>\n",
       "    <tr>\n",
       "      <th>20</th>\n",
       "      <td>177</td>\n",
       "    </tr>\n",
       "    <tr>\n",
       "      <th>21</th>\n",
       "      <td>585</td>\n",
       "    </tr>\n",
       "    <tr>\n",
       "      <th>22</th>\n",
       "      <td>865</td>\n",
       "    </tr>\n",
       "    <tr>\n",
       "      <th>23</th>\n",
       "      <td>429</td>\n",
       "    </tr>\n",
       "  </tbody>\n",
       "</table>\n",
       "</div>"
      ],
      "text/plain": [
       "      0\n",
       "18  557\n",
       "19  905\n",
       "20  177\n",
       "21  585\n",
       "22  865\n",
       "23  429"
      ]
     },
     "execution_count": 170,
     "metadata": {},
     "output_type": "execute_result"
    }
   ],
   "source": [
    "odd_data=pd.DataFrame(odd)\n",
    "odd_data.tail(6)"
   ]
  },
  {
   "cell_type": "markdown",
   "id": "bb5a6d28",
   "metadata": {},
   "source": [
    "### 2"
   ]
  },
  {
   "cell_type": "code",
   "execution_count": 171,
   "id": "71a09a23",
   "metadata": {},
   "outputs": [
    {
     "data": {
      "text/plain": [
       "93    400\n",
       "95     84\n",
       "96     94\n",
       "97    454\n",
       "99    244\n",
       "dtype: int32"
      ]
     },
     "execution_count": 171,
     "metadata": {},
     "output_type": "execute_result"
    }
   ],
   "source": [
    "randoms = pd.Series(np.random.randint(1, 500, size=100))\n",
    "(randoms[randoms % 2 == 0]).tail(5)"
   ]
  },
  {
   "cell_type": "markdown",
   "id": "10521d31",
   "metadata": {},
   "source": [
    "### 4\n"
   ]
  },
  {
   "cell_type": "code",
   "execution_count": 172,
   "id": "08187126",
   "metadata": {},
   "outputs": [
    {
     "data": {
      "text/html": [
       "<div>\n",
       "<style scoped>\n",
       "    .dataframe tbody tr th:only-of-type {\n",
       "        vertical-align: middle;\n",
       "    }\n",
       "\n",
       "    .dataframe tbody tr th {\n",
       "        vertical-align: top;\n",
       "    }\n",
       "\n",
       "    .dataframe thead th {\n",
       "        text-align: right;\n",
       "    }\n",
       "</style>\n",
       "<table border=\"1\" class=\"dataframe\">\n",
       "  <thead>\n",
       "    <tr style=\"text-align: right;\">\n",
       "      <th></th>\n",
       "      <th>Name</th>\n",
       "      <th>Age</th>\n",
       "      <th>Height</th>\n",
       "      <th>Weight</th>\n",
       "      <th>Gender</th>\n",
       "    </tr>\n",
       "  </thead>\n",
       "  <tbody>\n",
       "    <tr>\n",
       "      <th>A</th>\n",
       "      <td>Ali</td>\n",
       "      <td>19</td>\n",
       "      <td>164</td>\n",
       "      <td>58</td>\n",
       "      <td>Male</td>\n",
       "    </tr>\n",
       "    <tr>\n",
       "      <th>B</th>\n",
       "      <td>Rom</td>\n",
       "      <td>19</td>\n",
       "      <td>156</td>\n",
       "      <td>79</td>\n",
       "      <td>Female</td>\n",
       "    </tr>\n",
       "    <tr>\n",
       "      <th>C</th>\n",
       "      <td>Dip</td>\n",
       "      <td>18</td>\n",
       "      <td>169</td>\n",
       "      <td>54</td>\n",
       "      <td>Male</td>\n",
       "    </tr>\n",
       "    <tr>\n",
       "      <th>D</th>\n",
       "      <td>Sim</td>\n",
       "      <td>19</td>\n",
       "      <td>152</td>\n",
       "      <td>53</td>\n",
       "      <td>Female</td>\n",
       "    </tr>\n",
       "    <tr>\n",
       "      <th>E</th>\n",
       "      <td>Rik</td>\n",
       "      <td>21</td>\n",
       "      <td>176</td>\n",
       "      <td>55</td>\n",
       "      <td>Male</td>\n",
       "    </tr>\n",
       "  </tbody>\n",
       "</table>\n",
       "</div>"
      ],
      "text/plain": [
       "  Name  Age  Height  Weight  Gender\n",
       "A  Ali   19     164      58    Male\n",
       "B  Rom   19     156      79  Female\n",
       "C  Dip   18     169      54    Male\n",
       "D  Sim   19     152      53  Female\n",
       "E  Rik   21     176      55    Male"
      ]
     },
     "execution_count": 172,
     "metadata": {},
     "output_type": "execute_result"
    }
   ],
   "source": [
    "names = ['Ali', 'Rom', 'Dip', 'Sim', 'Rik']\n",
    "ages = np.random.randint(18, 22, size=5)\n",
    "heights = np.random.randint(150, 180, size=5)\n",
    "weights = np.random.randint(40, 90, size=5)\n",
    "genders = ['Male', 'Female', 'Male', 'Female', 'Male']\n",
    "\n",
    "data = {'Name': names,\n",
    "        'Age': ages,\n",
    "        'Height': heights,\n",
    "        'Weight': weights,\n",
    "        'Gender': genders}\n",
    "\n",
    "students = pd.DataFrame(data,index=['A', 'B', 'C', 'D','E'])\n",
    "students\n"
   ]
  },
  {
   "cell_type": "markdown",
   "id": "d04b7369",
   "metadata": {},
   "source": [
    "### 5"
   ]
  },
  {
   "cell_type": "code",
   "execution_count": 174,
   "id": "83a98f7e",
   "metadata": {},
   "outputs": [
    {
     "data": {
      "text/html": [
       "<div>\n",
       "<style scoped>\n",
       "    .dataframe tbody tr th:only-of-type {\n",
       "        vertical-align: middle;\n",
       "    }\n",
       "\n",
       "    .dataframe tbody tr th {\n",
       "        vertical-align: top;\n",
       "    }\n",
       "\n",
       "    .dataframe thead th {\n",
       "        text-align: right;\n",
       "    }\n",
       "</style>\n",
       "<table border=\"1\" class=\"dataframe\">\n",
       "  <thead>\n",
       "    <tr style=\"text-align: right;\">\n",
       "      <th></th>\n",
       "      <th>Name</th>\n",
       "      <th>Mathematics</th>\n",
       "      <th>Physics</th>\n",
       "      <th>Chemistry</th>\n",
       "      <th>Biology</th>\n",
       "      <th>Computer Science</th>\n",
       "      <th>Total Marks</th>\n",
       "      <th>Grade</th>\n",
       "    </tr>\n",
       "  </thead>\n",
       "  <tbody>\n",
       "    <tr>\n",
       "      <th>1</th>\n",
       "      <td>Ali</td>\n",
       "      <td>86</td>\n",
       "      <td>74</td>\n",
       "      <td>44</td>\n",
       "      <td>28</td>\n",
       "      <td>8</td>\n",
       "      <td>240</td>\n",
       "      <td>C</td>\n",
       "    </tr>\n",
       "    <tr>\n",
       "      <th>2</th>\n",
       "      <td>Arif</td>\n",
       "      <td>27</td>\n",
       "      <td>47</td>\n",
       "      <td>39</td>\n",
       "      <td>6</td>\n",
       "      <td>92</td>\n",
       "      <td>211</td>\n",
       "      <td>C</td>\n",
       "    </tr>\n",
       "    <tr>\n",
       "      <th>3</th>\n",
       "      <td>Kasim</td>\n",
       "      <td>93</td>\n",
       "      <td>90</td>\n",
       "      <td>35</td>\n",
       "      <td>96</td>\n",
       "      <td>61</td>\n",
       "      <td>375</td>\n",
       "      <td>B</td>\n",
       "    </tr>\n",
       "    <tr>\n",
       "      <th>4</th>\n",
       "      <td>Jazib</td>\n",
       "      <td>15</td>\n",
       "      <td>36</td>\n",
       "      <td>78</td>\n",
       "      <td>22</td>\n",
       "      <td>64</td>\n",
       "      <td>215</td>\n",
       "      <td>C</td>\n",
       "    </tr>\n",
       "    <tr>\n",
       "      <th>5</th>\n",
       "      <td>Hamid</td>\n",
       "      <td>50</td>\n",
       "      <td>61</td>\n",
       "      <td>90</td>\n",
       "      <td>0</td>\n",
       "      <td>16</td>\n",
       "      <td>217</td>\n",
       "      <td>C</td>\n",
       "    </tr>\n",
       "  </tbody>\n",
       "</table>\n",
       "</div>"
      ],
      "text/plain": [
       "    Name  Mathematics  Physics  Chemistry  Biology  Computer Science  \\\n",
       "1    Ali           86       74         44       28                 8   \n",
       "2   Arif           27       47         39        6                92   \n",
       "3  Kasim           93       90         35       96                61   \n",
       "4  Jazib           15       36         78       22                64   \n",
       "5  Hamid           50       61         90        0                16   \n",
       "\n",
       "   Total Marks Grade  \n",
       "1          240     C  \n",
       "2          211     C  \n",
       "3          375     B  \n",
       "4          215     C  \n",
       "5          217     C  "
      ]
     },
     "metadata": {},
     "output_type": "display_data"
    }
   ],
   "source": [
    "names = ['Ali', 'Arif', 'Kasim', 'Jazib', 'Hamid']\n",
    "math = np.random.randint(0, 110, size=5)\n",
    "physics = np.random.randint(0, 110, size=5)\n",
    "chemistry = np.random.randint(0, 110, size=5)\n",
    "biology = np.random.randint(0, 110, size=5)\n",
    "comp=np.random.randint(0,110,size=5)\n",
    "\n",
    "data = {'Name': names,\n",
    "        'Mathematics': math,\n",
    "        'Physics': physics,\n",
    "        'Chemistry': chemistry,\n",
    "        'Biology': biology,\n",
    "       'Computer Science': comp}\n",
    "\n",
    "students = pd.DataFrame(data,index=np.arange(1,6))\n",
    "\n",
    "students['Total Marks'] = students['Mathematics'] + students['Physics'] + students['Chemistry'] + students['Biology']+students['Computer Science']\n",
    "grades=['U','D','C','B','A']\n",
    "ranges=[0,100,200,300,400,500]\n",
    "students['Grade'] = pd.cut(students['Total Marks'], ranges, labels=grades)\n",
    "display(students)"
   ]
  },
  {
   "cell_type": "code",
   "execution_count": null,
   "id": "68d8e81c",
   "metadata": {},
   "outputs": [],
   "source": []
  }
 ],
 "metadata": {
  "kernelspec": {
   "display_name": "Python 3 (ipykernel)",
   "language": "python",
   "name": "python3"
  },
  "language_info": {
   "codemirror_mode": {
    "name": "ipython",
    "version": 3
   },
   "file_extension": ".py",
   "mimetype": "text/x-python",
   "name": "python",
   "nbconvert_exporter": "python",
   "pygments_lexer": "ipython3",
   "version": "3.9.13"
  }
 },
 "nbformat": 4,
 "nbformat_minor": 5
}
