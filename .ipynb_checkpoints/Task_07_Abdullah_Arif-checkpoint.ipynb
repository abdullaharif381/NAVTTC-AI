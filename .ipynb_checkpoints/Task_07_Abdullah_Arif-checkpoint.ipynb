{
 "cells": [
  {
   "cell_type": "code",
   "execution_count": null,
   "id": "1255843e",
   "metadata": {},
   "outputs": [],
   "source": []
  },
  {
   "cell_type": "code",
   "execution_count": 8,
   "id": "16582cc5",
   "metadata": {
    "scrolled": true
   },
   "outputs": [
    {
     "name": "stdout",
     "output_type": "stream",
     "text": [
      "6\n",
      "18\n"
     ]
    }
   ],
   "source": [
    "def fac(n):\n",
    "    num = int(n)\n",
    "    fact=1\n",
    "    i=num\n",
    "    while i>0:\n",
    "        fact=fact*i\n",
    "        i-=1\n",
    "    return fact\n",
    "x = fac()\n",
    "print(x)\n",
    "x*=3\n",
    "print(x)\n",
    " "
   ]
  },
  {
   "cell_type": "code",
   "execution_count": 1,
   "id": "555df43c",
   "metadata": {},
   "outputs": [],
   "source": [
    "import sms as sms"
   ]
  },
  {
   "cell_type": "code",
   "execution_count": 2,
   "id": "b93f674d",
   "metadata": {
    "collapsed": true
   },
   "outputs": [
    {
     "ename": "TypeError",
     "evalue": "'int' object is not iterable",
     "output_type": "error",
     "traceback": [
      "\u001b[1;31m---------------------------------------------------------------------------\u001b[0m",
      "\u001b[1;31mTypeError\u001b[0m                                 Traceback (most recent call last)",
      "Cell \u001b[1;32mIn[2], line 1\u001b[0m\n\u001b[1;32m----> 1\u001b[0m \u001b[43msms\u001b[49m\u001b[38;5;241;43m.\u001b[39;49m\u001b[43madd_std\u001b[49m\u001b[43m(\u001b[49m\u001b[38;5;241;43m1\u001b[39;49m\u001b[43m,\u001b[49m\u001b[38;5;241;43m2\u001b[39;49m\u001b[43m,\u001b[49m\u001b[38;5;241;43m3\u001b[39;49m\u001b[43m,\u001b[49m\u001b[38;5;241;43m4\u001b[39;49m\u001b[43m)\u001b[49m\n",
      "File \u001b[1;32m~\\AI Navttc\\sms.py:5\u001b[0m, in \u001b[0;36madd_std\u001b[1;34m(n, r, names, rolls)\u001b[0m\n\u001b[0;32m      3\u001b[0m \u001b[38;5;28;01mdef\u001b[39;00m \u001b[38;5;21madd_std\u001b[39m(n,r,names,rolls):\n\u001b[0;32m      4\u001b[0m     r\u001b[38;5;241m=\u001b[39m\u001b[38;5;28mint\u001b[39m(r)\n\u001b[1;32m----> 5\u001b[0m     \u001b[38;5;28;01mfor\u001b[39;00m i \u001b[38;5;129;01min\u001b[39;00m rolls:\n\u001b[0;32m      6\u001b[0m         \u001b[38;5;28;01mif\u001b[39;00m i \u001b[38;5;241m==\u001b[39m r:            \n\u001b[0;32m      7\u001b[0m             \u001b[38;5;28;01mreturn\u001b[39;00m \u001b[38;5;28;01mFalse\u001b[39;00m\n",
      "\u001b[1;31mTypeError\u001b[0m: 'int' object is not iterable"
     ]
    }
   ],
   "source": []
  },
  {
   "cell_type": "code",
   "execution_count": null,
   "id": "14167110",
   "metadata": {},
   "outputs": [
    {
     "name": "stdout",
     "output_type": "stream",
     "text": [
      "(1) Add \t (2) View \t (3) Search \t (4) Remove \t (5) Display \t (0) Exit\n",
      "Enter your choice (1-5): 1\n",
      "Name: asim\n",
      "Roll No.:209\n",
      "Enrolled\n",
      "Enter your choice (1-5): 1\n",
      "Name: asim\n",
      "Roll No.:209\n",
      "Already Enrolled\n",
      "Enter your choice (1-5): 1\n",
      "Name: asim\n",
      "Roll No.:2901\n",
      "Enrolled\n",
      "Enter your choice (1-5): 3\n",
      "Name: 2901\n",
      "Roll No.:2901\n",
      "Student Absent\n",
      "Enter your choice (1-5): 5\n",
      "['asim', 'asim']\n",
      "[209, 2901]\n",
      "Enter your choice (1-5): 2\n",
      "Name: asim\n",
      "['Not found']\n"
     ]
    }
   ],
   "source": [
    "\n",
    "\n",
    "names=[]\n",
    "rolls=[]\n",
    "print(\"(1) Add \\t (2) View \\t (3) Search \\t (4) Remove \\t (5) Display \\t (0) Exit\")\n",
    "\n",
    "choice = -1\n",
    "while (choice !=0):\n",
    "    choice=int(input(\"Enter your choice (1-5): \"))\n",
    "                 \n",
    "    if choice == 1:\n",
    "                name = str(input(\"Name: \"))\n",
    "                roll = int(input(\"Roll No.:\"))\n",
    "                if(sms.add_std(name,roll,names,rolls)):\n",
    "                    print(\"Enrolled\")\n",
    "                else:\n",
    "                    print(\"Already Enrolled\")\n",
    "    elif choice == 2:\n",
    "                roll = str(input(\"Roll No.: \"))\n",
    "                print(sms.get_std(roll,names,rolls))\n",
    "    elif choice==3:\n",
    "                \n",
    "                roll = int(input(\"Roll No.:\"))\n",
    "                if(sms.search_std(roll,names,rolls)):\n",
    "                    print(\"Student Present\")\n",
    "                else:\n",
    "                    print(\"Student Absent\")\n",
    "    elif choice==4:\n",
    "                roll = int(input(\"Roll No.:\"))\n",
    "                if sms.remove_std(roll,names,rolls):\n",
    "                    print(\"Removed\")\n",
    "                else:\n",
    "                    print(\"Not Possible\")\n",
    "    elif choice==5:\n",
    "                 sms.display_rec(names,rolls)\n",
    "    else:\n",
    "                 break\n",
    "                 \n",
    "\n",
    "                 "
   ]
  },
  {
   "cell_type": "code",
   "execution_count": null,
   "id": "84204a72",
   "metadata": {},
   "outputs": [],
   "source": []
  },
  {
   "cell_type": "code",
   "execution_count": null,
   "id": "d3c5656a",
   "metadata": {},
   "outputs": [],
   "source": []
  },
  {
   "cell_type": "code",
   "execution_count": 7,
   "id": "428447ed",
   "metadata": {},
   "outputs": [
    {
     "ename": "ModuleNotFoundError",
     "evalue": "No module named 'Module_01'",
     "output_type": "error",
     "traceback": [
      "\u001b[1;31m---------------------------------------------------------------------------\u001b[0m",
      "\u001b[1;31mModuleNotFoundError\u001b[0m                       Traceback (most recent call last)",
      "Cell \u001b[1;32mIn[7], line 1\u001b[0m\n\u001b[1;32m----> 1\u001b[0m \u001b[38;5;28;01mimport\u001b[39;00m \u001b[38;5;21;01mModule_01\u001b[39;00m \u001b[38;5;28;01mas\u001b[39;00m \u001b[38;5;21;01mm\u001b[39;00m\n",
      "\u001b[1;31mModuleNotFoundError\u001b[0m: No module named 'Module_01'"
     ]
    }
   ],
   "source": []
  },
  {
   "cell_type": "code",
   "execution_count": null,
   "id": "7c898a35",
   "metadata": {},
   "outputs": [],
   "source": []
  },
  {
   "cell_type": "code",
   "execution_count": null,
   "id": "5c169d91",
   "metadata": {},
   "outputs": [],
   "source": []
  }
 ],
 "metadata": {
  "kernelspec": {
   "display_name": "Python 3 (ipykernel)",
   "language": "python",
   "name": "python3"
  },
  "language_info": {
   "codemirror_mode": {
    "name": "ipython",
    "version": 3
   },
   "file_extension": ".py",
   "mimetype": "text/x-python",
   "name": "python",
   "nbconvert_exporter": "python",
   "pygments_lexer": "ipython3",
   "version": "3.9.13"
  }
 },
 "nbformat": 4,
 "nbformat_minor": 5
}
