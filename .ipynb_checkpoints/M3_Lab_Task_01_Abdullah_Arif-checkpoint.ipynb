{
 "cells": [
  {
   "cell_type": "code",
   "execution_count": 9,
   "id": "aa6bb7c6",
   "metadata": {},
   "outputs": [],
   "source": [
    "import pandas as pd\n",
    "import numpy as np\n",
    "from sklearn.model_selection import train_test_split\n",
    "from sklearn.preprocessing import LabelEncoder, StandardScaler\n",
    "from sklearn.linear_model import LogisticRegression\n",
    "from sklearn.metrics import classification_report, confusion_matrix\n",
    "from sklearn.svm import SVC\n",
    "from sklearn.tree import DecisionTreeClassifier\n"
   ]
  },
  {
   "cell_type": "code",
   "execution_count": 10,
   "id": "59b9662e",
   "metadata": {},
   "outputs": [],
   "source": [
    "# Read the data from the Excel file\n",
    "data = pd.read_excel(\"Cat_human_New.xlsx\")"
   ]
  },
  {
   "cell_type": "code",
   "execution_count": 11,
   "id": "774eb348",
   "metadata": {},
   "outputs": [],
   "source": [
    "# Encode categorical columns\n",
    "encoder = LabelEncoder()\n",
    "categorical_cols = [\"Color\", \"Eye_color\", \"Moustache\", \"Tail\", \"label\"]\n",
    "for col in categorical_cols:\n",
    "    data[col] = encoder.fit_transform(data[col])"
   ]
  },
  {
   "cell_type": "code",
   "execution_count": 12,
   "id": "00dda242",
   "metadata": {},
   "outputs": [],
   "source": [
    "# Split the data into features (X) and target (Y)\n",
    "X = data.iloc[:, 0:7]\n",
    "Y = data.iloc[:, 7]\n",
    "\n",
    "Y_1 = encoder.fit_transform(Y).reshape(-1, 1)"
   ]
  },
  {
   "cell_type": "code",
   "execution_count": 13,
   "id": "8c691118",
   "metadata": {},
   "outputs": [],
   "source": [
    "train_x, test_x, train_y, test_y = train_test_split(X, Y, test_size=0.7, random_state=42)\n"
   ]
  },
  {
   "cell_type": "code",
   "execution_count": 14,
   "id": "93823c4e",
   "metadata": {},
   "outputs": [],
   "source": [
    "# Scale the features using StandardScaler\n",
    "scaler = StandardScaler()\n",
    "train_x = scaler.fit_transform(train_x)\n",
    "test_x = scaler.transform(test_x)"
   ]
  },
  {
   "cell_type": "code",
   "execution_count": 15,
   "id": "a8e5cd9b",
   "metadata": {},
   "outputs": [
    {
     "name": "stdout",
     "output_type": "stream",
     "text": [
      "[[70  0]\n",
      " [ 0 70]]\n",
      "Percentage of Correct Predictions:  100.0\n"
     ]
    }
   ],
   "source": [
    "# Train a logistic regression model\n",
    "logistic_model = LogisticRegression()\n",
    "logistic_model.fit(train_x, train_y)\n",
    "pred_y = logistic_model.predict(test_x)\n",
    "conf_mx = confusion_matrix(test_y, pred_y)\n",
    "print(conf_mx)\n",
    "print(\"Percentage of Correct Predictions: \", logistic_model.score(test_x, test_y) * 100)\n"
   ]
  },
  {
   "cell_type": "code",
   "execution_count": 16,
   "id": "3c4060d2",
   "metadata": {},
   "outputs": [
    {
     "name": "stdout",
     "output_type": "stream",
     "text": [
      "              precision    recall  f1-score   support\n",
      "\n",
      "           0       1.00      1.00      1.00        70\n",
      "           1       1.00      1.00      1.00        70\n",
      "\n",
      "    accuracy                           1.00       140\n",
      "   macro avg       1.00      1.00      1.00       140\n",
      "weighted avg       1.00      1.00      1.00       140\n",
      "\n"
     ]
    }
   ],
   "source": [
    "# Train an SVM model with linear kernel\n",
    "svm_model = SVC(kernel='linear')\n",
    "svm_model.fit(train_x, train_y)\n",
    "pred_y = svm_model.predict(test_x)\n",
    "print(classification_report(test_y, pred_y))"
   ]
  },
  {
   "cell_type": "code",
   "execution_count": 17,
   "id": "7d56e8ef",
   "metadata": {},
   "outputs": [
    {
     "name": "stdout",
     "output_type": "stream",
     "text": [
      "              precision    recall  f1-score   support\n",
      "\n",
      "           0       1.00      1.00      1.00        70\n",
      "           1       1.00      1.00      1.00        70\n",
      "\n",
      "    accuracy                           1.00       140\n",
      "   macro avg       1.00      1.00      1.00       140\n",
      "weighted avg       1.00      1.00      1.00       140\n",
      "\n"
     ]
    }
   ],
   "source": [
    "# Train an SVM model with RBF kernel\n",
    "rbf_model = SVC(kernel='rbf')\n",
    "rbf_model.fit(train_x, train_y)\n",
    "pred_y = rbf_model.predict(test_x)\n",
    "print(classification_report(test_y, pred_y))"
   ]
  },
  {
   "cell_type": "code",
   "execution_count": 18,
   "id": "91cdb1a8",
   "metadata": {},
   "outputs": [
    {
     "name": "stdout",
     "output_type": "stream",
     "text": [
      "              precision    recall  f1-score   support\n",
      "\n",
      "           0       1.00      1.00      1.00        70\n",
      "           1       1.00      1.00      1.00        70\n",
      "\n",
      "    accuracy                           1.00       140\n",
      "   macro avg       1.00      1.00      1.00       140\n",
      "weighted avg       1.00      1.00      1.00       140\n",
      "\n"
     ]
    }
   ],
   "source": [
    "# Train a decision tree model\n",
    "tree_model = DecisionTreeClassifier()\n",
    "tree_model.fit(train_x, train_y)\n",
    "pred_y = tree_model.predict(test_x)\n",
    "print(classification_report(test_y, pred_y))"
   ]
  },
  {
   "cell_type": "code",
   "execution_count": 19,
   "id": "fb553b72",
   "metadata": {},
   "outputs": [],
   "source": [
    "def take_input():\n",
    "    rung = input(\"Color: \")\n",
    "    ankh = input(\"Eye Color: \")\n",
    "    qad = float(input(\"Height: \"))\n",
    "    tang = float(input(\"Legs: \"))\n",
    "    mooch = input(\"Moustache (1) Yes / (0) No: \")\n",
    "    dum = input(\"Tail (1) Yes / (0) No: \")\n",
    "    wazn = float(input(\"Weight: \"))\n",
    "    return rung, ankh, qad, tang, mooch, dum, wazn"
   ]
  },
  {
   "cell_type": "code",
   "execution_count": 20,
   "id": "041df498",
   "metadata": {},
   "outputs": [],
   "source": [
    "def process(rung, ankh, qad, tang, mooch, dum, wazn):\n",
    "    # Handle previously unseen labels\n",
    "    if rung not in encoder.classes_:\n",
    "        encoder.classes_ = np.append(encoder.classes_, rung)\n",
    "    if ankh not in encoder.classes_:\n",
    "        encoder.classes_ = np.append(encoder.classes_, ankh)\n",
    "    \n",
    "    enc_rung = encoder.transform([rung])[0]\n",
    "    enc_ankh = encoder.transform([ankh])[0]\n",
    "    arr = np.array([enc_rung, enc_ankh, qad, tang, mooch, dum, wazn]).reshape(1, -1)\n",
    "    arr = scaler.transform(arr)  # Scale the input using the same scaler\n",
    "    return arr"
   ]
  },
  {
   "cell_type": "code",
   "execution_count": 21,
   "id": "fb82d55f",
   "metadata": {},
   "outputs": [],
   "source": [
    "def prediction(arr):\n",
    "    pred_y = svm_model.predict(arr)  # Use the appropriate trained model here\n",
    "    return pred_y\n"
   ]
  },
  {
   "cell_type": "code",
   "execution_count": 22,
   "id": "22df52d2",
   "metadata": {},
   "outputs": [],
   "source": [
    "def decode_label(label):\n",
    "    decoded_label = encoder.inverse_transform(label)\n",
    "    return decoded_label"
   ]
  },
  {
   "cell_type": "code",
   "execution_count": 27,
   "id": "ed4a0fe1",
   "metadata": {},
   "outputs": [
    {
     "name": "stdout",
     "output_type": "stream",
     "text": [
      "Color: brown\n",
      "Eye Color: black\n",
      "Height: 7\n",
      "Legs: 4\n",
      "Moustache (1) Yes / (0) No: 1\n",
      "Tail (1) Yes / (0) No: 1\n",
      "Weight: 3\n",
      "['0']\n"
     ]
    },
    {
     "name": "stderr",
     "output_type": "stream",
     "text": [
      "C:\\Users\\AB\\anaconda3\\lib\\site-packages\\sklearn\\base.py:450: UserWarning: X does not have valid feature names, but StandardScaler was fitted with feature names\n",
      "  warnings.warn(\n"
     ]
    }
   ],
   "source": [
    "rung, ankh, qad, tang, mooch, dum, wazn = take_input()\n",
    "input_arr = process(rung, ankh, qad, tang, mooch, dum, wazn)\n",
    "result = prediction(input_arr)\n",
    "decoded_result = decode_label(result)\n",
    "print(decoded_result)"
   ]
  },
  {
   "cell_type": "code",
   "execution_count": null,
   "id": "eb4972d1",
   "metadata": {},
   "outputs": [],
   "source": []
  }
 ],
 "metadata": {
  "kernelspec": {
   "display_name": "Python 3 (ipykernel)",
   "language": "python",
   "name": "python3"
  },
  "language_info": {
   "codemirror_mode": {
    "name": "ipython",
    "version": 3
   },
   "file_extension": ".py",
   "mimetype": "text/x-python",
   "name": "python",
   "nbconvert_exporter": "python",
   "pygments_lexer": "ipython3",
   "version": "3.9.13"
  }
 },
 "nbformat": 4,
 "nbformat_minor": 5
}
