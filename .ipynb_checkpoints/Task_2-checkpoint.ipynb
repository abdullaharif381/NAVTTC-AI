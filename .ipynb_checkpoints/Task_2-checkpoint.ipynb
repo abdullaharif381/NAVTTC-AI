{
 "cells": [
  {
   "cell_type": "code",
   "execution_count": 14,
   "id": "f112ca49",
   "metadata": {},
   "outputs": [
    {
     "name": "stdout",
     "output_type": "stream",
     "text": [
      "Enter number a: 99\n",
      "Enter number b: 12\n",
      "99  is greater than  12\n"
     ]
    }
   ],
   "source": [
    "num1=int(input(\"Enter number a: \"))\n",
    "num2 = int(input(\"Enter number b: \"))\n",
    "if(num1>num2):\n",
    "    print(num1, \" is greater than \", num2)\n",
    "elif(num2>num1):\n",
    "    print(num2, \" is greater than \" ,num1)\n"
   ]
  },
  {
   "cell_type": "code",
   "execution_count": 79,
   "id": "64f4d268",
   "metadata": {},
   "outputs": [
    {
     "name": "stdout",
     "output_type": "stream",
     "text": [
      "Enter number a: 5\n",
      "Enter number b: 5\n",
      "Enter number c: 5\n",
      "The number is equal\n"
     ]
    }
   ],
   "source": [
    "num1=  int(input(\"Enter number a: \"))\n",
    "num2 = int(input(\"Enter number b: \"))\n",
    "num3 = int(input(\"Enter number c: \"))\n",
    "\n",
    "if(num1>num2 and num1>num3):\n",
    "    print(num1, \" is greater than \", num2,\" and \", num3)\n",
    "elif(num2>num1 and num2>num3):\n",
    "    print(num2, \" is greater than \" ,num1,\"and\",num3)\n",
    "elif(num3>num1 and num3>num2):\n",
    "        print(num3, \" is greater than \" ,num2,\"and\",num1)\n",
    "else:\n",
    "    print(\"The number is equal\")\n",
    "\n"
   ]
  },
  {
   "cell_type": "code",
   "execution_count": 78,
   "id": "009bb4a8",
   "metadata": {},
   "outputs": [
    {
     "name": "stdout",
     "output_type": "stream",
     "text": [
      "Enter number: 0\n",
      "It is zero\n"
     ]
    }
   ],
   "source": [
    "num = int(input(\"Enter number: \"))\n",
    "if(num>0):\n",
    "    print(num,\" is positive\")\n",
    "elif(num<0):\n",
    "    print(num,\" is negative\")\n",
    "else:\n",
    "    print(\"It is zero\")\n",
    "    \n"
   ]
  },
  {
   "cell_type": "code",
   "execution_count": 77,
   "id": "439308fe",
   "metadata": {},
   "outputs": [
    {
     "name": "stdout",
     "output_type": "stream",
     "text": [
      "Enter number: 5\n",
      "Number is divisible by 5\n"
     ]
    }
   ],
   "source": [
    "num = int(input(\"Enter number: \"))\n",
    "if(num%5 == 0 and num%11 == 0):\n",
    "    print(num, \" is divisble by 11 and 5\")\n",
    "elif(num%5!=0 and num%11!=0):\n",
    "    print(num, \"is not divisible by 11 and 5\")\n",
    "elif(num%5==0):\n",
    "    print(\"Number is divisible by 5\")\n",
    "elif(num%11==0):\n",
    "    print(\"Number is divisible by 11\")\n",
    "else:\n",
    "    print(\"ok\")\n"
   ]
  },
  {
   "cell_type": "code",
   "execution_count": 72,
   "id": "d993261c",
   "metadata": {},
   "outputs": [
    {
     "name": "stdout",
     "output_type": "stream",
     "text": [
      "Enter number: -1\n",
      "-1 is odd\n"
     ]
    }
   ],
   "source": [
    "num = int(input(\"Enter number: \"))\n",
    "if(num%2==0):\n",
    "    print(num, \" is even\")\n",
    "else:\n",
    "    print(num, \"is odd\")\n",
    "    "
   ]
  },
  {
   "cell_type": "code",
   "execution_count": 35,
   "id": "5ad2dff3",
   "metadata": {},
   "outputs": [
    {
     "name": "stdout",
     "output_type": "stream",
     "text": [
      "Enter any alphabet (A to Z)c\n",
      "c  is a consonant\n"
     ]
    }
   ],
   "source": [
    "c = input(\"Enter any alphabet (A to Z)\")\n",
    "if(c<='z' and c >= 'A'):\n",
    "    if(c=='a' or c == 'e'  or c == 'i'  or c == 'o'  or c == 'u' or c=='A' or c == 'E'  or c == 'I'  or c == 'O'  or c == 'U'):\n",
    "        print(c, \" is a vowel\")\n",
    "    else:\n",
    "        print(c, \" is a consonant\")\n",
    "else:\n",
    "    print(\"Please enter only alphabets\")"
   ]
  },
  {
   "cell_type": "code",
   "execution_count": 36,
   "id": "df489678",
   "metadata": {},
   "outputs": [
    {
     "name": "stdout",
     "output_type": "stream",
     "text": [
      "Enter the day number: 23\n",
      "It is week 4\n"
     ]
    }
   ],
   "source": [
    "day=int(input(\"Enter the day number: \"))\n",
    "if(day>21 and day<32 and day>0):\n",
    "    print(\"It is week 4\")\n",
    "elif(day>14):\n",
    "    print(\"It is week 3\")\n",
    "elif(day>7):\n",
    "    print(\"It is week 2\")\n",
    "else:\n",
    "    print(\"It is week 1\")\n",
    "\n",
    "\n"
   ]
  },
  {
   "cell_type": "code",
   "execution_count": 39,
   "id": "3f33c11a",
   "metadata": {},
   "outputs": [
    {
     "name": "stdout",
     "output_type": "stream",
     "text": [
      "Enter the month number (1-12)2\n",
      "February has a total of 28 days\n"
     ]
    }
   ],
   "source": [
    "m = int(input(\"Enter the month number (1-31)\"))\n",
    "if(m < 13 and m>0):\n",
    "    if(m==2):\n",
    "        print(\"February has a total of 28 days\")\n",
    "    elif(m%2==0):\n",
    "        print(\"Month number \", m, \" has a total of 31 days\")\n",
    "    else:\n",
    "        print(\"Month number \", m, \" has a total of 30 days\")\n",
    "\n",
    "              "
   ]
  },
  {
   "cell_type": "code",
   "execution_count": 49,
   "id": "4f99bc44",
   "metadata": {},
   "outputs": [
    {
     "name": "stdout",
     "output_type": "stream",
     "text": [
      "Enter the day number (1-7)2\n",
      "Tuesday\n"
     ]
    }
   ],
   "source": [
    "m = int(input(\"Enter the day number (1-7)\"))\n",
    "if(m < 8 and m>0):\n",
    "    if(m==1):\n",
    "        print(\"Monday\")\n",
    "    elif(m==2):\n",
    "        print(\"Tuesday\")\n",
    "    elif(m==3):\n",
    "        print(\"Wednesday\")\n",
    "    elif(m==4):\n",
    "        print(\"Thursday\")\n",
    "    elif(m==5):\n",
    "        print(\"Friday\")\n",
    "    elif(m==6):\n",
    "        print(\"Saturday\")\n",
    "    else:\n",
    "        print(\"Friday\")\n",
    "else:\n",
    "    print(\"Please remain in bounds\")\n",
    "\n",
    "              "
   ]
  },
  {
   "cell_type": "code",
   "execution_count": 61,
   "id": "3901d83b",
   "metadata": {},
   "outputs": [
    {
     "name": "stdout",
     "output_type": "stream",
     "text": [
      "Enter marks for Math: 77\n",
      "Satisfactory! Grade C\n",
      "Enter marks for Phy: 66\n",
      "Improve! Grade D\n",
      "Enter marks for Biology: 99\n",
      "Congrats! Grade A\n",
      "Enter marks for Chem: 66\n",
      "Improve! Grade D\n",
      "Enter marks for Comp: 67\n",
      "Improve! Grade D\n",
      "Total percentage =  75.0\n",
      "You have succeeded\n"
     ]
    }
   ],
   "source": [
    "math=int(input(\"Enter marks for Math: \"))\n",
    "if(math>=90 and math<=100):\n",
    "    print(\"Congrats! Grade A\")\n",
    "elif(math>=80):\n",
    "    print(\"Good! Grade B\")\n",
    "elif(math>=70):\n",
    "    print(\"Satisfactory! Grade C\")\n",
    "elif(math>=60):\n",
    "    print(\"Improve! Grade D\")\n",
    "elif(math>=40):\n",
    "    print(\"Danger! Grade E\")\n",
    "else:\n",
    "    print(\"Fail! Grade F\")\n",
    "phy=int(input(\"Enter marks for Phy: \"))\n",
    "if(phy>=90 and phy<=100):\n",
    "    print(\"Congrats! Grade A\")\n",
    "elif(phy>=80):\n",
    "    print(\"Good! Grade B\")\n",
    "elif(phy>=70):\n",
    "    print(\"Satisfactory! Grade C\")\n",
    "elif(phy>=60):\n",
    "    print(\"Improve! Grade D\")\n",
    "elif(phy>=40):\n",
    "    print(\"Danger! Grade E\")\n",
    "else:\n",
    "    print(\"Fail! Grade F\")\n",
    "bio=int(input(\"Enter marks for Biology: \"))\n",
    "if(bio>=90 and bio<=100):\n",
    "    print(\"Congrats! Grade A\")\n",
    "elif(bio>=80):\n",
    "    print(\"Good! Grade B\")\n",
    "elif(bio>=70):\n",
    "    print(\"Satisfactory! Grade C\")\n",
    "elif(bio>=60):\n",
    "    print(\"Improve! Grade D\")\n",
    "elif(bio>=40):\n",
    "    print(\"Danger! Grade E\")\n",
    "else:\n",
    "    print(\"Fail! Grade F\")\n",
    "chem=int(input(\"Enter marks for Chem: \"))\n",
    "if(chem>=90and chem<=100):\n",
    "    print(\"Congrats! Grade A\")\n",
    "elif( chem>=80):\n",
    "    print(\"Good! Grade B\")\n",
    "elif( chem>=70):\n",
    "    print(\"Satisfactory! Grade C\")\n",
    "elif(chem>=60):\n",
    "    print(\"Improve! Grade D\")\n",
    "elif( chem>=40):\n",
    "    print(\"Danger! Grade E\")\n",
    "else:\n",
    "    print(\"Fail! Grade F\")\n",
    "comp=int(input(\"Enter marks for Comp: \"))\n",
    "if(comp>=90and comp<=100):\n",
    "    print(\"Congrats! Grade A\")\n",
    "elif(comp>=80):\n",
    "    print(\"Good! Grade B\")\n",
    "elif(comp>=70):\n",
    "    print(\"Satisfactory! Grade C\")\n",
    "elif(comp>=60):\n",
    "    print(\"Improve! Grade D\")\n",
    "elif(comp>=40):\n",
    "    print(\"Danger! Grade E\")\n",
    "else:\n",
    "    print(\"Fail! Grade F\")\n",
    "perc = ((comp+chem+bio+math+phy)/500)*100\n",
    "print(\"Total percentage = \", perc)\n",
    "if(perc<50):\n",
    "    print(\"You have failed!\")\n",
    "else:\n",
    "    print(\"You have succeeded\")\n",
    "\n",
    "    "
   ]
  },
  {
   "cell_type": "markdown",
   "id": "9e73d961",
   "metadata": {},
   "source": []
  },
  {
   "cell_type": "code",
   "execution_count": 65,
   "id": "460390e9",
   "metadata": {},
   "outputs": [
    {
     "name": "stdout",
     "output_type": "stream",
     "text": [
      "Enter electricity units used: 10\n",
      "Your total bill is PKR 6.0\n"
     ]
    }
   ],
   "source": [
    "unit=float(input(\"Enter electricity units used: \"))\n",
    "bill=0\n",
    "if(unit<=50):\n",
    "    bill = 0.5*unit\n",
    "elif(unit>50 and unit <151 ):\n",
    "    bill = 0.75*(unit-50)+50*0.5\n",
    "elif(unit>150 and unit <251):\n",
    "    bill = 1.2*(unit - 150)+50*0.5+0.75*150\n",
    "elif(unit>250):\n",
    "    bill = 1.2*150+50*0.5+0.75*150+(unit-250)\n",
    "total_bill = (0.2*bill)+bill\n",
    "print(\"Your total bill is PKR\",total_bill )\n",
    "                                    \n",
    "\n"
   ]
  },
  {
   "cell_type": "code",
   "execution_count": null,
   "id": "5dece153",
   "metadata": {},
   "outputs": [],
   "source": []
  },
  {
   "cell_type": "code",
   "execution_count": null,
   "id": "0e1d729b",
   "metadata": {},
   "outputs": [],
   "source": []
  }
 ],
 "metadata": {
  "kernelspec": {
   "display_name": "Python 3 (ipykernel)",
   "language": "python",
   "name": "python3"
  },
  "language_info": {
   "codemirror_mode": {
    "name": "ipython",
    "version": 3
   },
   "file_extension": ".py",
   "mimetype": "text/x-python",
   "name": "python",
   "nbconvert_exporter": "python",
   "pygments_lexer": "ipython3",
   "version": "3.9.13"
  }
 },
 "nbformat": 4,
 "nbformat_minor": 5
}
