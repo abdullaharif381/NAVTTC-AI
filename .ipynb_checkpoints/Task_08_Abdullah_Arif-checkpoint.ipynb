{
 "cells": [
  {
   "cell_type": "code",
   "execution_count": null,
   "id": "3ce3a445",
   "metadata": {},
   "outputs": [],
   "source": [
    "import calculator as calc"
   ]
  },
  {
   "cell_type": "code",
   "execution_count": null,
   "id": "a22daced",
   "metadata": {
    "scrolled": true
   },
   "outputs": [],
   "source": [
    "choice = 0\n",
    "while(choice>-1):\n",
    "\n",
    "    print(\"\\n(1) Addition\\t(2) Subtraction\\n(3) Multiply\\t(4) Division\\n(5) Factorial\\t(6) Modulus\\n(7) Power\\t(8) Percentage\\n (9) Fibonacci Series upto n \\n(10) Secret Operation \\n\\nEnter operation no.: \")\n",
    "    choice=int(input())\n",
    "    if(choice==1):\n",
    "        x=int(input(\"x = \"))\n",
    "        y=int(input(\"y = \"))\n",
    "        print(\"Addition (x+y):\\t\",calc.add(x,y))\n",
    "    elif(choice==2):\n",
    "        x=int(input(\"x = \"))\n",
    "        y=int(input(\"y = \"))\n",
    "        print(\"Subtraction (x-y):\\t\",calc.sub(x,y))\n",
    "    elif(choice==3):\n",
    "        x=int(input(\"x = \"))\n",
    "        y=int(input(\"y = \"))\n",
    "        print(\"Multiplication (x*y):\\t\",calc.mul(x,y))\n",
    "    elif(choice==4):\n",
    "        x=int(input(\"x = \"))\n",
    "        y=int(input(\"y = \"))\n",
    "        print(\"Division (x/y):\\t\",calc.div(x,y))\n",
    "    elif(choice==5):\n",
    "        x=int(input(\"x = \"))        \n",
    "        print(\"Factorial of x:\\t\",calc.fac(x))\n",
    "    elif(choice==6):\n",
    "        x=int(input(\"x = \"))\n",
    "        y=int(input(\"y = \"))\n",
    "        print(\"Modulus (x%y):\\t\",calc.mod(x,y))\n",
    "    elif(choice==7):\n",
    "        x=int(input(\"x = \"))\n",
    "        y=int(input(\"y = \"))\n",
    "        print(\"Power (x^y):\\t\" ,calc.power(x,y))\n",
    "    elif(choice==8):\n",
    "        x=int(input(\"x = \"))\n",
    "        y=int(input(\"y = \"))\n",
    "        print(\"Percentage of x out of y:\\t\",calc.per(x,y))\n",
    "    elif(choice ==9):\n",
    "        n = int(input(\"n = \"))\n",
    "        calc.fibonacci(n)\n",
    "    elif(choice==10):\n",
    "        \n",
    "        print(\"Using list comprehension...\")\n",
    "        x=(1,2,10,20)       \n",
    "        print(\"Secret Answer:\\t\",calc.secret(x))\n",
    "\n",
    "    else:\n",
    "        break;"
   ]
  },
  {
   "cell_type": "code",
   "execution_count": null,
   "id": "cfee1ff3",
   "metadata": {},
   "outputs": [],
   "source": [
    "import shapes as sp\n",
    "choice = 0\n",
    "shape = 0\n",
    "while(choice!=-1):\n",
    "\n",
    "    print(\"1. Triangle\")\n",
    "    print(\"2. Circle\")\n",
    "    print(\"3. Square\")\n",
    "    print(\"4. Rectangle\")\n",
    "    print(\"5. Right-Angled Triangle\")\n",
    "    print(\"6. Cube\")\n",
    "    print(\"7. Cuboid\")\n",
    "    print(\"8. Sphere\")\n",
    "\n",
    "\n",
    "    choice=int(input(\"Shape No.: \"))\n",
    "    if(choice == 1): \n",
    "        x=int(input(\"side a= \"))\n",
    "        y=int(input(\"side b= \"))\n",
    "        z=int(input(\"side c= \"))\n",
    "        print(\"Area=\",sp.tri_area(x,y,z))\n",
    "    elif(choice == 2):\n",
    "        r=int(input(\"radius = \"))\n",
    "        print(\"Area = \", sp.circle_area(r))\n",
    "        print(\"Circumfrence\", sp.circumfrence(r))\n",
    "    elif(choice==3):\n",
    "        x=int(input(\"side length= \"))    \n",
    "        print(\"Area: \",sp.sq_area(x))\n",
    "    elif(choice==4):\n",
    "        x=int(input(\"length= \"))\n",
    "        y=int(input(\"width= \"))        \n",
    "        print(\"Area: \",sp.rec_area(x,y))\n",
    "    elif(choice==5):\n",
    "        x=int(input(\"length= \"))\n",
    "        y=int(input(\"width= \"))\n",
    "        print(\"Area = \", sp.right_tri_area(x,y))      \n",
    "\n",
    "    elif(choice==6):\n",
    "        x=int(input(\"side length= \"))\n",
    "        print(\"Area = \", sp.cube_area(x))      \n",
    "        print(\"Volume = \",sp.cube_vol(x)) \n",
    "\n",
    "    elif(choice==7):\n",
    "        x=int(input(\"side a= \"))\n",
    "        y=int(input(\"side b= \"))\n",
    "        z=int(input(\"side c= \"))\n",
    "        print(\"Area = \", sp.cuboid_area(x,y,z))      \n",
    "        print(\"Volume = \",sp.cuboid_vol(x,y,z))   \n",
    "    elif(choice==8):\n",
    "        r=int(input(\"radius = \"))\n",
    "        print(\"Area = \", sp.sphere_area(r))\n",
    "        print(\"Volume: \", sp.sphere_vol(r))\n",
    "    else:\n",
    "        break;"
   ]
  },
  {
   "cell_type": "code",
   "execution_count": 16,
   "id": "4aab9fbd",
   "metadata": {},
   "outputs": [
    {
     "name": "stdout",
     "output_type": "stream",
     "text": [
      "[1, 2, 3, 4, 5]\n"
     ]
    },
    {
     "data": {
      "text/plain": [
       "6"
      ]
     },
     "execution_count": 16,
     "metadata": {},
     "output_type": "execute_result"
    }
   ],
   "source": [
    "def to_list(*t):\n",
    "    lis=[]\n",
    "    for i in t:\n",
    "        lis.append(i)\n",
    "    return lis\n",
    "\n",
    "print(to_list(1,2,3,4,5))\n",
    "\n",
    "\n",
    "def count_even(*t):\n",
    "    count=0\n",
    "    for i in t:\n",
    "        if i%2==0:\n",
    "            count+=1\n",
    "            \n",
    "    return count\n",
    "\n",
    "print(\"\", to_list(1,2,3,4,5,6,10,8,12)\n",
    "\n",
    "def above_20(*t):\n",
    "    count=0\n",
    "    a=[]\n",
    "    for i in t:\n",
    "        if i>20:\n",
    "            a.append(i)\n",
    "            \n",
    "            \n",
    "    return a"
   ]
  },
  {
   "cell_type": "code",
   "execution_count": null,
   "id": "99304495",
   "metadata": {},
   "outputs": [],
   "source": [
    "\n",
    "\n"
   ]
  },
  {
   "cell_type": "code",
   "execution_count": null,
   "id": "1e46a901",
   "metadata": {},
   "outputs": [],
   "source": []
  }
 ],
 "metadata": {
  "kernelspec": {
   "display_name": "Python 3 (ipykernel)",
   "language": "python",
   "name": "python3"
  },
  "language_info": {
   "codemirror_mode": {
    "name": "ipython",
    "version": 3
   },
   "file_extension": ".py",
   "mimetype": "text/x-python",
   "name": "python",
   "nbconvert_exporter": "python",
   "pygments_lexer": "ipython3",
   "version": "3.9.13"
  }
 },
 "nbformat": 4,
 "nbformat_minor": 5
}
