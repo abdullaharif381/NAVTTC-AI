{
 "cells": [
  {
   "cell_type": "code",
   "execution_count": 13,
   "id": "01dca3bb",
   "metadata": {},
   "outputs": [],
   "source": [
    "a=[1,2,4,5,6,6]\n",
    "my=[]\n",
    "for i in a:\n",
    "    count=0\n",
    "    for j in a:\n",
    "        if i==j:\n",
    "            count=count+1\n",
    "    if count==1:\n",
    "        my.append(i)"
   ]
  },
  {
   "cell_type": "code",
   "execution_count": 14,
   "id": "46c44b4e",
   "metadata": {},
   "outputs": [
    {
     "data": {
      "text/plain": [
       "[1, 2, 4, 5]"
      ]
     },
     "execution_count": 14,
     "metadata": {},
     "output_type": "execute_result"
    }
   ],
   "source": [
    "my"
   ]
  },
  {
   "cell_type": "code",
   "execution_count": 16,
   "id": "e7cf31fe",
   "metadata": {},
   "outputs": [],
   "source": [
    "a=[1,3,4,56,8]\n",
    "my=a[0]\n",
    "for i in a:\n",
    "    if my>i:\n",
    "        pass\n",
    "    else:\n",
    "        my=i"
   ]
  },
  {
   "cell_type": "code",
   "execution_count": 17,
   "id": "e377810d",
   "metadata": {},
   "outputs": [
    {
     "data": {
      "text/plain": [
       "56"
      ]
     },
     "execution_count": 17,
     "metadata": {},
     "output_type": "execute_result"
    }
   ],
   "source": [
    "my"
   ]
  },
  {
   "cell_type": "code",
   "execution_count": 22,
   "id": "57c3aa92",
   "metadata": {},
   "outputs": [
    {
     "name": "stdout",
     "output_type": "stream",
     "text": [
      "\n",
      "0\n",
      "01\n",
      "012\n",
      "0123\n"
     ]
    }
   ],
   "source": [
    "for i in range(0,5):\n",
    "    for j in range(0,i):\n",
    "        print(j,end=\"\")\n",
    "    print()"
   ]
  },
  {
   "cell_type": "code",
   "execution_count": 26,
   "id": "03ea3063",
   "metadata": {},
   "outputs": [
    {
     "name": "stdout",
     "output_type": "stream",
     "text": [
      "done 7 3\n",
      "done 3 7\n",
      "done 3 3\n",
      "done 3 4\n",
      "done 4 3\n",
      "done 4 6\n",
      "done 6 4\n",
      "done 40 60\n",
      "done 60 40\n"
     ]
    }
   ],
   "source": [
    "a=[7,3,10,4,6,40,60,100]\n",
    "for i in a:\n",
    "    for j in a:\n",
    "        for k in a:\n",
    "            if i+j ==k:\n",
    "                print(\"done\",i,j)"
   ]
  },
  {
   "cell_type": "code",
   "execution_count": 27,
   "id": "eb67e05c",
   "metadata": {},
   "outputs": [
    {
     "name": "stdout",
     "output_type": "stream",
     "text": [
      "True\n"
     ]
    }
   ],
   "source": [
    "txt = \"The best things in life are free!\"\n",
    "print(\"free\" in txt)"
   ]
  },
  {
   "cell_type": "code",
   "execution_count": 28,
   "id": "6d9ebb9f",
   "metadata": {},
   "outputs": [
    {
     "name": "stdout",
     "output_type": "stream",
     "text": [
      "llo\n"
     ]
    }
   ],
   "source": [
    "b = \"Hello, World!\"\n",
    "print(b[2:5])"
   ]
  },
  {
   "cell_type": "code",
   "execution_count": 29,
   "id": "088258fe",
   "metadata": {},
   "outputs": [
    {
     "name": "stdout",
     "output_type": "stream",
     "text": [
      "HELLO, WORLD!\n"
     ]
    }
   ],
   "source": [
    "a = \"Hello, World!\"\n",
    "print(a.upper())"
   ]
  },
  {
   "cell_type": "code",
   "execution_count": 30,
   "id": "1a99f587",
   "metadata": {},
   "outputs": [
    {
     "name": "stdout",
     "output_type": "stream",
     "text": [
      "hello, world!\n"
     ]
    }
   ],
   "source": [
    "a = \"Hello, World!\"\n",
    "print(a.lower())"
   ]
  },
  {
   "cell_type": "code",
   "execution_count": 31,
   "id": "573b9f25",
   "metadata": {},
   "outputs": [
    {
     "name": "stdout",
     "output_type": "stream",
     "text": [
      "Hello, World!\n"
     ]
    }
   ],
   "source": [
    "a = \"Hello, World!\"\n",
    "print(a.title())"
   ]
  },
  {
   "cell_type": "code",
   "execution_count": 32,
   "id": "e4f61551",
   "metadata": {},
   "outputs": [
    {
     "name": "stdout",
     "output_type": "stream",
     "text": [
      "Jello, World!\n"
     ]
    }
   ],
   "source": [
    "a = \"Hello, World!\"\n",
    "print(a.replace(\"H\", \"J\"))"
   ]
  },
  {
   "cell_type": "code",
   "execution_count": 33,
   "id": "82d7611c",
   "metadata": {},
   "outputs": [
    {
     "name": "stdout",
     "output_type": "stream",
     "text": [
      "['Hello', ' World!']\n"
     ]
    }
   ],
   "source": [
    "a = \"Hello, World!\"\n",
    "print(a.split(\",\"))"
   ]
  },
  {
   "cell_type": "code",
   "execution_count": 35,
   "id": "e0574799",
   "metadata": {},
   "outputs": [
    {
     "name": "stdout",
     "output_type": "stream",
     "text": [
      "I want 20 pieces of item 30 for 60 dollars.\n"
     ]
    }
   ],
   "source": [
    "quantity=20\n",
    "itemno=30\n",
    "price=60\n",
    "myorder = \"I want {} pieces of item {} for {} dollars.\"\n",
    "print(myorder.format(quantity, itemno, price))"
   ]
  },
  {
   "cell_type": "code",
   "execution_count": null,
   "id": "0240cdd4",
   "metadata": {},
   "outputs": [],
   "source": [
    "len(): Returns the length of a string.\n",
    "str(): Converts a value to a string.\n",
    "lower(): Converts all characters in a string to lowercase.\n",
    "upper(): Converts all characters in a string to uppercase.\n",
    "capitalize(): Converts the first character of a string to uppercase and the rest to lowercase.\n",
    "title(): Converts the first character of each word in a string to uppercase.\n",
    "strip(): Removes leading and trailing whitespace from a string.\n",
    "lstrip(): Removes leading whitespace from a string.\n",
    "rstrip(): Removes trailing whitespace from a string.\n",
    "startswith(): Checks if a string starts with a specified substring.\n",
    "endswith(): Checks if a string ends with a specified substring.\n",
    "replace(): Replaces all occurrences of a substring in a string with another substring.\n",
    "split(): Splits a string into a list of substrings based on a delimiter.\n",
    "join(): Joins a list of strings into a single string using a specified delimiter.\n",
    "find(): Returns the index of the first occurrence of a substring in a string.\n",
    "count(): Returns the number of occurrences of a substring in a string.\n",
    "isalpha(): Checks if all characters in a string are alphabetic.\n",
    "isdigit(): Checks if all characters in a string are digits.\n",
    "isalnum(): Checks if all characters in a string are alphanumeric.\n",
    "isspace(): Checks if all characters in a string are whitespace.\n"
   ]
  },
  {
   "cell_type": "code",
   "execution_count": 36,
   "id": "baf599ba",
   "metadata": {},
   "outputs": [],
   "source": [
    "my_diction={\"name\":\"usama\", \"marks\":40}"
   ]
  },
  {
   "cell_type": "code",
   "execution_count": 38,
   "id": "619006f1",
   "metadata": {},
   "outputs": [],
   "source": [
    "my_diction={\"name\":[\"usama\",\"ali\"], \"marks\":40}"
   ]
  },
  {
   "cell_type": "code",
   "execution_count": 39,
   "id": "a24f4ae3",
   "metadata": {},
   "outputs": [
    {
     "data": {
      "text/plain": [
       "{'name': ['usama', 'ali'], 'marks': 40}"
      ]
     },
     "execution_count": 39,
     "metadata": {},
     "output_type": "execute_result"
    }
   ],
   "source": [
    "my_diction"
   ]
  },
  {
   "cell_type": "code",
   "execution_count": 43,
   "id": "abf9c54f",
   "metadata": {},
   "outputs": [
    {
     "data": {
      "text/plain": [
       "dict_keys(['name', 'marks'])"
      ]
     },
     "execution_count": 43,
     "metadata": {},
     "output_type": "execute_result"
    }
   ],
   "source": [
    "my_diction.keys()"
   ]
  },
  {
   "cell_type": "code",
   "execution_count": 44,
   "id": "6c3b3aee",
   "metadata": {},
   "outputs": [
    {
     "data": {
      "text/plain": [
       "dict_values([['usama', 'ali'], 40])"
      ]
     },
     "execution_count": 44,
     "metadata": {},
     "output_type": "execute_result"
    }
   ],
   "source": [
    "my_diction.values()"
   ]
  },
  {
   "cell_type": "code",
   "execution_count": 45,
   "id": "8af9823f",
   "metadata": {},
   "outputs": [
    {
     "name": "stdout",
     "output_type": "stream",
     "text": [
      "name\n",
      "marks\n"
     ]
    }
   ],
   "source": [
    "for i in my_diction.keys():\n",
    "    print(i)"
   ]
  },
  {
   "cell_type": "code",
   "execution_count": 46,
   "id": "2d50db5a",
   "metadata": {},
   "outputs": [
    {
     "name": "stdout",
     "output_type": "stream",
     "text": [
      "['usama', 'ali']\n",
      "40\n"
     ]
    }
   ],
   "source": [
    "for i in my_diction.values():\n",
    "    print(i)"
   ]
  },
  {
   "cell_type": "code",
   "execution_count": 48,
   "id": "cd5c44cb",
   "metadata": {},
   "outputs": [
    {
     "name": "stdout",
     "output_type": "stream",
     "text": [
      "Keys :  name Values :  ['usama', 'ali']\n",
      "Keys :  marks Values :  40\n"
     ]
    }
   ],
   "source": [
    "for keys,values in my_diction.items():\n",
    "    print(\"Keys : \", keys, \"Values : \", values)"
   ]
  },
  {
   "cell_type": "code",
   "execution_count": 49,
   "id": "e8b3ac77",
   "metadata": {},
   "outputs": [],
   "source": [
    "my_diction['hello'] = [80,70]"
   ]
  },
  {
   "cell_type": "code",
   "execution_count": 50,
   "id": "4e194656",
   "metadata": {},
   "outputs": [
    {
     "name": "stdout",
     "output_type": "stream",
     "text": [
      "Keys :  name Values :  ['usama', 'ali']\n",
      "Keys :  marks Values :  40\n",
      "Keys :  hello Values :  [80, 70]\n"
     ]
    }
   ],
   "source": [
    "for keys,values in my_diction.items():\n",
    "    print(\"Keys : \", keys, \"Values : \", values)"
   ]
  },
  {
   "cell_type": "code",
   "execution_count": 51,
   "id": "a163f158",
   "metadata": {},
   "outputs": [],
   "source": [
    "del my_diction['hello']\n",
    "my_diction"
   ]
  },
  {
   "cell_type": "code",
   "execution_count": 52,
   "id": "fadd1dac",
   "metadata": {},
   "outputs": [
    {
     "data": {
      "text/plain": [
       "{'name': ['usama', 'ali'], 'marks': 40}"
      ]
     },
     "execution_count": 52,
     "metadata": {},
     "output_type": "execute_result"
    }
   ],
   "source": []
  },
  {
   "cell_type": "code",
   "execution_count": 53,
   "id": "1c3ae603",
   "metadata": {},
   "outputs": [],
   "source": [
    "my_diction['name']=\"Ali\"\n",
    "my_diction"
   ]
  },
  {
   "cell_type": "code",
   "execution_count": 55,
   "id": "91007a0a",
   "metadata": {},
   "outputs": [
    {
     "data": {
      "text/plain": [
       "30"
      ]
     },
     "execution_count": 55,
     "metadata": {},
     "output_type": "execute_result"
    }
   ],
   "source": [
    "a=[10,20,30]\n",
    "a.pop()"
   ]
  },
  {
   "cell_type": "code",
   "execution_count": 62,
   "id": "fef4d070",
   "metadata": {},
   "outputs": [],
   "source": [
    "a=[10,20]"
   ]
  },
  {
   "cell_type": "code",
   "execution_count": 63,
   "id": "6e5e82e2",
   "metadata": {},
   "outputs": [
    {
     "data": {
      "text/plain": [
       "'Ali'"
      ]
     },
     "execution_count": 63,
     "metadata": {},
     "output_type": "execute_result"
    }
   ],
   "source": [
    "\n",
    "my_diction['name']"
   ]
  },
  {
   "cell_type": "code",
   "execution_count": null,
   "id": "b9915ea1",
   "metadata": {},
   "outputs": [],
   "source": []
  }
 ],
 "metadata": {
  "kernelspec": {
   "display_name": "Python 3 (ipykernel)",
   "language": "python",
   "name": "python3"
  },
  "language_info": {
   "codemirror_mode": {
    "name": "ipython",
    "version": 3
   },
   "file_extension": ".py",
   "mimetype": "text/x-python",
   "name": "python",
   "nbconvert_exporter": "python",
   "pygments_lexer": "ipython3",
   "version": "3.9.13"
  }
 },
 "nbformat": 4,
 "nbformat_minor": 5
}
