{
 "cells": [
  {
   "cell_type": "code",
   "execution_count": 43,
   "id": "5982c1db",
   "metadata": {},
   "outputs": [
    {
     "name": "stdout",
     "output_type": "stream",
     "text": [
      "10 = 4 + 6\n",
      "6 = 4 + 2\n",
      "12 = 10 + 2\n"
     ]
    }
   ],
   "source": [
    "#this program sums to numbers in a list and checks if the sum is present in the list \n",
    "listt=[4,6,10,2,12] #list\n",
    "size=len(listt) #size declared\n",
    "for i in range(size): #first complete loop\n",
    "    summ=0 #sum initialized to 0\n",
    "    for j in range(i+1, size): #second loop starting from i index and ending at the last index of list\n",
    "        summ=listt[i]+listt[j] #addition of value at i and value at j\n",
    "        for k in range(size):   #third loop complete\n",
    "            if summ == listt[k]: #comparison of sum and number in k index\n",
    "                print(summ,\"=\",listt[i],\"+\", listt[j]) #print\n",
    "\n",
    "                \n",
    "\n",
    "        \n",
    "        "
   ]
  },
  {
   "cell_type": "code",
   "execution_count": 40,
   "id": "3f0732ba",
   "metadata": {
    "scrolled": true
   },
   "outputs": [
    {
     "name": "stdout",
     "output_type": "stream",
     "text": [
      "neutral\n",
      "12\n",
      "a pair of ones\n",
      "many owls together\n",
      "many lions together\n",
      "\n",
      "\n",
      "\n",
      "0\n",
      "a dozen\n",
      "snake eyes\n",
      "parliament\n",
      "pride\n",
      "\n",
      "\n",
      "\n",
      "(0, 'neutral')\n",
      "('a dozen', 12)\n",
      "('snake eyes', 'a pair of ones')\n",
      "('parliament', 'many owls together')\n",
      "('pride', 'many lions together')\n",
      "\n",
      "\n",
      "\n",
      " 0 is neutral\n",
      " a dozen is 12\n",
      " snake eyes is a pair of ones\n",
      " parliament is many owls together\n",
      " pride is many lions together\n"
     ]
    }
   ],
   "source": [
    "what_is = {0: \"neutral\",\n",
    "                      \"a dozen\": 12,\n",
    "                      \"snake eyes\": \"a pair of ones\",\n",
    "                      13: \"a baker's dozen\",\n",
    "          'parliament':'many owls together',\n",
    "          'pride':'many lions together'}\n",
    "what_is[13]=\"odd number\"\n",
    "what_is[13]\n",
    "del what_is[13]\n",
    "        \n",
    "for vals in what_is.values():\n",
    "    print(vals)\n",
    "print(\"\\n\\n\")\n",
    "for defs in what_is:\n",
    "    print(defs)\n",
    "print(\"\\n\\n\")\n",
    "\n",
    "for every in what_is.items():\n",
    "    print(every)\n",
    "print(\"\\n\\n\")\n",
    "\n",
    "for keys,values in what_is.items():\n",
    "    print(\"\", keys,\"is\", values)"
   ]
  }
 ],
 "metadata": {
  "kernelspec": {
   "display_name": "Python 3 (ipykernel)",
   "language": "python",
   "name": "python3"
  },
  "language_info": {
   "codemirror_mode": {
    "name": "ipython",
    "version": 3
   },
   "file_extension": ".py",
   "mimetype": "text/x-python",
   "name": "python",
   "nbconvert_exporter": "python",
   "pygments_lexer": "ipython3",
   "version": "3.9.13"
  }
 },
 "nbformat": 4,
 "nbformat_minor": 5
}
