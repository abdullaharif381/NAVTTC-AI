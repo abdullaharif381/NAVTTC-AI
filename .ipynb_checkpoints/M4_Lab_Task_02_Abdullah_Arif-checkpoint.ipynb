{
 "cells": [
  {
   "cell_type": "code",
   "execution_count": 55,
   "id": "3f586c93",
   "metadata": {},
   "outputs": [],
   "source": [
    "import numpy as np\n",
    "import os\n",
    "import cv2\n",
    "\n",
    "import glob\n",
    "from sklearn.preprocessing import OneHotEncoder\n",
    "from sklearn.model_selection import train_test_split\n",
    "\n",
    "import matplotlib.pyplot as plt\n",
    "\n"
   ]
  },
  {
   "cell_type": "code",
   "execution_count": 56,
   "id": "bcb67674",
   "metadata": {
    "scrolled": true
   },
   "outputs": [],
   "source": [
    "import tensorflow as tf\n",
    "from tensorflow.keras import layers\n",
    "from tensorflow.keras import models"
   ]
  },
  {
   "cell_type": "code",
   "execution_count": 57,
   "id": "de158d7e",
   "metadata": {},
   "outputs": [],
   "source": [
    "encoder=OneHotEncoder()"
   ]
  },
  {
   "cell_type": "code",
   "execution_count": 58,
   "id": "067181bf",
   "metadata": {},
   "outputs": [],
   "source": [
    "data_dir = 'D:/My folder/Corvit Navttc AI/data/trainingSample/trainingSample'\n",
    "folders = os.listdir(data_dir)\n",
    "images = []\n",
    "labels = []"
   ]
  },
  {
   "cell_type": "code",
   "execution_count": 59,
   "id": "4383ace8",
   "metadata": {},
   "outputs": [],
   "source": [
    "for folder in folders:\n",
    "    folder_path = os.path.join(data_dir, folder)\n",
    "    for file_path in glob.glob(os.path.join(folder_path, '*.*')):\n",
    "        image = cv2.imread(file_path, cv2.IMREAD_GRAYSCALE)\n",
    "        images.append((image).flatten())\n",
    "        labels.append(folder)"
   ]
  },
  {
   "cell_type": "code",
   "execution_count": 60,
   "id": "a6839f06",
   "metadata": {},
   "outputs": [],
   "source": [
    "labes = np.array(labels).reshape(-1,1)\n",
    "labels=encoder.fit_transform(np.c_[labels])"
   ]
  },
  {
   "cell_type": "code",
   "execution_count": 61,
   "id": "c7a12743",
   "metadata": {
    "scrolled": true
   },
   "outputs": [
    {
     "name": "stdout",
     "output_type": "stream",
     "text": [
      "(600, 784)\n",
      "(600, 10)\n"
     ]
    }
   ],
   "source": [
    "X = np.array(images)\n",
    "y  = labels.toarray()\n",
    "print(X.shape)\n",
    "print(y.shape)"
   ]
  },
  {
   "cell_type": "code",
   "execution_count": 83,
   "id": "6233c9ba",
   "metadata": {},
   "outputs": [],
   "source": [
    "trainX, testX, trainy, testy = train_test_split(X,y,random_state=42)"
   ]
  },
  {
   "cell_type": "code",
   "execution_count": 84,
   "id": "b4fa3425",
   "metadata": {},
   "outputs": [
    {
     "name": "stdout",
     "output_type": "stream",
     "text": [
      "Model: \"sequential_14\"\n",
      "_________________________________________________________________\n",
      " Layer (type)                Output Shape              Param #   \n",
      "=================================================================\n",
      " dense_85 (Dense)            (None, 900)               706500    \n",
      "                                                                 \n",
      " dense_86 (Dense)            (None, 800)               720800    \n",
      "                                                                 \n",
      " dense_87 (Dense)            (None, 10)                8010      \n",
      "                                                                 \n",
      "=================================================================\n",
      "Total params: 1435310 (5.48 MB)\n",
      "Trainable params: 1435310 (5.48 MB)\n",
      "Non-trainable params: 0 (0.00 Byte)\n",
      "_________________________________________________________________\n"
     ]
    },
    {
     "data": {
      "text/plain": [
       "NoneType"
      ]
     },
     "execution_count": 84,
     "metadata": {},
     "output_type": "execute_result"
    }
   ],
   "source": [
    "model=models.Sequential()\n",
    "model.add(layers.Dense(900, input_dim=784, activation='selu'))\n",
    "model.add(layers.Dense(800, activation='selu'))\n",
    "model.add(layers.Dense(10, activation='softmax'))\n",
    "type(model.summary())"
   ]
  },
  {
   "cell_type": "code",
   "execution_count": 85,
   "id": "6aedbefa",
   "metadata": {},
   "outputs": [],
   "source": [
    "model.compile(loss='categorical_crossentropy',optimizer='adam',metrics=['accuracy'])"
   ]
  },
  {
   "cell_type": "code",
   "execution_count": 87,
   "id": "f5ca305c",
   "metadata": {},
   "outputs": [
    {
     "name": "stdout",
     "output_type": "stream",
     "text": [
      "Epoch 1/100\n",
      "2/2 [==============================] - 0s 153ms/step - loss: 166.8795 - accuracy: 0.6825 - val_loss: 157.0028 - val_accuracy: 0.2500\n",
      "Epoch 2/100\n",
      "2/2 [==============================] - 0s 141ms/step - loss: 38.7982 - accuracy: 0.6667 - val_loss: 16.5139 - val_accuracy: 0.6111\n",
      "Epoch 3/100\n",
      "2/2 [==============================] - 0s 130ms/step - loss: 7.4786 - accuracy: 0.7873 - val_loss: 11.3252 - val_accuracy: 0.6167\n",
      "Epoch 4/100\n",
      "2/2 [==============================] - 0s 152ms/step - loss: 3.3531 - accuracy: 0.8698 - val_loss: 10.9218 - val_accuracy: 0.5833\n",
      "Epoch 5/100\n",
      "2/2 [==============================] - 0s 136ms/step - loss: 3.0299 - accuracy: 0.8413 - val_loss: 5.3478 - val_accuracy: 0.7778\n",
      "Epoch 6/100\n",
      "2/2 [==============================] - 0s 115ms/step - loss: 0.7524 - accuracy: 0.9524 - val_loss: 6.9886 - val_accuracy: 0.7278\n",
      "Epoch 7/100\n",
      "2/2 [==============================] - 0s 120ms/step - loss: 0.6540 - accuracy: 0.9460 - val_loss: 3.4725 - val_accuracy: 0.8778\n",
      "Epoch 8/100\n",
      "2/2 [==============================] - 0s 139ms/step - loss: 0.0364 - accuracy: 0.9905 - val_loss: 3.0892 - val_accuracy: 0.8722\n",
      "Epoch 9/100\n",
      "2/2 [==============================] - 0s 135ms/step - loss: 0.4613 - accuracy: 0.9683 - val_loss: 3.2929 - val_accuracy: 0.8611\n",
      "Epoch 10/100\n",
      "2/2 [==============================] - 0s 145ms/step - loss: 0.0396 - accuracy: 0.9873 - val_loss: 3.7009 - val_accuracy: 0.8722\n",
      "Epoch 11/100\n",
      "2/2 [==============================] - 0s 160ms/step - loss: 0.0109 - accuracy: 0.9968 - val_loss: 4.1805 - val_accuracy: 0.8611\n",
      "Epoch 12/100\n",
      "2/2 [==============================] - 0s 142ms/step - loss: 0.0044 - accuracy: 0.9968 - val_loss: 4.2688 - val_accuracy: 0.8778\n",
      "Epoch 13/100\n",
      "2/2 [==============================] - 0s 121ms/step - loss: 1.0032e-04 - accuracy: 1.0000 - val_loss: 4.3724 - val_accuracy: 0.8556\n",
      "Epoch 14/100\n",
      "2/2 [==============================] - 0s 122ms/step - loss: 0.0138 - accuracy: 0.9968 - val_loss: 4.2777 - val_accuracy: 0.8722\n",
      "Epoch 15/100\n",
      "2/2 [==============================] - 0s 137ms/step - loss: 1.2193e-05 - accuracy: 1.0000 - val_loss: 4.1043 - val_accuracy: 0.8778\n",
      "Epoch 16/100\n",
      "2/2 [==============================] - 0s 142ms/step - loss: 0.0032 - accuracy: 0.9968 - val_loss: 3.9452 - val_accuracy: 0.8833\n",
      "Epoch 17/100\n",
      "2/2 [==============================] - 0s 156ms/step - loss: 8.0308e-06 - accuracy: 1.0000 - val_loss: 3.7947 - val_accuracy: 0.8833\n",
      "Epoch 18/100\n",
      "2/2 [==============================] - 0s 143ms/step - loss: 2.9164e-05 - accuracy: 1.0000 - val_loss: 3.7066 - val_accuracy: 0.8889\n",
      "Epoch 19/100\n",
      "2/2 [==============================] - 0s 148ms/step - loss: 1.3828e-04 - accuracy: 1.0000 - val_loss: 3.6555 - val_accuracy: 0.8889\n",
      "Epoch 20/100\n",
      "2/2 [==============================] - 0s 139ms/step - loss: 1.1393e-04 - accuracy: 1.0000 - val_loss: 3.6392 - val_accuracy: 0.9000\n",
      "Epoch 21/100\n",
      "2/2 [==============================] - 0s 130ms/step - loss: 9.6256e-05 - accuracy: 1.0000 - val_loss: 3.6372 - val_accuracy: 0.9056\n",
      "Epoch 22/100\n",
      "2/2 [==============================] - 0s 134ms/step - loss: 2.0052e-04 - accuracy: 1.0000 - val_loss: 3.6446 - val_accuracy: 0.9056\n",
      "Epoch 23/100\n",
      "2/2 [==============================] - 0s 148ms/step - loss: 1.9530e-04 - accuracy: 1.0000 - val_loss: 3.6555 - val_accuracy: 0.9056\n",
      "Epoch 24/100\n",
      "2/2 [==============================] - 0s 147ms/step - loss: 0.0058 - accuracy: 0.9968 - val_loss: 3.6560 - val_accuracy: 0.9056\n",
      "Epoch 25/100\n",
      "2/2 [==============================] - 0s 133ms/step - loss: 1.8370e-05 - accuracy: 1.0000 - val_loss: 3.6813 - val_accuracy: 0.9000\n",
      "Epoch 26/100\n",
      "2/2 [==============================] - 0s 149ms/step - loss: 2.6636e-05 - accuracy: 1.0000 - val_loss: 3.7312 - val_accuracy: 0.9000\n",
      "Epoch 27/100\n",
      "2/2 [==============================] - 0s 129ms/step - loss: 4.9610e-05 - accuracy: 1.0000 - val_loss: 3.8083 - val_accuracy: 0.9000\n",
      "Epoch 28/100\n",
      "2/2 [==============================] - 0s 121ms/step - loss: 2.6895e-04 - accuracy: 1.0000 - val_loss: 3.8876 - val_accuracy: 0.8944\n",
      "Epoch 29/100\n",
      "2/2 [==============================] - 0s 122ms/step - loss: 0.0017 - accuracy: 1.0000 - val_loss: 3.9839 - val_accuracy: 0.9000\n",
      "Epoch 30/100\n",
      "2/2 [==============================] - 0s 153ms/step - loss: 6.0176e-05 - accuracy: 1.0000 - val_loss: 4.0971 - val_accuracy: 0.9000\n",
      "Epoch 31/100\n",
      "2/2 [==============================] - 0s 137ms/step - loss: 3.9095e-04 - accuracy: 1.0000 - val_loss: 4.1602 - val_accuracy: 0.9000\n",
      "Epoch 32/100\n",
      "2/2 [==============================] - 0s 127ms/step - loss: 1.0292e-05 - accuracy: 1.0000 - val_loss: 4.2203 - val_accuracy: 0.9000\n",
      "Epoch 33/100\n",
      "2/2 [==============================] - 0s 122ms/step - loss: 7.2504e-06 - accuracy: 1.0000 - val_loss: 4.2711 - val_accuracy: 0.9000\n",
      "Epoch 34/100\n",
      "2/2 [==============================] - 0s 128ms/step - loss: 6.0430e-06 - accuracy: 1.0000 - val_loss: 4.3129 - val_accuracy: 0.9000\n",
      "Epoch 35/100\n",
      "2/2 [==============================] - 0s 142ms/step - loss: 5.0963e-06 - accuracy: 1.0000 - val_loss: 4.3476 - val_accuracy: 0.9000\n",
      "Epoch 36/100\n",
      "2/2 [==============================] - 0s 139ms/step - loss: 5.2655e-06 - accuracy: 1.0000 - val_loss: 4.3767 - val_accuracy: 0.9000\n",
      "Epoch 37/100\n",
      "2/2 [==============================] - 0s 151ms/step - loss: 5.1540e-06 - accuracy: 1.0000 - val_loss: 4.4008 - val_accuracy: 0.9000\n",
      "Epoch 38/100\n",
      "2/2 [==============================] - 0s 148ms/step - loss: 5.3244e-06 - accuracy: 1.0000 - val_loss: 4.4207 - val_accuracy: 0.9000\n",
      "Epoch 39/100\n",
      "2/2 [==============================] - 0s 141ms/step - loss: 6.1004e-06 - accuracy: 1.0000 - val_loss: 4.4370 - val_accuracy: 0.9000\n",
      "Epoch 40/100\n",
      "2/2 [==============================] - 0s 131ms/step - loss: 6.0495e-06 - accuracy: 1.0000 - val_loss: 4.4500 - val_accuracy: 0.9000\n",
      "Epoch 41/100\n",
      "2/2 [==============================] - 0s 121ms/step - loss: 6.0841e-06 - accuracy: 1.0000 - val_loss: 4.4604 - val_accuracy: 0.9000\n",
      "Epoch 42/100\n",
      "2/2 [==============================] - 0s 142ms/step - loss: 5.7823e-06 - accuracy: 1.0000 - val_loss: 4.4686 - val_accuracy: 0.9000\n",
      "Epoch 43/100\n",
      "2/2 [==============================] - 0s 147ms/step - loss: 5.5252e-06 - accuracy: 1.0000 - val_loss: 4.4749 - val_accuracy: 0.9000\n",
      "Epoch 44/100\n",
      "2/2 [==============================] - 0s 144ms/step - loss: 4.9319e-06 - accuracy: 1.0000 - val_loss: 4.4797 - val_accuracy: 0.9000\n",
      "Epoch 45/100\n",
      "2/2 [==============================] - 0s 125ms/step - loss: 4.4355e-06 - accuracy: 1.0000 - val_loss: 4.4834 - val_accuracy: 0.9000\n",
      "Epoch 46/100\n",
      "2/2 [==============================] - 0s 121ms/step - loss: 3.9533e-06 - accuracy: 1.0000 - val_loss: 4.4862 - val_accuracy: 0.9000\n",
      "Epoch 47/100\n",
      "2/2 [==============================] - 0s 135ms/step - loss: 3.5221e-06 - accuracy: 1.0000 - val_loss: 4.4883 - val_accuracy: 0.9000\n",
      "Epoch 48/100\n",
      "2/2 [==============================] - 0s 161ms/step - loss: 3.0698e-06 - accuracy: 1.0000 - val_loss: 4.4899 - val_accuracy: 0.9000\n",
      "Epoch 49/100\n",
      "2/2 [==============================] - 0s 145ms/step - loss: 2.8958e-06 - accuracy: 1.0000 - val_loss: 4.4908 - val_accuracy: 0.9000\n",
      "Epoch 50/100\n",
      "2/2 [==============================] - 0s 149ms/step - loss: 2.6313e-06 - accuracy: 1.0000 - val_loss: 4.4914 - val_accuracy: 0.9000\n",
      "Epoch 51/100\n",
      "2/2 [==============================] - 0s 127ms/step - loss: 2.3416e-06 - accuracy: 1.0000 - val_loss: 4.4918 - val_accuracy: 0.9000\n",
      "Epoch 52/100\n",
      "2/2 [==============================] - 0s 122ms/step - loss: 2.1645e-06 - accuracy: 1.0000 - val_loss: 4.4919 - val_accuracy: 0.9000\n",
      "Epoch 53/100\n",
      "2/2 [==============================] - 0s 137ms/step - loss: 2.0786e-06 - accuracy: 1.0000 - val_loss: 4.4919 - val_accuracy: 0.9000\n",
      "Epoch 54/100\n",
      "2/2 [==============================] - 0s 130ms/step - loss: 1.8932e-06 - accuracy: 1.0000 - val_loss: 4.4917 - val_accuracy: 0.9000\n",
      "Epoch 55/100\n",
      "2/2 [==============================] - 0s 159ms/step - loss: 1.8274e-06 - accuracy: 1.0000 - val_loss: 4.4914 - val_accuracy: 0.9000\n",
      "Epoch 56/100\n",
      "2/2 [==============================] - 0s 134ms/step - loss: 1.7188e-06 - accuracy: 1.0000 - val_loss: 4.4911 - val_accuracy: 0.9000\n",
      "Epoch 57/100\n"
     ]
    },
    {
     "name": "stdout",
     "output_type": "stream",
     "text": [
      "2/2 [==============================] - 0s 147ms/step - loss: 1.6389e-06 - accuracy: 1.0000 - val_loss: 4.4907 - val_accuracy: 0.9000\n",
      "Epoch 58/100\n",
      "2/2 [==============================] - 0s 143ms/step - loss: 1.5686e-06 - accuracy: 1.0000 - val_loss: 4.4903 - val_accuracy: 0.9000\n",
      "Epoch 59/100\n",
      "2/2 [==============================] - 0s 118ms/step - loss: 1.5035e-06 - accuracy: 1.0000 - val_loss: 4.4899 - val_accuracy: 0.9000\n",
      "Epoch 60/100\n",
      "2/2 [==============================] - 0s 126ms/step - loss: 1.4498e-06 - accuracy: 1.0000 - val_loss: 4.4894 - val_accuracy: 0.9000\n",
      "Epoch 61/100\n",
      "2/2 [==============================] - 0s 115ms/step - loss: 1.3919e-06 - accuracy: 1.0000 - val_loss: 4.4889 - val_accuracy: 0.9000\n",
      "Epoch 62/100\n",
      "2/2 [==============================] - 0s 130ms/step - loss: 1.3483e-06 - accuracy: 1.0000 - val_loss: 4.4885 - val_accuracy: 0.9000\n",
      "Epoch 63/100\n",
      "2/2 [==============================] - 0s 176ms/step - loss: 1.3211e-06 - accuracy: 1.0000 - val_loss: 4.4880 - val_accuracy: 0.9000\n",
      "Epoch 64/100\n",
      "2/2 [==============================] - 0s 122ms/step - loss: 1.2700e-06 - accuracy: 1.0000 - val_loss: 4.4875 - val_accuracy: 0.9000\n",
      "Epoch 65/100\n",
      "2/2 [==============================] - 0s 122ms/step - loss: 1.2431e-06 - accuracy: 1.0000 - val_loss: 4.4870 - val_accuracy: 0.9000\n",
      "Epoch 66/100\n",
      "2/2 [==============================] - 0s 133ms/step - loss: 1.2087e-06 - accuracy: 1.0000 - val_loss: 4.4865 - val_accuracy: 0.9000\n",
      "Epoch 67/100\n",
      "2/2 [==============================] - 0s 134ms/step - loss: 1.1837e-06 - accuracy: 1.0000 - val_loss: 4.4861 - val_accuracy: 0.9000\n",
      "Epoch 68/100\n",
      "2/2 [==============================] - 0s 134ms/step - loss: 1.1538e-06 - accuracy: 1.0000 - val_loss: 4.4856 - val_accuracy: 0.9000\n",
      "Epoch 69/100\n",
      "2/2 [==============================] - 0s 126ms/step - loss: 1.1228e-06 - accuracy: 1.0000 - val_loss: 4.4852 - val_accuracy: 0.9000\n",
      "Epoch 70/100\n",
      "2/2 [==============================] - 0s 133ms/step - loss: 1.1043e-06 - accuracy: 1.0000 - val_loss: 4.4847 - val_accuracy: 0.9000\n",
      "Epoch 71/100\n",
      "2/2 [==============================] - 0s 137ms/step - loss: 1.0770e-06 - accuracy: 1.0000 - val_loss: 4.4843 - val_accuracy: 0.9000\n",
      "Epoch 72/100\n",
      "2/2 [==============================] - 0s 119ms/step - loss: 1.0623e-06 - accuracy: 1.0000 - val_loss: 4.4839 - val_accuracy: 0.9000\n",
      "Epoch 73/100\n",
      "2/2 [==============================] - 0s 147ms/step - loss: 1.0411e-06 - accuracy: 1.0000 - val_loss: 4.4835 - val_accuracy: 0.9000\n",
      "Epoch 74/100\n",
      "2/2 [==============================] - 0s 149ms/step - loss: 1.0199e-06 - accuracy: 1.0000 - val_loss: 4.4831 - val_accuracy: 0.9000\n",
      "Epoch 75/100\n",
      "2/2 [==============================] - 0s 139ms/step - loss: 1.0047e-06 - accuracy: 1.0000 - val_loss: 4.4827 - val_accuracy: 0.9000\n",
      "Epoch 76/100\n",
      "2/2 [==============================] - 0s 115ms/step - loss: 9.8506e-07 - accuracy: 1.0000 - val_loss: 4.4823 - val_accuracy: 0.9000\n",
      "Epoch 77/100\n",
      "2/2 [==============================] - 0s 130ms/step - loss: 9.7031e-07 - accuracy: 1.0000 - val_loss: 4.4819 - val_accuracy: 0.9000\n",
      "Epoch 78/100\n",
      "2/2 [==============================] - 0s 136ms/step - loss: 9.5441e-07 - accuracy: 1.0000 - val_loss: 4.4816 - val_accuracy: 0.9000\n",
      "Epoch 79/100\n",
      "2/2 [==============================] - 0s 112ms/step - loss: 9.4117e-07 - accuracy: 1.0000 - val_loss: 4.4812 - val_accuracy: 0.9000\n",
      "Epoch 80/100\n",
      "2/2 [==============================] - 0s 116ms/step - loss: 9.2489e-07 - accuracy: 1.0000 - val_loss: 4.4809 - val_accuracy: 0.9000\n",
      "Epoch 81/100\n",
      "2/2 [==============================] - 0s 131ms/step - loss: 9.1392e-07 - accuracy: 1.0000 - val_loss: 4.4805 - val_accuracy: 0.9000\n",
      "Epoch 82/100\n",
      "2/2 [==============================] - 0s 116ms/step - loss: 9.0105e-07 - accuracy: 1.0000 - val_loss: 4.4802 - val_accuracy: 0.9000\n",
      "Epoch 83/100\n",
      "2/2 [==============================] - 0s 132ms/step - loss: 8.8894e-07 - accuracy: 1.0000 - val_loss: 4.4798 - val_accuracy: 0.9000\n",
      "Epoch 84/100\n",
      "2/2 [==============================] - 0s 120ms/step - loss: 8.7608e-07 - accuracy: 1.0000 - val_loss: 4.4795 - val_accuracy: 0.9000\n",
      "Epoch 85/100\n",
      "2/2 [==============================] - 0s 136ms/step - loss: 8.6283e-07 - accuracy: 1.0000 - val_loss: 4.4792 - val_accuracy: 0.9000\n",
      "Epoch 86/100\n",
      "2/2 [==============================] - 0s 128ms/step - loss: 8.5072e-07 - accuracy: 1.0000 - val_loss: 4.4789 - val_accuracy: 0.9000\n",
      "Epoch 87/100\n",
      "2/2 [==============================] - 0s 122ms/step - loss: 8.4088e-07 - accuracy: 1.0000 - val_loss: 4.4786 - val_accuracy: 0.9000\n",
      "Epoch 88/100\n",
      "2/2 [==============================] - 0s 136ms/step - loss: 8.2991e-07 - accuracy: 1.0000 - val_loss: 4.4783 - val_accuracy: 0.9000\n",
      "Epoch 89/100\n",
      "2/2 [==============================] - 0s 129ms/step - loss: 8.1969e-07 - accuracy: 1.0000 - val_loss: 4.4779 - val_accuracy: 0.9000\n",
      "Epoch 90/100\n",
      "2/2 [==============================] - 0s 119ms/step - loss: 8.0758e-07 - accuracy: 1.0000 - val_loss: 4.4776 - val_accuracy: 0.9000\n",
      "Epoch 91/100\n",
      "2/2 [==============================] - 0s 133ms/step - loss: 7.9774e-07 - accuracy: 1.0000 - val_loss: 4.4773 - val_accuracy: 0.9000\n",
      "Epoch 92/100\n",
      "2/2 [==============================] - 0s 126ms/step - loss: 7.8866e-07 - accuracy: 1.0000 - val_loss: 4.4770 - val_accuracy: 0.9000\n",
      "Epoch 93/100\n",
      "2/2 [==============================] - 0s 143ms/step - loss: 7.8034e-07 - accuracy: 1.0000 - val_loss: 4.4767 - val_accuracy: 0.9000\n",
      "Epoch 94/100\n",
      "2/2 [==============================] - 0s 140ms/step - loss: 7.7050e-07 - accuracy: 1.0000 - val_loss: 4.4764 - val_accuracy: 0.9000\n",
      "Epoch 95/100\n",
      "2/2 [==============================] - 0s 119ms/step - loss: 7.6179e-07 - accuracy: 1.0000 - val_loss: 4.4761 - val_accuracy: 0.9000\n",
      "Epoch 96/100\n",
      "2/2 [==============================] - 0s 120ms/step - loss: 7.5195e-07 - accuracy: 1.0000 - val_loss: 4.4758 - val_accuracy: 0.9000\n",
      "Epoch 97/100\n",
      "2/2 [==============================] - 0s 144ms/step - loss: 7.4174e-07 - accuracy: 1.0000 - val_loss: 4.4756 - val_accuracy: 0.9000\n",
      "Epoch 98/100\n",
      "2/2 [==============================] - 0s 136ms/step - loss: 7.3644e-07 - accuracy: 1.0000 - val_loss: 4.4753 - val_accuracy: 0.9000\n",
      "Epoch 99/100\n",
      "2/2 [==============================] - 0s 155ms/step - loss: 7.2811e-07 - accuracy: 1.0000 - val_loss: 4.4751 - val_accuracy: 0.9000\n",
      "Epoch 100/100\n",
      "2/2 [==============================] - 0s 151ms/step - loss: 7.1865e-07 - accuracy: 1.0000 - val_loss: 4.4748 - val_accuracy: 0.9000\n"
     ]
    },
    {
     "data": {
      "text/plain": [
       "<keras.src.callbacks.History at 0x2341d11a130>"
      ]
     },
     "execution_count": 87,
     "metadata": {},
     "output_type": "execute_result"
    }
   ],
   "source": [
    "model.fit(trainX,trainy,batch_size=200,\n",
    "    epochs=100,\n",
    "    verbose=1,\n",
    "    validation_split=0.3,\n",
    "    shuffle=True,\n",
    "    class_weight=None,\n",
    "    sample_weight=None,\n",
    "    initial_epoch=0,\n",
    "    steps_per_epoch=None,\n",
    "    validation_steps=None,\n",
    "    validation_batch_size=None,\n",
    "    validation_freq=1,\n",
    "    max_queue_size=10,\n",
    "    workers=1,\n",
    "    use_multiprocessing=False,)"
   ]
  },
  {
   "cell_type": "code",
   "execution_count": 90,
   "id": "f7404878",
   "metadata": {},
   "outputs": [
    {
     "name": "stdout",
     "output_type": "stream",
     "text": [
      "5/5 [==============================] - 0s 32ms/step\n"
     ]
    }
   ],
   "source": [
    "y_pred = model.predict(testX, verbose=1)  \n"
   ]
  },
  {
   "cell_type": "code",
   "execution_count": 92,
   "id": "d03e7638",
   "metadata": {},
   "outputs": [],
   "source": [
    "from sklearn.metrics import confusion_matrix\n"
   ]
  },
  {
   "cell_type": "code",
   "execution_count": 95,
   "id": "72f171db",
   "metadata": {},
   "outputs": [
    {
     "data": {
      "text/plain": [
       "array([[13,  0,  0,  0,  0,  0,  0,  0,  0,  0],\n",
       "       [ 0, 24,  0,  0,  0,  0,  0,  0,  1,  0],\n",
       "       [ 0,  0, 14,  0,  0,  0,  0,  0,  0,  0],\n",
       "       [ 0,  0,  0, 17,  0,  0,  0,  0,  0,  1],\n",
       "       [ 0,  0,  0,  0, 12,  0,  0,  0,  0,  0],\n",
       "       [ 0,  1,  0,  1,  0,  7,  0,  0,  0,  0],\n",
       "       [ 0,  0,  0,  0,  0,  0, 13,  0,  1,  0],\n",
       "       [ 0,  0,  0,  0,  0,  0,  0, 13,  0,  1],\n",
       "       [ 0,  0,  0,  0,  1,  1,  1,  0,  8,  0],\n",
       "       [ 0,  0,  0,  0,  5,  0,  0,  2,  1, 12]], dtype=int64)"
      ]
     },
     "execution_count": 95,
     "metadata": {},
     "output_type": "execute_result"
    }
   ],
   "source": [
    "cm = confusion_matrix(encoder.inverse_transform(testy), encoder.inverse_transform(y_pred))\n",
    "cm"
   ]
  },
  {
   "cell_type": "code",
   "execution_count": 98,
   "id": "4bc0a3d5",
   "metadata": {},
   "outputs": [],
   "source": [
    "import seaborn as sns\n"
   ]
  },
  {
   "cell_type": "code",
   "execution_count": 99,
   "id": "d1473cc4",
   "metadata": {},
   "outputs": [
    {
     "data": {
      "image/png": "[encoded data removed]",
      "text/plain": [
       "<Figure size 300x300 with 2 Axes>"
      ]
     },
     "metadata": {},
     "output_type": "display_data"
    }
   ],
   "source": [
    "plt.figure(figsize=(3, 3))\n",
    "sns.heatmap(cm, annot=True, fmt='d', cmap='Blues')\n",
    "plt.xlabel('Predicted')\n",
    "plt.ylabel('True')\n",
    "plt.title('Confusion Matrix')\n",
    "plt.show()"
   ]
  },
  {
   "cell_type": "code",
   "execution_count": null,
   "id": "77554091",
   "metadata": {},
   "outputs": [],
   "source": []
  }
 ],
 "metadata": {
  "kernelspec": {
   "display_name": "Python 3 (ipykernel)",
   "language": "python",
   "name": "python3"
  },
  "language_info": {
   "codemirror_mode": {
    "name": "ipython",
    "version": 3
   },
   "file_extension": ".py",
   "mimetype": "text/x-python",
   "name": "python",
   "nbconvert_exporter": "python",
   "pygments_lexer": "ipython3",
   "version": "3.9.13"
  }
 },
 "nbformat": 4,
 "nbformat_minor": 5
}
