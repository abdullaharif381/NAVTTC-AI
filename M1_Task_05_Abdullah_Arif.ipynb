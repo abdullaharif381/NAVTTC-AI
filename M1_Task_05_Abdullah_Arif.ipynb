{
 "cells": [
  {
   "cell_type": "code",
   "execution_count": 33,
   "id": "0c2691eb",
   "metadata": {},
   "outputs": [
    {
     "name": "stdout",
     "output_type": "stream",
     "text": [
      "x =  5\n",
      "x!= 120\n"
     ]
    }
   ],
   "source": [
    "x=int(input(\"x =  \")) # factorial calculator\n",
    "i=x\n",
    "fac=1\n",
    "while i>0:\n",
    "    fac = fac*i\n",
    "    i-=1\n",
    "print(\"x!=\",fac)\n"
   ]
  },
  {
   "cell_type": "code",
   "execution_count": 46,
   "id": "06c4eb7e",
   "metadata": {},
   "outputs": [
    {
     "name": "stdout",
     "output_type": "stream",
     "text": [
      "lines: 7\n",
      "Character: *\n",
      "\n",
      "*******\n",
      "******\n",
      "*****\n",
      "****\n",
      "***\n",
      "**\n",
      "*\n"
     ]
    }
   ],
   "source": [
    "n=int(input(\"lines: \")) #inverted right - angled triangle\n",
    "car = (input(\"Character: \"))\n",
    "i=0\n",
    "print()\n",
    "while(i<n):\n",
    "    print(car * (n-i))\n",
    "    i+=1"
   ]
  },
  {
   "cell_type": "code",
   "execution_count": 4,
   "id": "489fb23c",
   "metadata": {},
   "outputs": [
    {
     "name": "stdout",
     "output_type": "stream",
     "text": [
      "x = 3\n",
      "n = 2\n",
      "Sum =  13\n"
     ]
    }
   ],
   "source": [
    "x = int(input(\"x = \"))\n",
    "n = int(input(\"n = \"))\n",
    "total = 1\n",
    "i=1\n",
    "while (i<=n):\n",
    "    total+=(x**i)\n",
    "    i+=1\n",
    "print(\"Sum = \",total)"
   ]
  },
  {
   "cell_type": "code",
   "execution_count": 34,
   "id": "03c681ee",
   "metadata": {},
   "outputs": [
    {
     "name": "stdout",
     "output_type": "stream",
     "text": [
      "Lines: 6\n",
      "-----\n",
      "+-+-+\n",
      "-+-+-\n",
      "+-+-+\n",
      "-+-+-\n",
      "-----\n"
     ]
    }
   ],
   "source": [
    "n=int(input(\"Lines: \")) #pattern printer\n",
    "i = 1\n",
    "while i <= n:\n",
    "    if i == 1 or i == n:\n",
    "        print(\"-----\")\n",
    "    elif(i%2==0):\n",
    "        print(\"+-+-+\")\n",
    "    else:\n",
    "        print(\"-+-+-\")\n",
    "    i += 1\n"
   ]
  },
  {
   "cell_type": "code",
   "execution_count": 95,
   "id": "6e2eafe1",
   "metadata": {},
   "outputs": [
    {
     "name": "stdout",
     "output_type": "stream",
     "text": [
      "x = 2\n",
      "n = 3\n",
      "Sum =  6.333333333333333\n"
     ]
    }
   ],
   "source": [
    "x = int(input(\"x = \")) #series\n",
    "n = int(input(\"n = \"))\n",
    "total = 1\n",
    "i=1\n",
    "j=1\n",
    "fac=1\n",
    "while (i<=n and j<=n):\n",
    "    fac=fac*j\n",
    "    total+=((x**i)/(fac))\n",
    "    j+=1\n",
    "    i+=1\n",
    "print(\"Sum = \",total)"
   ]
  },
  {
   "cell_type": "code",
   "execution_count": 98,
   "id": "57596a4d",
   "metadata": {},
   "outputs": [
    {
     "name": "stdout",
     "output_type": "stream",
     "text": [
      "n = 10\n",
      "1\n",
      "1\n",
      "2\n",
      "3\n",
      "5\n",
      "8\n",
      "13\n",
      "21\n",
      "34\n",
      "55\n"
     ]
    }
   ],
   "source": [
    "prv=0\n",
    "now=1\n",
    "n=int(input(\"n = \"))\n",
    "i=0\n",
    "print('1')\n",
    "while(i<n-1):\n",
    "    \n",
    "    tmp = prv + now # summing prv and one next value\n",
    "    prv = now # assign the previous variable with value of variable one step ahead\n",
    "    now = tmp #assign the sum of tmp to current variable to be printed\n",
    "    print(now)\n",
    "    i+=1\n",
    "    \n",
    "    \n"
   ]
  }
 ],
 "metadata": {
  "kernelspec": {
   "display_name": "Python 3 (ipykernel)",
   "language": "python",
   "name": "python3"
  },
  "language_info": {
   "codemirror_mode": {
    "name": "ipython",
    "version": 3
   },
   "file_extension": ".py",
   "mimetype": "text/x-python",
   "name": "python",
   "nbconvert_exporter": "python",
   "pygments_lexer": "ipython3",
   "version": "3.9.13"
  }
 },
 "nbformat": 4,
 "nbformat_minor": 5
}
