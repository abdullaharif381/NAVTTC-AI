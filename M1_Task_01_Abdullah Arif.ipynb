{
 "cells": [
  {
   "cell_type": "code",
   "execution_count": 49,
   "id": "b236c381",
   "metadata": {},
   "outputs": [
    {
     "name": "stdout",
     "output_type": "stream",
     "text": [
      "Enter a number 20\n",
      "Ente another number 10\n",
      "2010\n"
     ]
    }
   ],
   "source": [
    "x=input(\"Enter a number \")\n",
    "y=input(\"Ente another number \")\n",
    "z = x+y\n",
    "print(\"Concatenated number:\", z)"
   ]
  },
  {
   "cell_type": "code",
   "execution_count": 50,
   "id": "7370c148",
   "metadata": {},
   "outputs": [
    {
     "name": "stdout",
     "output_type": "stream",
     "text": [
      "Enter name: Abdullah Arif\n",
      "Enter roll number: 8871\n",
      "Enter age(years): 19\n",
      "Enter date of birth: 9-02-2003\n",
      "Enter gender: Male\n",
      "Abdullah Arif is a  Male  who is  19  years old   and was born on  9-02-2003 . His roll number is  8871\n"
     ]
    }
   ],
   "source": [
    "name=input(\"Enter name: \")\n",
    "roll = input(\"Enter roll number: \")\n",
    "age = input(\"Enter age(years): \")\n",
    "dob = input(\"Enter date of birth: \")\n",
    "gender = input(\"Enter gender: \")\n",
    "print(name, \"is a \", gender, \" who is \", age, \" years old \", \" and was born on \",dob, \". His roll number is \", roll )\n"
   ]
  },
  {
   "cell_type": "code",
   "execution_count": 51,
   "id": "798687bc",
   "metadata": {},
   "outputs": [
    {
     "name": "stdout",
     "output_type": "stream",
     "text": [
      "Enter a number: 88\n",
      "Enter another number: 12\n",
      "sum =  100\n",
      "difference a-b, b-a =  76  ,  -76\n",
      "product =  1056\n",
      "divsion a/b, b/a =  7.333333333333333  ,  0.13636363636363635\n"
     ]
    }
   ],
   "source": [
    "a=int(input(\"Enter a number: \"))\n",
    "b=int(input(\"Enter another number: \"))\n",
    "print(\"sum = \", a+b)\n",
    "print(\"difference a-b, b-a = \", a-b,\" , \", b-a)#\n",
    "print(\"product = \", a*b)\n",
    "print(\"divsion a/b, b/a = \", a/b, \" , \", b/a)\n"
   ]
  },
  {
   "cell_type": "code",
   "execution_count": 54,
   "id": "01543d56",
   "metadata": {},
   "outputs": [
    {
     "name": "stdout",
     "output_type": "stream",
     "text": [
      "Enter amount in PKR: 288\n",
      "288.0 PKR in USD is  1.0\n"
     ]
    }
   ],
   "source": [
    "pkr=(float(input(\"Enter amount in PKR: \")))\n",
    "usd=pkr/288\n",
    "print(pkr, \"PKR in USD is \", usd)"
   ]
  },
  {
   "cell_type": "code",
   "execution_count": 55,
   "id": "a46b617f",
   "metadata": {},
   "outputs": [
    {
     "name": "stdout",
     "output_type": "stream",
     "text": [
      "**********************\n",
      "*                    *\n",
      "*                    *\n",
      "*                    *\n",
      "*                    *\n",
      "*                    *\n",
      "**********************\n"
     ]
    }
   ],
   "source": [
    "print(\"**********************\")\n",
    "print(\"*                    *\")\n",
    "print(\"*                    *\")\n",
    "print(\"*                    *\")\n",
    "print(\"*                    *\")\n",
    "print(\"*                    *\")\n",
    "print(\"**********************\")\n",
    "\n"
   ]
  },
  {
   "cell_type": "code",
   "execution_count": 57,
   "id": "4eca2054",
   "metadata": {},
   "outputs": [
    {
     "name": "stdout",
     "output_type": "stream",
     "text": [
      "Enter a number 99\n",
      "Enter a number 12\n",
      "Division without decimal 8\n"
     ]
    }
   ],
   "source": [
    "a = float(input(\"Enter a number \"))\n",
    "b =  float(input(\"Enter a number \"))\n",
    "c = int(a/b)\n",
    "print(\"Division without decimal\", c)"
   ]
  },
  {
   "cell_type": "code",
   "execution_count": 58,
   "id": "429debec",
   "metadata": {},
   "outputs": [
    {
     "name": "stdout",
     "output_type": "stream",
     "text": [
      "Enter temperature in degree celcius: 12\n",
      "Temperature in fahreheit is  24.77777777777778\n"
     ]
    }
   ],
   "source": [
    "c = float(input(\"Enter temperature in degree celcius: \"))\n",
    "f = c+23*5/9\n",
    "print(\"Temperature in fahreheit is \", f)"
   ]
  },
  {
   "cell_type": "code",
   "execution_count": 61,
   "id": "1729df79",
   "metadata": {},
   "outputs": [
    {
     "name": "stdout",
     "output_type": "stream",
     "text": [
      "Enter value of x1 10\n",
      "Enter value of x2 20\n",
      "Enter value of y1 30\n",
      "Enter value of y2 40\n",
      "Enter value of b 0\n",
      "Slope is  1.0\n"
     ]
    }
   ],
   "source": [
    "x1=int(input(\"Enter value of x1 \"))\n",
    "x2=int(input(\"Enter value of x2 \"))\n",
    "y1=int(input(\"Enter value of y1 \"))\n",
    "y2=int(input(\"Enter value of y2 \"))\n",
    "b=int(input(\"Enter value of b \"))\n",
    "m = (y2-y1)/(x2-x1)\n",
    "print(\"Slope is \", m)"
   ]
  },
  {
   "cell_type": "code",
   "execution_count": 65,
   "id": "d34d8e32",
   "metadata": {},
   "outputs": [
    {
     "name": "stdout",
     "output_type": "stream",
     "text": [
      "Enter height in ft: 3\n",
      "Enter height in cm: 0\n",
      "Your height is  0.9\n"
     ]
    }
   ],
   "source": [
    "h_ft = float(input(\"Enter height in ft: \"))\n",
    "h_cm = float(input(\"Enter height in cm: \"))\n",
    "f_m = (h_cm+h_ft*30)/(100)\n",
    "print(\"Your height is \", f_m)"
   ]
  },
  {
   "cell_type": "code",
   "execution_count": 64,
   "id": "a7f4b4d2",
   "metadata": {},
   "outputs": [
    {
     "name": "stdout",
     "output_type": "stream",
     "text": [
      "Enter marks for English: 75\n",
      "Enter marks for Urud: 79\n",
      "Enter marks for Phy: 125\n",
      "Enter marks for Math: 144\n",
      "Enter marks for Arabic: 78\n",
      "Enter marks for Chem: 100\n",
      "Enter marks for Comp: 96\n",
      "Average marks are:  99.57142857142857\n",
      "Average percentage is:  77.44444444444444 %\n",
      "Percentage for English:  75.0 %\n",
      "Percentage for Urdu:  79.0 %\n",
      "Percentage for Phy:  83.33333333333334 %\n",
      "Percentage for Chem:  66.66666666666666 %\n",
      "Percentage for Comp:  64.0 %\n",
      "Percentage for Arabic:  78.0 %\n",
      "Percentage for Mathematics:  96.0 %\n"
     ]
    }
   ],
   "source": [
    "eng=int(input(\"Enter marks for English: \"))\n",
    "urdu=int(input(\"Enter marks for Urud: \"))\n",
    "phy=int(input(\"Enter marks for Phy: \"))\n",
    "math=int(input(\"Enter marks for Math: \"))\n",
    "arabic=int(input(\"Enter marks for Arabic: \"))\n",
    "chem=int(input(\"Enter marks for Chem: \"))\n",
    "comp=int(input(\"Enter marks for Comp: \"))\n",
    "total = comp+chem+arabic+math+phy+urdu+eng\n",
    "print(\"Average marks are: \",total/7)\n",
    "print(\"Average percentage is: \",total/900 * 100,\"%\")\n",
    "print(\"Percentage for English: \", eng/100 * 100,\"%\")\n",
    "print(\"Percentage for Urdu: \", urdu/100 * 100,\"%\")\n",
    "print(\"Percentage for Phy: \", phy/150 * 100,\"%\")\n",
    "print(\"Percentage for Chem: \", chem/150 * 100,\"%\")\n",
    "print(\"Percentage for Comp: \", comp/150 * 100,\"%\")\n",
    "print(\"Percentage for Arabic: \", arabic/100 * 100,\"%\")\n",
    "print(\"Percentage for Mathematics: \", math/150 * 100,\"%\")\n"
   ]
  },
  {
   "cell_type": "code",
   "execution_count": null,
   "id": "ff969b4e",
   "metadata": {},
   "outputs": [],
   "source": []
  }
 ],
 "metadata": {
  "kernelspec": {
   "display_name": "Python 3 (ipykernel)",
   "language": "python",
   "name": "python3"
  },
  "language_info": {
   "codemirror_mode": {
    "name": "ipython",
    "version": 3
   },
   "file_extension": ".py",
   "mimetype": "text/x-python",
   "name": "python",
   "nbconvert_exporter": "python",
   "pygments_lexer": "ipython3",
   "version": "3.9.13"
  }
 },
 "nbformat": 4,
 "nbformat_minor": 5
}
