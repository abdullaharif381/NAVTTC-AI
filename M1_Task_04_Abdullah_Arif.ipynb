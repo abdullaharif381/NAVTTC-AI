{
 "cells": [
  {
   "cell_type": "code",
   "execution_count": 15,
   "id": "72e91db7",
   "metadata": {
    "scrolled": true
   },
   "outputs": [
    {
     "name": "stdout",
     "output_type": "stream",
     "text": [
      "0 :9\n",
      "1 :381\n",
      "2 :781\n",
      "3 :331\n",
      "4 :903\n",
      "5 :981\n",
      "6 :480\n",
      "7 :780\n",
      "8 :320\n",
      "9 :891\n",
      "[9, 381, 781, 331, 903, 981, 480, 780, 320, 891]\n"
     ]
    }
   ],
   "source": [
    "#populating an empty list by user input\n",
    "\n",
    "i =0 #initializing i\n",
    "a=[]\n",
    "while i<10:\n",
    "    print(i,end=\" \")\n",
    "    num=int(input(\":\"))\n",
    "    a.append(num)\n",
    "    i+=1\n",
    "print(a)"
   ]
  },
  {
   "cell_type": "code",
   "execution_count": 37,
   "id": "0c1cd98b",
   "metadata": {},
   "outputs": [
    {
     "name": "stdout",
     "output_type": "stream",
     "text": [
      "Enter an odd number to exit: 10\n",
      "Enter an odd number to exit: 20\n",
      "Enter an odd number to exit: 30\n",
      "Enter an odd number to exit: 3\n",
      "63\n"
     ]
    }
   ],
   "source": [
    "num=0\n",
    "total=0\n",
    "while(num%2==0):\n",
    "    num=int(input(\"Enter an odd number to exit: \"))\n",
    "    total+=num\n",
    "    \n",
    "print(total)"
   ]
  },
  {
   "cell_type": "code",
   "execution_count": 38,
   "id": "6cf5182b",
   "metadata": {
    "scrolled": true
   },
   "outputs": [
    {
     "name": "stdout",
     "output_type": "stream",
     "text": [
      "Enter Password: 786ab\n",
      "Confirm your Password: 892\n",
      "Confirm your Password: 31\n",
      "Confirm your Password: 23\n",
      "Confirm your Password: 123\n",
      "Confirm your Password: 123\n",
      "Confirm your Password: 786ab\n",
      "Thank You\n"
     ]
    }
   ],
   "source": [
    "pas=\"\" ##confirm your password\n",
    "pas=input(\"Enter Password: \")\n",
    "i=0\n",
    "while(i<10):\n",
    "    pas1=input(\"Confirm your Password: \")\n",
    "    if(pas1==pas):\n",
    "        i+=100\n",
    "    else:\n",
    "        i+=1\n",
    "print(\"Thank You\")"
   ]
  },
  {
   "cell_type": "code",
   "execution_count": 5,
   "id": "d89b7104",
   "metadata": {},
   "outputs": [
    {
     "name": "stdout",
     "output_type": "stream",
     "text": [
      "Enter the secret Password: why?\n",
      "Enter the correct password: but why?\n",
      "Enter the correct password: no, i won't\n",
      "Enter the correct password: it's secret\n",
      "Welcome! \n",
      "Bye!\n"
     ]
    }
   ],
   "source": [
    "pas=\"it's secret\"\n",
    "code=input(\"Enter the secret Password: \")\n",
    "i=0\n",
    "if (code == pas):\n",
    "    print(\"Welcome! \")\n",
    "else:\n",
    "    while(i<1000):\n",
    "        code=input(\"Enter the correct password: \")\n",
    "        i+=1\n",
    "        if (code == pas):\n",
    "            print(\"Welcome! \")\n",
    "            i=1000000\n",
    "        if(i==3):\n",
    "            print(\"Too Many wrong Attempts. System blocked! \" )\n",
    "            i=1000000\n",
    "print(\"Bye!\")\n",
    "            "
   ]
  },
  {
   "cell_type": "code",
   "execution_count": 6,
   "id": "85e16765",
   "metadata": {},
   "outputs": [
    {
     "name": "stdout",
     "output_type": "stream",
     "text": [
      "num: 10\n",
      "num: 20\n",
      "num: 30\n",
      "num: 40\n",
      "num: 50\n",
      "num: 100\n",
      "num: 33\n",
      "end\n"
     ]
    }
   ],
   "source": [
    "num=0 #take the input unitl an odd number is given by the user\n",
    "while(num%2==0):\n",
    "    num=int(input(\"num: \"))\n",
    "print(\"end\")"
   ]
  },
  {
   "cell_type": "code",
   "execution_count": 14,
   "id": "d87672d1",
   "metadata": {},
   "outputs": [
    {
     "name": "stdout",
     "output_type": "stream",
     "text": [
      "num: 23\n",
      "num: 123\n",
      "num: 12\n",
      "num: 1\n",
      "num: 1\n",
      "num: 123\n",
      "num: 13\n",
      "num: 123\n",
      "num: 127877\n",
      "[23, 123, 12, 1, 1, 123, 13, 123, 127877]\n"
     ]
    }
   ],
   "source": [
    "a=[] #print 10 numbers in a list given by the user\n",
    "while(i<10):\n",
    "    a.insert(i,int(input(\"num: \")))\n",
    "    i+=1\n",
    "print(a)"
   ]
  },
  {
   "cell_type": "code",
   "execution_count": 17,
   "id": "5081d6c9",
   "metadata": {},
   "outputs": [
    {
     "name": "stdout",
     "output_type": "stream",
     "text": [
      "a: 23\n",
      "a: 11\n",
      "a: 10\n",
      "a: 23\n",
      "a: 11\n",
      "a: 100\n",
      "a: 123\n",
      "a: 123\n",
      "a: 11\n",
      "a: 2\n",
      "a: 00\n",
      "[23, 11, 10, 23, 11, 100, 123, 123, 11, 2, 0]\n"
     ]
    }
   ],
   "source": [
    "a=[] #using append function\n",
    "i=0\n",
    "while(i<=10):\n",
    "    a.append(int(input(\"a: \")))\n",
    "    i=i+1\n",
    "print(a)"
   ]
  },
  {
   "cell_type": "code",
   "execution_count": 8,
   "id": "c30fc19c",
   "metadata": {},
   "outputs": [
    {
     "name": "stdout",
     "output_type": "stream",
     "text": [
      "17\n"
     ]
    }
   ],
   "source": [
    "sum=0 #sum of numbers in a list\n",
    "i=0\n",
    "a=[1,2,4,5,5]\n",
    "while(i<5):\n",
    "    sum+=a[i]\n",
    "    i+=1\n",
    "print(sum)"
   ]
  },
  {
   "cell_type": "code",
   "execution_count": 10,
   "id": "bd28735c",
   "metadata": {},
   "outputs": [
    {
     "name": "stdout",
     "output_type": "stream",
     "text": [
      "Num: 19\n",
      "Num: 20\n",
      "Num: 33\n",
      "Num: -1\n",
      "[4, 5, 6, 7, 19, 20, 33, -1]\n",
      "62\n"
     ]
    }
   ],
   "source": [
    "sum=0 #extending a list by adding numbers using append and making the size * 2\n",
    "a=[4,5,6,7] \n",
    "i=0\n",
    "while(i<len(a)):\n",
    "    a.append(int(input(\"Num: \")))\n",
    "    sum+=a[i]\n",
    "    i+=2    \n",
    "print(a)\n",
    "print(sum)\n",
    "    "
   ]
  }
 ],
 "metadata": {
  "kernelspec": {
   "display_name": "Python 3 (ipykernel)",
   "language": "python",
   "name": "python3"
  },
  "language_info": {
   "codemirror_mode": {
    "name": "ipython",
    "version": 3
   },
   "file_extension": ".py",
   "mimetype": "text/x-python",
   "name": "python",
   "nbconvert_exporter": "python",
   "pygments_lexer": "ipython3",
   "version": "3.9.13"
  }
 },
 "nbformat": 4,
 "nbformat_minor": 5
}
