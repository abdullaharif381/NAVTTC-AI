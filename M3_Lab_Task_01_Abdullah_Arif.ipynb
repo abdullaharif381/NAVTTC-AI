{
 "cells": [
  {
   "cell_type": "code",
   "execution_count": 20,
   "id": "aa6bb7c6",
   "metadata": {},
   "outputs": [],
   "source": [
    "import pandas as pd\n",
    "import numpy as np\n",
    "import sklearn.preprocessing as pre_process\n",
    "from sklearn.model_selection import train_test_split\n",
    "from sklearn.preprocessing import LabelEncoder, StandardScaler\n",
    "from sklearn.linear_model import LogisticRegression\n",
    "from sklearn.metrics import classification_report, confusion_matrix\n",
    "from sklearn.svm import SVC\n",
    "from sklearn.tree import DecisionTreeClassifier\n",
    "from sklearn.preprocessing import PolynomialFeatures\n",
    "from sklearn.compose import make_column_transformer\n",
    "from sklearn.utils import all_estimators\n"
   ]
  },
  {
   "cell_type": "code",
   "execution_count": 21,
   "id": "62f927cc",
   "metadata": {},
   "outputs": [],
   "source": [
    "# Read the data from the Excel file\n",
    "data = pd.read_excel(\"Cat_human_New.xlsx\")"
   ]
  },
  {
   "cell_type": "code",
   "execution_count": 22,
   "id": "aaa4d88b",
   "metadata": {},
   "outputs": [],
   "source": [
    "ordinal_encoding=pre_process.OrdinalEncoder()\n",
    "standard_scalling=pre_process.StandardScaler()\n",
    "one_hot=pre_process.OneHotEncoder()"
   ]
  },
  {
   "cell_type": "code",
   "execution_count": 23,
   "id": "569d5923",
   "metadata": {},
   "outputs": [],
   "source": [
    "transform_x = make_column_transformer((one_hot, ['Color','Eye_color','Moustache','Tail'])\n",
    ",(standard_scalling,['Height','Weight','Legs']))"
   ]
  },
  {
   "cell_type": "code",
   "execution_count": 24,
   "id": "947fb09d",
   "metadata": {},
   "outputs": [
    {
     "data": {
      "text/plain": [
       "0    human\n",
       "1    human\n",
       "2    human\n",
       "3    human\n",
       "Name: label, dtype: object"
      ]
     },
     "execution_count": 24,
     "metadata": {},
     "output_type": "execute_result"
    }
   ],
   "source": [
    "X=data.iloc[:,0:7]\n",
    "Y=data.iloc[:,7]\n",
    "Y.head(4)"
   ]
  },
  {
   "cell_type": "code",
   "execution_count": 25,
   "id": "b60574d0",
   "metadata": {},
   "outputs": [],
   "source": [
    "processed_x=transform_x.fit_transform(X)"
   ]
  },
  {
   "cell_type": "code",
   "execution_count": 26,
   "id": "cf4cca64",
   "metadata": {},
   "outputs": [
    {
     "data": {
      "text/plain": [
       "array([[1.],\n",
       "       [1.],\n",
       "       [1.],\n",
       "       [1.],\n",
       "       [1.],\n",
       "       [1.],\n",
       "       [1.],\n",
       "       [1.],\n",
       "       [1.],\n",
       "       [1.],\n",
       "       [1.],\n",
       "       [1.],\n",
       "       [1.],\n",
       "       [1.],\n",
       "       [1.],\n",
       "       [1.],\n",
       "       [1.],\n",
       "       [1.],\n",
       "       [1.],\n",
       "       [1.],\n",
       "       [1.],\n",
       "       [1.],\n",
       "       [1.],\n",
       "       [1.],\n",
       "       [1.],\n",
       "       [1.],\n",
       "       [1.],\n",
       "       [1.],\n",
       "       [1.],\n",
       "       [1.],\n",
       "       [1.],\n",
       "       [1.],\n",
       "       [1.],\n",
       "       [1.],\n",
       "       [1.],\n",
       "       [1.],\n",
       "       [1.],\n",
       "       [1.],\n",
       "       [1.],\n",
       "       [1.],\n",
       "       [1.],\n",
       "       [1.],\n",
       "       [1.],\n",
       "       [1.],\n",
       "       [1.],\n",
       "       [1.],\n",
       "       [1.],\n",
       "       [1.],\n",
       "       [1.],\n",
       "       [1.],\n",
       "       [1.],\n",
       "       [1.],\n",
       "       [1.],\n",
       "       [1.],\n",
       "       [1.],\n",
       "       [1.],\n",
       "       [1.],\n",
       "       [1.],\n",
       "       [1.],\n",
       "       [1.],\n",
       "       [1.],\n",
       "       [1.],\n",
       "       [1.],\n",
       "       [1.],\n",
       "       [1.],\n",
       "       [1.],\n",
       "       [1.],\n",
       "       [1.],\n",
       "       [1.],\n",
       "       [1.],\n",
       "       [1.],\n",
       "       [1.],\n",
       "       [1.],\n",
       "       [1.],\n",
       "       [1.],\n",
       "       [1.],\n",
       "       [1.],\n",
       "       [1.],\n",
       "       [1.],\n",
       "       [1.],\n",
       "       [1.],\n",
       "       [1.],\n",
       "       [1.],\n",
       "       [1.],\n",
       "       [1.],\n",
       "       [1.],\n",
       "       [1.],\n",
       "       [1.],\n",
       "       [1.],\n",
       "       [1.],\n",
       "       [1.],\n",
       "       [1.],\n",
       "       [1.],\n",
       "       [1.],\n",
       "       [1.],\n",
       "       [1.],\n",
       "       [1.],\n",
       "       [1.],\n",
       "       [1.],\n",
       "       [1.],\n",
       "       [0.],\n",
       "       [0.],\n",
       "       [0.],\n",
       "       [0.],\n",
       "       [0.],\n",
       "       [0.],\n",
       "       [0.],\n",
       "       [0.],\n",
       "       [0.],\n",
       "       [0.],\n",
       "       [0.],\n",
       "       [0.],\n",
       "       [0.],\n",
       "       [0.],\n",
       "       [0.],\n",
       "       [0.],\n",
       "       [0.],\n",
       "       [0.],\n",
       "       [0.],\n",
       "       [0.],\n",
       "       [0.],\n",
       "       [0.],\n",
       "       [0.],\n",
       "       [0.],\n",
       "       [0.],\n",
       "       [0.],\n",
       "       [0.],\n",
       "       [0.],\n",
       "       [0.],\n",
       "       [0.],\n",
       "       [0.],\n",
       "       [0.],\n",
       "       [0.],\n",
       "       [0.],\n",
       "       [0.],\n",
       "       [0.],\n",
       "       [0.],\n",
       "       [0.],\n",
       "       [0.],\n",
       "       [0.],\n",
       "       [0.],\n",
       "       [0.],\n",
       "       [0.],\n",
       "       [0.],\n",
       "       [0.],\n",
       "       [0.],\n",
       "       [0.],\n",
       "       [0.],\n",
       "       [0.],\n",
       "       [0.],\n",
       "       [0.],\n",
       "       [0.],\n",
       "       [0.],\n",
       "       [0.],\n",
       "       [0.],\n",
       "       [0.],\n",
       "       [0.],\n",
       "       [0.],\n",
       "       [0.],\n",
       "       [0.],\n",
       "       [0.],\n",
       "       [0.],\n",
       "       [0.],\n",
       "       [0.],\n",
       "       [0.],\n",
       "       [0.],\n",
       "       [0.],\n",
       "       [0.],\n",
       "       [0.],\n",
       "       [0.],\n",
       "       [0.],\n",
       "       [0.],\n",
       "       [0.],\n",
       "       [0.],\n",
       "       [0.],\n",
       "       [0.],\n",
       "       [0.],\n",
       "       [0.],\n",
       "       [0.],\n",
       "       [0.],\n",
       "       [0.],\n",
       "       [0.],\n",
       "       [0.],\n",
       "       [0.],\n",
       "       [0.],\n",
       "       [0.],\n",
       "       [0.],\n",
       "       [0.],\n",
       "       [0.],\n",
       "       [0.],\n",
       "       [0.],\n",
       "       [0.],\n",
       "       [0.],\n",
       "       [0.],\n",
       "       [0.],\n",
       "       [0.],\n",
       "       [0.],\n",
       "       [0.],\n",
       "       [0.],\n",
       "       [0.]])"
      ]
     },
     "execution_count": 26,
     "metadata": {},
     "output_type": "execute_result"
    }
   ],
   "source": [
    "ordinal_encoder1=pre_process.OrdinalEncoder()\n",
    "processed_y=ordinal_encoder1.fit_transform(np.c_[Y])\n",
    "processed_y\n"
   ]
  },
  {
   "cell_type": "code",
   "execution_count": 27,
   "id": "889e8a2b",
   "metadata": {},
   "outputs": [],
   "source": [
    "#inverse_y = ordinal_encoder.inverse_transform(processed_y)"
   ]
  },
  {
   "cell_type": "code",
   "execution_count": 28,
   "id": "3fc9dfde",
   "metadata": {},
   "outputs": [],
   "source": [
    "train_x,test_x,train_y,test_y = train_test_split( processed_x , processed_y)\n"
   ]
  },
  {
   "cell_type": "code",
   "execution_count": 29,
   "id": "c7ffa53a",
   "metadata": {},
   "outputs": [
    {
     "name": "stdout",
     "output_type": "stream",
     "text": [
      "AdaBoostClassifier\n",
      "BaggingClassifier\n",
      "BernoulliNB\n",
      "CalibratedClassifierCV\n",
      "CategoricalNB\n",
      "ClassifierChain\n",
      "ComplementNB\n",
      "DecisionTreeClassifier\n",
      "DummyClassifier\n",
      "ExtraTreeClassifier\n",
      "ExtraTreesClassifier\n",
      "GaussianNB\n",
      "GaussianProcessClassifier\n",
      "GradientBoostingClassifier\n",
      "HistGradientBoostingClassifier\n",
      "KNeighborsClassifier\n",
      "LabelPropagation\n",
      "LabelSpreading\n",
      "LinearDiscriminantAnalysis\n",
      "LinearSVC\n",
      "LogisticRegression\n",
      "LogisticRegressionCV\n",
      "MLPClassifier\n",
      "MultiOutputClassifier\n",
      "MultinomialNB\n",
      "NearestCentroid\n",
      "NuSVC\n",
      "OneVsOneClassifier\n",
      "OneVsRestClassifier\n",
      "OutputCodeClassifier\n",
      "PassiveAggressiveClassifier\n",
      "Perceptron\n",
      "QuadraticDiscriminantAnalysis\n",
      "RadiusNeighborsClassifier\n",
      "RandomForestClassifier\n",
      "RidgeClassifier\n",
      "RidgeClassifierCV\n",
      "SGDClassifier\n",
      "SVC\n",
      "StackingClassifier\n",
      "VotingClassifier\n"
     ]
    }
   ],
   "source": [
    "estimators = all_estimators(type_filter='classifier')\n",
    "for name, get_model in estimators:\n",
    "    try:\n",
    "         print(name)\n",
    "    except:\n",
    "         print('Unable to import', name)"
   ]
  },
  {
   "cell_type": "code",
   "execution_count": 30,
   "id": "dd7a91ed",
   "metadata": {},
   "outputs": [],
   "source": [
    "#results=pd.DataFrame({\"Model Name\":model_name , \"Model precision\":model_precision})\n",
    "#results"
   ]
  },
  {
   "cell_type": "code",
   "execution_count": 31,
   "id": "e52927af",
   "metadata": {},
   "outputs": [
    {
     "name": "stdout",
     "output_type": "stream",
     "text": [
      "Unable to import AdaBoostClassifier\n",
      "name 'sm' is not defined\n",
      "Unable to import BaggingClassifier\n",
      "name 'sm' is not defined\n",
      "Unable to import BernoulliNB\n",
      "name 'sm' is not defined\n"
     ]
    },
    {
     "name": "stderr",
     "output_type": "stream",
     "text": [
      "C:\\Users\\AB\\anaconda3\\lib\\site-packages\\sklearn\\utils\\validation.py:993: DataConversionWarning: A column-vector y was passed when a 1d array was expected. Please change the shape of y to (n_samples, ), for example using ravel().\n",
      "  y = column_or_1d(y, warn=True)\n",
      "C:\\Users\\AB\\anaconda3\\lib\\site-packages\\sklearn\\ensemble\\_bagging.py:719: DataConversionWarning: A column-vector y was passed when a 1d array was expected. Please change the shape of y to (n_samples, ), for example using ravel().\n",
      "  y = column_or_1d(y, warn=True)\n",
      "C:\\Users\\AB\\anaconda3\\lib\\site-packages\\sklearn\\utils\\validation.py:993: DataConversionWarning: A column-vector y was passed when a 1d array was expected. Please change the shape of y to (n_samples, ), for example using ravel().\n",
      "  y = column_or_1d(y, warn=True)\n",
      "C:\\Users\\AB\\anaconda3\\lib\\site-packages\\sklearn\\preprocessing\\_label.py:98: DataConversionWarning: A column-vector y was passed when a 1d array was expected. Please change the shape of y to (n_samples, ), for example using ravel().\n",
      "  y = column_or_1d(y, warn=True)\n",
      "C:\\Users\\AB\\anaconda3\\lib\\site-packages\\sklearn\\utils\\validation.py:993: DataConversionWarning: A column-vector y was passed when a 1d array was expected. Please change the shape of y to (n_samples, ), for example using ravel().\n",
      "  y = column_or_1d(y, warn=True)\n",
      "C:\\Users\\AB\\anaconda3\\lib\\site-packages\\sklearn\\utils\\validation.py:993: DataConversionWarning: A column-vector y was passed when a 1d array was expected. Please change the shape of y to (n_samples, ), for example using ravel().\n",
      "  y = column_or_1d(y, warn=True)\n",
      "C:\\Users\\AB\\anaconda3\\lib\\site-packages\\sklearn\\utils\\validation.py:993: DataConversionWarning: A column-vector y was passed when a 1d array was expected. Please change the shape of y to (n_samples, ), for example using ravel().\n",
      "  y = column_or_1d(y, warn=True)\n",
      "C:\\Users\\AB\\anaconda3\\lib\\site-packages\\sklearn\\utils\\validation.py:993: DataConversionWarning: A column-vector y was passed when a 1d array was expected. Please change the shape of y to (n_samples, ), for example using ravel().\n",
      "  y = column_or_1d(y, warn=True)\n",
      "C:\\Users\\AB\\anaconda3\\lib\\site-packages\\sklearn\\utils\\validation.py:993: DataConversionWarning: A column-vector y was passed when a 1d array was expected. Please change the shape of y to (n_samples, ), for example using ravel().\n",
      "  y = column_or_1d(y, warn=True)\n",
      "C:\\Users\\AB\\anaconda3\\lib\\site-packages\\sklearn\\utils\\validation.py:993: DataConversionWarning: A column-vector y was passed when a 1d array was expected. Please change the shape of y to (n_samples, ), for example using ravel().\n",
      "  y = column_or_1d(y, warn=True)\n",
      "C:\\Users\\AB\\anaconda3\\lib\\site-packages\\sklearn\\utils\\validation.py:993: DataConversionWarning: A column-vector y was passed when a 1d array was expected. Please change the shape of y to (n_samples, ), for example using ravel().\n",
      "  y = column_or_1d(y, warn=True)\n",
      "C:\\Users\\AB\\AppData\\Local\\Temp\\ipykernel_11608\\1256389496.py:7: DataConversionWarning: A column-vector y was passed when a 1d array was expected. Please change the shape of y to (n_samples,), for example using ravel().\n",
      "  model.fit(train_x,train_y)\n",
      "C:\\Users\\AB\\anaconda3\\lib\\site-packages\\sklearn\\utils\\validation.py:993: DataConversionWarning: A column-vector y was passed when a 1d array was expected. Please change the shape of y to (n_samples, ), for example using ravel().\n",
      "  y = column_or_1d(y, warn=True)\n",
      "C:\\Users\\AB\\anaconda3\\lib\\site-packages\\sklearn\\utils\\validation.py:993: DataConversionWarning: A column-vector y was passed when a 1d array was expected. Please change the shape of y to (n_samples, ), for example using ravel().\n",
      "  y = column_or_1d(y, warn=True)\n"
     ]
    },
    {
     "name": "stdout",
     "output_type": "stream",
     "text": [
      "Unable to import CalibratedClassifierCV\n",
      "name 'sm' is not defined\n",
      "Unable to import CategoricalNB\n",
      "Negative values in data passed to CategoricalNB (input X)\n",
      "Unable to import ClassifierChain\n",
      "__init__() missing 1 required positional argument: 'base_estimator'\n",
      "Unable to import ComplementNB\n",
      "Negative values in data passed to ComplementNB (input X)\n",
      "Unable to import DecisionTreeClassifier\n",
      "name 'sm' is not defined\n",
      "Unable to import DummyClassifier\n",
      "name 'sm' is not defined\n",
      "Unable to import ExtraTreeClassifier\n",
      "name 'sm' is not defined\n",
      "Unable to import ExtraTreesClassifier\n",
      "name 'sm' is not defined\n",
      "Unable to import GaussianNB\n",
      "name 'sm' is not defined\n",
      "Unable to import GaussianProcessClassifier\n",
      "name 'sm' is not defined\n",
      "Unable to import GradientBoostingClassifier\n",
      "name 'sm' is not defined\n",
      "Unable to import HistGradientBoostingClassifier\n",
      "name 'sm' is not defined\n",
      "Unable to import KNeighborsClassifier\n",
      "name 'sm' is not defined\n",
      "Unable to import LabelPropagation\n",
      "name 'sm' is not defined\n",
      "Unable to import LabelSpreading\n",
      "name 'sm' is not defined\n",
      "Unable to import LinearDiscriminantAnalysis\n",
      "name 'sm' is not defined\n",
      "Unable to import LinearSVC\n",
      "name 'sm' is not defined\n",
      "Unable to import LogisticRegression\n",
      "name 'sm' is not defined\n"
     ]
    },
    {
     "name": "stderr",
     "output_type": "stream",
     "text": [
      "C:\\Users\\AB\\anaconda3\\lib\\site-packages\\sklearn\\ensemble\\_gb.py:494: DataConversionWarning: A column-vector y was passed when a 1d array was expected. Please change the shape of y to (n_samples, ), for example using ravel().\n",
      "  y = column_or_1d(y, warn=True)\n",
      "C:\\Users\\AB\\anaconda3\\lib\\site-packages\\sklearn\\utils\\validation.py:993: DataConversionWarning: A column-vector y was passed when a 1d array was expected. Please change the shape of y to (n_samples, ), for example using ravel().\n",
      "  y = column_or_1d(y, warn=True)\n",
      "C:\\Users\\AB\\anaconda3\\lib\\site-packages\\sklearn\\neighbors\\_classification.py:198: DataConversionWarning: A column-vector y was passed when a 1d array was expected. Please change the shape of y to (n_samples,), for example using ravel().\n",
      "  return self._fit(X, y)\n",
      "C:\\Users\\AB\\anaconda3\\lib\\site-packages\\sklearn\\neighbors\\_classification.py:228: FutureWarning: Unlike other reduction functions (e.g. `skew`, `kurtosis`), the default behavior of `mode` typically preserves the axis it acts along. In SciPy 1.11.0, this behavior will change: the default value of `keepdims` will become False, the `axis` over which the statistic is taken will be eliminated, and the value None will no longer be accepted. Set `keepdims` to True or False to avoid this warning.\n",
      "  mode, _ = stats.mode(_y[neigh_ind, k], axis=1)\n",
      "C:\\Users\\AB\\anaconda3\\lib\\site-packages\\sklearn\\utils\\validation.py:993: DataConversionWarning: A column-vector y was passed when a 1d array was expected. Please change the shape of y to (n_samples, ), for example using ravel().\n",
      "  y = column_or_1d(y, warn=True)\n",
      "C:\\Users\\AB\\anaconda3\\lib\\site-packages\\sklearn\\utils\\validation.py:993: DataConversionWarning: A column-vector y was passed when a 1d array was expected. Please change the shape of y to (n_samples, ), for example using ravel().\n",
      "  y = column_or_1d(y, warn=True)\n",
      "C:\\Users\\AB\\anaconda3\\lib\\site-packages\\sklearn\\utils\\validation.py:993: DataConversionWarning: A column-vector y was passed when a 1d array was expected. Please change the shape of y to (n_samples, ), for example using ravel().\n",
      "  y = column_or_1d(y, warn=True)\n",
      "C:\\Users\\AB\\anaconda3\\lib\\site-packages\\sklearn\\utils\\validation.py:993: DataConversionWarning: A column-vector y was passed when a 1d array was expected. Please change the shape of y to (n_samples, ), for example using ravel().\n",
      "  y = column_or_1d(y, warn=True)\n",
      "C:\\Users\\AB\\anaconda3\\lib\\site-packages\\sklearn\\utils\\validation.py:993: DataConversionWarning: A column-vector y was passed when a 1d array was expected. Please change the shape of y to (n_samples, ), for example using ravel().\n",
      "  y = column_or_1d(y, warn=True)\n",
      "C:\\Users\\AB\\anaconda3\\lib\\site-packages\\sklearn\\utils\\validation.py:993: DataConversionWarning: A column-vector y was passed when a 1d array was expected. Please change the shape of y to (n_samples, ), for example using ravel().\n",
      "  y = column_or_1d(y, warn=True)\n"
     ]
    },
    {
     "name": "stdout",
     "output_type": "stream",
     "text": [
      "Unable to import LogisticRegressionCV\n",
      "name 'sm' is not defined\n",
      "Unable to import MLPClassifier\n",
      "name 'sm' is not defined\n",
      "Unable to import MultiOutputClassifier\n",
      "__init__() missing 1 required positional argument: 'estimator'\n",
      "Unable to import MultinomialNB\n",
      "Negative values in data passed to MultinomialNB (input X)\n",
      "Unable to import NearestCentroid\n",
      "name 'sm' is not defined\n",
      "Unable to import NuSVC\n",
      "name 'sm' is not defined\n",
      "Unable to import OneVsOneClassifier\n",
      "__init__() missing 1 required positional argument: 'estimator'\n",
      "Unable to import OneVsRestClassifier\n",
      "__init__() missing 1 required positional argument: 'estimator'\n",
      "Unable to import OutputCodeClassifier\n",
      "__init__() missing 1 required positional argument: 'estimator'\n",
      "Unable to import PassiveAggressiveClassifier\n",
      "name 'sm' is not defined\n",
      "Unable to import Perceptron\n",
      "name 'sm' is not defined\n",
      "Unable to import QuadraticDiscriminantAnalysis\n",
      "name 'sm' is not defined\n",
      "Unable to import RadiusNeighborsClassifier\n",
      "name 'sm' is not defined\n"
     ]
    },
    {
     "name": "stderr",
     "output_type": "stream",
     "text": [
      "C:\\Users\\AB\\anaconda3\\lib\\site-packages\\sklearn\\neural_network\\_multilayer_perceptron.py:1109: DataConversionWarning: A column-vector y was passed when a 1d array was expected. Please change the shape of y to (n_samples, ), for example using ravel().\n",
      "  y = column_or_1d(y, warn=True)\n",
      "C:\\Users\\AB\\anaconda3\\lib\\site-packages\\sklearn\\utils\\validation.py:993: DataConversionWarning: A column-vector y was passed when a 1d array was expected. Please change the shape of y to (n_samples, ), for example using ravel().\n",
      "  y = column_or_1d(y, warn=True)\n",
      "C:\\Users\\AB\\anaconda3\\lib\\site-packages\\sklearn\\utils\\validation.py:993: DataConversionWarning: A column-vector y was passed when a 1d array was expected. Please change the shape of y to (n_samples, ), for example using ravel().\n",
      "  y = column_or_1d(y, warn=True)\n",
      "C:\\Users\\AB\\anaconda3\\lib\\site-packages\\sklearn\\utils\\validation.py:993: DataConversionWarning: A column-vector y was passed when a 1d array was expected. Please change the shape of y to (n_samples, ), for example using ravel().\n",
      "  y = column_or_1d(y, warn=True)\n",
      "C:\\Users\\AB\\anaconda3\\lib\\site-packages\\sklearn\\utils\\validation.py:993: DataConversionWarning: A column-vector y was passed when a 1d array was expected. Please change the shape of y to (n_samples, ), for example using ravel().\n",
      "  y = column_or_1d(y, warn=True)\n",
      "C:\\Users\\AB\\anaconda3\\lib\\site-packages\\sklearn\\utils\\validation.py:993: DataConversionWarning: A column-vector y was passed when a 1d array was expected. Please change the shape of y to (n_samples, ), for example using ravel().\n",
      "  y = column_or_1d(y, warn=True)\n",
      "C:\\Users\\AB\\anaconda3\\lib\\site-packages\\sklearn\\utils\\validation.py:993: DataConversionWarning: A column-vector y was passed when a 1d array was expected. Please change the shape of y to (n_samples, ), for example using ravel().\n",
      "  y = column_or_1d(y, warn=True)\n",
      "C:\\Users\\AB\\anaconda3\\lib\\site-packages\\sklearn\\discriminant_analysis.py:878: UserWarning: Variables are collinear\n",
      "  warnings.warn(\"Variables are collinear\")\n",
      "C:\\Users\\AB\\anaconda3\\lib\\site-packages\\sklearn\\discriminant_analysis.py:903: RuntimeWarning: divide by zero encountered in power\n",
      "  X2 = np.dot(Xm, R * (S ** (-0.5)))\n",
      "C:\\Users\\AB\\anaconda3\\lib\\site-packages\\sklearn\\discriminant_analysis.py:903: RuntimeWarning: invalid value encountered in multiply\n",
      "  X2 = np.dot(Xm, R * (S ** (-0.5)))\n",
      "C:\\Users\\AB\\anaconda3\\lib\\site-packages\\sklearn\\discriminant_analysis.py:906: RuntimeWarning: divide by zero encountered in log\n",
      "  u = np.asarray([np.sum(np.log(s)) for s in self.scalings_])\n",
      "C:\\Users\\AB\\anaconda3\\lib\\site-packages\\sklearn\\neighbors\\_classification.py:501: DataConversionWarning: A column-vector y was passed when a 1d array was expected. Please change the shape of y to (n_samples,), for example using ravel().\n",
      "  self._fit(X, y)\n",
      "C:\\Users\\AB\\AppData\\Local\\Temp\\ipykernel_11608\\1256389496.py:7: DataConversionWarning: A column-vector y was passed when a 1d array was expected. Please change the shape of y to (n_samples,), for example using ravel().\n",
      "  model.fit(train_x,train_y)\n"
     ]
    },
    {
     "name": "stdout",
     "output_type": "stream",
     "text": [
      "Unable to import RandomForestClassifier\n",
      "name 'sm' is not defined\n",
      "Unable to import RidgeClassifier\n",
      "name 'sm' is not defined\n",
      "Unable to import RidgeClassifierCV\n",
      "name 'sm' is not defined\n",
      "Unable to import SGDClassifier\n",
      "name 'sm' is not defined\n",
      "Unable to import SVC\n",
      "name 'sm' is not defined\n",
      "Unable to import StackingClassifier\n",
      "__init__() missing 1 required positional argument: 'estimators'\n",
      "Unable to import VotingClassifier\n",
      "__init__() missing 1 required positional argument: 'estimators'\n"
     ]
    },
    {
     "name": "stderr",
     "output_type": "stream",
     "text": [
      "C:\\Users\\AB\\anaconda3\\lib\\site-packages\\sklearn\\linear_model\\_ridge.py:1059: DataConversionWarning: A column-vector y was passed when a 1d array was expected. Please change the shape of y to (n_samples, ), for example using ravel().\n",
      "  y = column_or_1d(y, warn=True)\n",
      "C:\\Users\\AB\\anaconda3\\lib\\site-packages\\sklearn\\linear_model\\_ridge.py:1059: DataConversionWarning: A column-vector y was passed when a 1d array was expected. Please change the shape of y to (n_samples, ), for example using ravel().\n",
      "  y = column_or_1d(y, warn=True)\n",
      "C:\\Users\\AB\\anaconda3\\lib\\site-packages\\sklearn\\utils\\validation.py:993: DataConversionWarning: A column-vector y was passed when a 1d array was expected. Please change the shape of y to (n_samples, ), for example using ravel().\n",
      "  y = column_or_1d(y, warn=True)\n",
      "C:\\Users\\AB\\anaconda3\\lib\\site-packages\\sklearn\\utils\\validation.py:993: DataConversionWarning: A column-vector y was passed when a 1d array was expected. Please change the shape of y to (n_samples, ), for example using ravel().\n",
      "  y = column_or_1d(y, warn=True)\n"
     ]
    }
   ],
   "source": [
    "estimators = all_estimators(type_filter='classifier')\n",
    "model_name=[]\n",
    "model_precision=[]\n",
    "for name, get_model in estimators:\n",
    "    try:\n",
    "        model = get_model()\n",
    "        model.fit(train_x,train_y)\n",
    "        pred_y=model.predict(test_x)\n",
    "        model_precision.append(sm.precision_score(test_y, pred_y))\n",
    "        model_name.append(name)\n",
    "    except Exception as e:\n",
    "        print('Unable to import', name)\n",
    "        print(e)"
   ]
  },
  {
   "cell_type": "code",
   "execution_count": 32,
   "id": "774eb348",
   "metadata": {},
   "outputs": [],
   "source": [
    "# Encode categorical columns\n",
    "encoder = LabelEncoder()\n",
    "categorical_cols = [\"Color\", \"Eye_color\", \"Moustache\", \"Tail\", \"label\"]\n",
    "for col in categorical_cols:\n",
    "    data[col] = encoder.fit_transform(data[col])"
   ]
  },
  {
   "cell_type": "code",
   "execution_count": 33,
   "id": "00dda242",
   "metadata": {},
   "outputs": [],
   "source": [
    "# Split the data into features (X) and target (Y)\n",
    "\n",
    "X = data.iloc[:, 0:7]\n",
    "Y = data.iloc[:, 7]\n",
    "\n",
    "# reshape the label column as 2D matrix after encoding\n",
    "encoder1=LabelEncoder()\n",
    "Y_1 = encoder1.fit_transform(Y).reshape(-1, 1)"
   ]
  },
  {
   "cell_type": "code",
   "execution_count": 34,
   "id": "8c691118",
   "metadata": {},
   "outputs": [],
   "source": [
    "train_x, test_x, train_y, test_y = train_test_split(X, Y, test_size=0.7, random_state=42)\n"
   ]
  },
  {
   "cell_type": "code",
   "execution_count": 35,
   "id": "93823c4e",
   "metadata": {},
   "outputs": [],
   "source": [
    "# Scale the features using StandardScaler\n",
    "scaler = StandardScaler()\n",
    "train_x = scaler.fit_transform(train_x)\n",
    "test_x = scaler.transform(test_x)"
   ]
  },
  {
   "cell_type": "code",
   "execution_count": 36,
   "id": "a8e5cd9b",
   "metadata": {},
   "outputs": [
    {
     "name": "stdout",
     "output_type": "stream",
     "text": [
      "[[70  0]\n",
      " [ 0 70]]\n",
      "Percentage of Correct Predictions:  100.0\n"
     ]
    }
   ],
   "source": [
    "# Train a logistic regression model\n",
    "logistic_model = LogisticRegression()\n",
    "logistic_model.fit(train_x, train_y)\n",
    "pred_y = logistic_model.predict(test_x)\n",
    "conf_mx = confusion_matrix(test_y, pred_y)\n",
    "print(conf_mx)\n",
    "print(\"Percentage of Correct Predictions: \", logistic_model.score(test_x, test_y) * 100)\n"
   ]
  },
  {
   "cell_type": "code",
   "execution_count": 37,
   "id": "3c4060d2",
   "metadata": {},
   "outputs": [
    {
     "name": "stdout",
     "output_type": "stream",
     "text": [
      "              precision    recall  f1-score   support\n",
      "\n",
      "           0       1.00      1.00      1.00        70\n",
      "           1       1.00      1.00      1.00        70\n",
      "\n",
      "    accuracy                           1.00       140\n",
      "   macro avg       1.00      1.00      1.00       140\n",
      "weighted avg       1.00      1.00      1.00       140\n",
      "\n"
     ]
    }
   ],
   "source": [
    "# Train an SVM model with linear kernel\n",
    "svm_model = SVC(kernel='linear')\n",
    "svm_model.fit(train_x, train_y)\n",
    "pred_y = svm_model.predict(test_x)\n",
    "print(classification_report(test_y, pred_y))"
   ]
  },
  {
   "cell_type": "code",
   "execution_count": 38,
   "id": "7d56e8ef",
   "metadata": {},
   "outputs": [
    {
     "name": "stdout",
     "output_type": "stream",
     "text": [
      "              precision    recall  f1-score   support\n",
      "\n",
      "           0       1.00      1.00      1.00        70\n",
      "           1       1.00      1.00      1.00        70\n",
      "\n",
      "    accuracy                           1.00       140\n",
      "   macro avg       1.00      1.00      1.00       140\n",
      "weighted avg       1.00      1.00      1.00       140\n",
      "\n"
     ]
    }
   ],
   "source": [
    "# Train an SVM model with RBF kernel\n",
    "rbf_model = SVC(kernel='rbf')\n",
    "rbf_model.fit(train_x, train_y)\n",
    "pred_y = rbf_model.predict(test_x)\n",
    "print(classification_report(test_y, pred_y))"
   ]
  },
  {
   "cell_type": "code",
   "execution_count": 39,
   "id": "91cdb1a8",
   "metadata": {},
   "outputs": [
    {
     "name": "stdout",
     "output_type": "stream",
     "text": [
      "              precision    recall  f1-score   support\n",
      "\n",
      "           0       1.00      1.00      1.00        70\n",
      "           1       1.00      1.00      1.00        70\n",
      "\n",
      "    accuracy                           1.00       140\n",
      "   macro avg       1.00      1.00      1.00       140\n",
      "weighted avg       1.00      1.00      1.00       140\n",
      "\n"
     ]
    }
   ],
   "source": [
    "# Train a decision tree model\n",
    "tree_model = DecisionTreeClassifier()\n",
    "tree_model.fit(train_x, train_y)\n",
    "pred_y = tree_model.predict(test_x)\n",
    "print(classification_report(test_y, pred_y))"
   ]
  },
  {
   "cell_type": "code",
   "execution_count": 40,
   "id": "fb553b72",
   "metadata": {},
   "outputs": [],
   "source": [
    "def take_input():\n",
    "    rung = input(\"Color: \")\n",
    "    ankh = input(\"Eye Color: \")\n",
    "    qad = float(input(\"Height: \"))\n",
    "    tang = float(input(\"Legs: \"))\n",
    "    mooch = input(\"Moustache (1) Yes / (0) No: \")\n",
    "    dum = input(\"Tail (1) Yes / (0) No: \")\n",
    "    wazn = float(input(\"Weight: \"))\n",
    "    return rung, ankh, qad, tang, mooch, dum, wazn"
   ]
  },
  {
   "cell_type": "code",
   "execution_count": 41,
   "id": "041df498",
   "metadata": {},
   "outputs": [],
   "source": [
    "def process(rung, ankh, qad, tang, mooch, dum, wazn):\n",
    "    # Handle previously unseen labels\n",
    "    if rung not in encoder.classes_:\n",
    "        encoder.classes_ = np.append(encoder.classes_, rung)\n",
    "    if ankh not in encoder.classes_:\n",
    "        encoder.classes_ = np.append(encoder.classes_, ankh)\n",
    "    \n",
    "    enc_rung = encoder.transform([rung])[0]\n",
    "    enc_ankh = encoder.transform([ankh])[0]\n",
    "    arr = np.array([enc_rung, enc_ankh, qad, tang, mooch, dum, wazn]).reshape(1, -1)\n",
    "    arr = scaler.transform(arr)  # Scale the input using the same scaler\n",
    "    return arr"
   ]
  },
  {
   "cell_type": "code",
   "execution_count": 42,
   "id": "fb82d55f",
   "metadata": {},
   "outputs": [],
   "source": [
    "def prediction(arr):\n",
    "    pred_y = svm_model.predict(arr)  # Use the appropriate trained model here\n",
    "    return pred_y\n"
   ]
  },
  {
   "cell_type": "code",
   "execution_count": 43,
   "id": "22df52d2",
   "metadata": {},
   "outputs": [],
   "source": [
    "def decode_label(label):\n",
    "    decoded_label = encoder1.inverse_transform(label)\n",
    "    return decoded_label"
   ]
  },
  {
   "cell_type": "code",
   "execution_count": null,
   "id": "ed4a0fe1",
   "metadata": {
    "scrolled": true
   },
   "outputs": [],
   "source": [
    "rung, ankh, qad, tang, mooch, dum, wazn = take_input()\n",
    "input_arr = process(rung, ankh, qad, tang, mooch, dum, wazn)\n",
    "result = prediction(input_arr)\n",
    "decoded_result = decode_label(result)\n",
    "print(decoded_result)"
   ]
  },
  {
   "cell_type": "code",
   "execution_count": null,
   "id": "f426f667",
   "metadata": {},
   "outputs": [],
   "source": []
  }
 ],
 "metadata": {
  "kernelspec": {
   "display_name": "Python 3 (ipykernel)",
   "language": "python",
   "name": "python3"
  },
  "language_info": {
   "codemirror_mode": {
    "name": "ipython",
    "version": 3
   },
   "file_extension": ".py",
   "mimetype": "text/x-python",
   "name": "python",
   "nbconvert_exporter": "python",
   "pygments_lexer": "ipython3",
   "version": "3.9.13"
  }
 },
 "nbformat": 4,
 "nbformat_minor": 5
}
