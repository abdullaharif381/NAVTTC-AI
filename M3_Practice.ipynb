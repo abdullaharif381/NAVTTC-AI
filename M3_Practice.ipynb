{
 "cells": [
  {
   "cell_type": "code",
   "execution_count": 34,
   "id": "c3bcf3d7",
   "metadata": {},
   "outputs": [],
   "source": [
    "import pandas as pd\n",
    "import numpy as np\n",
    "import sklearn.preprocessing as sp\n",
    "from sklearn.utils import all_estimators\n",
    "from sklearn.model_selection import train_test_split\n",
    "from sklearn.preprocessing import PolynomialFeatures\n",
    "from sklearn.metrics import accuracy_score, precision_score, recall_score, f1_score, confusion_matrix\n",
    "from sklearn.preprocessing import StandardScaler, LabelEncoder"
   ]
  },
  {
   "cell_type": "code",
   "execution_count": 3,
   "id": "b5cf287c",
   "metadata": {
    "scrolled": true
   },
   "outputs": [
    {
     "data": {
      "text/html": [
       "<div>\n",
       "<style scoped>\n",
       "    .dataframe tbody tr th:only-of-type {\n",
       "        vertical-align: middle;\n",
       "    }\n",
       "\n",
       "    .dataframe tbody tr th {\n",
       "        vertical-align: top;\n",
       "    }\n",
       "\n",
       "    .dataframe thead th {\n",
       "        text-align: right;\n",
       "    }\n",
       "</style>\n",
       "<table border=\"1\" class=\"dataframe\">\n",
       "  <thead>\n",
       "    <tr style=\"text-align: right;\">\n",
       "      <th></th>\n",
       "      <th>Year</th>\n",
       "      <th>Value</th>\n",
       "    </tr>\n",
       "  </thead>\n",
       "  <tbody>\n",
       "    <tr>\n",
       "      <th>0</th>\n",
       "      <td>1960</td>\n",
       "      <td>5.918412e+10</td>\n",
       "    </tr>\n",
       "    <tr>\n",
       "      <th>1</th>\n",
       "      <td>1961</td>\n",
       "      <td>4.955705e+10</td>\n",
       "    </tr>\n",
       "    <tr>\n",
       "      <th>2</th>\n",
       "      <td>1962</td>\n",
       "      <td>4.668518e+10</td>\n",
       "    </tr>\n",
       "  </tbody>\n",
       "</table>\n",
       "</div>"
      ],
      "text/plain": [
       "   Year         Value\n",
       "0  1960  5.918412e+10\n",
       "1  1961  4.955705e+10\n",
       "2  1962  4.668518e+10"
      ]
     },
     "execution_count": 3,
     "metadata": {},
     "output_type": "execute_result"
    }
   ],
   "source": [
    "data=pd.read_csv(\"china_gdp.csv\")\n",
    "data.head(3)"
   ]
  },
  {
   "cell_type": "code",
   "execution_count": 44,
   "id": "967db2de",
   "metadata": {},
   "outputs": [],
   "source": [
    "\n",
    "Y=np.array(data[\"Year\"]).reshape(-1,1)\n"
   ]
  },
  {
   "cell_type": "code",
   "execution_count": 47,
   "id": "2466d4c3",
   "metadata": {},
   "outputs": [],
   "source": [
    "label_encoder = LabelEncoder()\n",
    "X = label_encoder.fit_transform(X).reshape(-1,1)\n"
   ]
  },
  {
   "cell_type": "code",
   "execution_count": 49,
   "id": "b9b39288",
   "metadata": {},
   "outputs": [],
   "source": [
    "X_train, X_test, y_train, y_test = train_test_split(X, Y, test_size=0.3)"
   ]
  },
  {
   "cell_type": "code",
   "execution_count": 60,
   "id": "3ed6186a",
   "metadata": {},
   "outputs": [],
   "source": [
    "classifiers = all_estimators(type_filter='classifier')\n"
   ]
  },
  {
   "cell_type": "code",
   "execution_count": null,
   "id": "3127a7ec",
   "metadata": {},
   "outputs": [],
   "source": [
    "evaluation_metrics = {\n",
    "    'Accuracy': accuracy_score,\n",
    "    'Precision': precision_score,\n",
    "    'Recall': recall_score,\n",
    "    'F1-score': f1_score\n",
    "}"
   ]
  },
  {
   "cell_type": "code",
   "execution_count": 71,
   "id": "29079bfd",
   "metadata": {},
   "outputs": [
    {
     "name": "stderr",
     "output_type": "stream",
     "text": [
      "C:\\Users\\AB\\anaconda3\\lib\\site-packages\\sklearn\\utils\\validation.py:993: DataConversionWarning: A column-vector y was passed when a 1d array was expected. Please change the shape of y to (n_samples, ), for example using ravel().\n",
      "  y = column_or_1d(y, warn=True)\n"
     ]
    },
    {
     "data": {
      "text/plain": [
       "SVC(kernel='linear')"
      ]
     },
     "execution_count": 71,
     "metadata": {},
     "output_type": "execute_result"
    }
   ],
   "source": [
    "import sklearn.svm as sv\n",
    "model=sv.SVC(kernel='linear')\n",
    "model.fit(X_train,y_train)"
   ]
  },
  {
   "cell_type": "code",
   "execution_count": 73,
   "id": "9136e94f",
   "metadata": {},
   "outputs": [
    {
     "ename": "ValueError",
     "evalue": "n_splits=5 cannot be greater than the number of members in each class.",
     "output_type": "error",
     "traceback": [
      "\u001b[1;31m---------------------------------------------------------------------------\u001b[0m",
      "\u001b[1;31mValueError\u001b[0m                                Traceback (most recent call last)",
      "Cell \u001b[1;32mIn[73], line 3\u001b[0m\n\u001b[0;32m      1\u001b[0m \u001b[38;5;28;01mimport\u001b[39;00m \u001b[38;5;21;01msklearn\u001b[39;00m\u001b[38;5;21;01m.\u001b[39;00m\u001b[38;5;21;01mmodel_selection\u001b[39;00m \u001b[38;5;28;01mas\u001b[39;00m \u001b[38;5;21;01mms\u001b[39;00m\n\u001b[0;32m      2\u001b[0m \u001b[38;5;28;01mimport\u001b[39;00m \u001b[38;5;21;01msklearn\u001b[39;00m\u001b[38;5;21;01m.\u001b[39;00m\u001b[38;5;21;01mmetrics\u001b[39;00m \u001b[38;5;28;01mas\u001b[39;00m \u001b[38;5;21;01mm\u001b[39;00m\n\u001b[1;32m----> 3\u001b[0m pred_y \u001b[38;5;241m=\u001b[39m \u001b[43mms\u001b[49m\u001b[38;5;241;43m.\u001b[39;49m\u001b[43mcross_val_predict\u001b[49m\u001b[43m(\u001b[49m\u001b[43mmodel\u001b[49m\u001b[43m,\u001b[49m\u001b[43mX_train\u001b[49m\u001b[43m,\u001b[49m\u001b[43my_train\u001b[49m\u001b[43m)\u001b[49m\n\u001b[0;32m      4\u001b[0m conf_mx \u001b[38;5;241m=\u001b[39m m\u001b[38;5;241m.\u001b[39mconfusion_matrix(X_train,y_train)\n\u001b[0;32m      5\u001b[0m conf_mx\n",
      "File \u001b[1;32m~\\anaconda3\\lib\\site-packages\\sklearn\\model_selection\\_validation.py:936\u001b[0m, in \u001b[0;36mcross_val_predict\u001b[1;34m(estimator, X, y, groups, cv, n_jobs, verbose, fit_params, pre_dispatch, method)\u001b[0m\n\u001b[0;32m    933\u001b[0m X, y, groups \u001b[38;5;241m=\u001b[39m indexable(X, y, groups)\n\u001b[0;32m    935\u001b[0m cv \u001b[38;5;241m=\u001b[39m check_cv(cv, y, classifier\u001b[38;5;241m=\u001b[39mis_classifier(estimator))\n\u001b[1;32m--> 936\u001b[0m splits \u001b[38;5;241m=\u001b[39m \u001b[38;5;28;43mlist\u001b[39;49m\u001b[43m(\u001b[49m\u001b[43mcv\u001b[49m\u001b[38;5;241;43m.\u001b[39;49m\u001b[43msplit\u001b[49m\u001b[43m(\u001b[49m\u001b[43mX\u001b[49m\u001b[43m,\u001b[49m\u001b[43m \u001b[49m\u001b[43my\u001b[49m\u001b[43m,\u001b[49m\u001b[43m \u001b[49m\u001b[43mgroups\u001b[49m\u001b[43m)\u001b[49m\u001b[43m)\u001b[49m\n\u001b[0;32m    938\u001b[0m test_indices \u001b[38;5;241m=\u001b[39m np\u001b[38;5;241m.\u001b[39mconcatenate([test \u001b[38;5;28;01mfor\u001b[39;00m _, test \u001b[38;5;129;01min\u001b[39;00m splits])\n\u001b[0;32m    939\u001b[0m \u001b[38;5;28;01mif\u001b[39;00m \u001b[38;5;129;01mnot\u001b[39;00m _check_is_permutation(test_indices, _num_samples(X)):\n",
      "File \u001b[1;32m~\\anaconda3\\lib\\site-packages\\sklearn\\model_selection\\_split.py:340\u001b[0m, in \u001b[0;36m_BaseKFold.split\u001b[1;34m(self, X, y, groups)\u001b[0m\n\u001b[0;32m    332\u001b[0m \u001b[38;5;28;01mif\u001b[39;00m \u001b[38;5;28mself\u001b[39m\u001b[38;5;241m.\u001b[39mn_splits \u001b[38;5;241m>\u001b[39m n_samples:\n\u001b[0;32m    333\u001b[0m     \u001b[38;5;28;01mraise\u001b[39;00m \u001b[38;5;167;01mValueError\u001b[39;00m(\n\u001b[0;32m    334\u001b[0m         (\n\u001b[0;32m    335\u001b[0m             \u001b[38;5;124m\"\u001b[39m\u001b[38;5;124mCannot have number of splits n_splits=\u001b[39m\u001b[38;5;132;01m{0}\u001b[39;00m\u001b[38;5;124m greater\u001b[39m\u001b[38;5;124m\"\u001b[39m\n\u001b[0;32m    336\u001b[0m             \u001b[38;5;124m\"\u001b[39m\u001b[38;5;124m than the number of samples: n_samples=\u001b[39m\u001b[38;5;132;01m{1}\u001b[39;00m\u001b[38;5;124m.\u001b[39m\u001b[38;5;124m\"\u001b[39m\n\u001b[0;32m    337\u001b[0m         )\u001b[38;5;241m.\u001b[39mformat(\u001b[38;5;28mself\u001b[39m\u001b[38;5;241m.\u001b[39mn_splits, n_samples)\n\u001b[0;32m    338\u001b[0m     )\n\u001b[1;32m--> 340\u001b[0m \u001b[38;5;28;01mfor\u001b[39;00m train, test \u001b[38;5;129;01min\u001b[39;00m \u001b[38;5;28msuper\u001b[39m()\u001b[38;5;241m.\u001b[39msplit(X, y, groups):\n\u001b[0;32m    341\u001b[0m     \u001b[38;5;28;01myield\u001b[39;00m train, test\n",
      "File \u001b[1;32m~\\anaconda3\\lib\\site-packages\\sklearn\\model_selection\\_split.py:86\u001b[0m, in \u001b[0;36mBaseCrossValidator.split\u001b[1;34m(self, X, y, groups)\u001b[0m\n\u001b[0;32m     84\u001b[0m X, y, groups \u001b[38;5;241m=\u001b[39m indexable(X, y, groups)\n\u001b[0;32m     85\u001b[0m indices \u001b[38;5;241m=\u001b[39m np\u001b[38;5;241m.\u001b[39marange(_num_samples(X))\n\u001b[1;32m---> 86\u001b[0m \u001b[38;5;28;01mfor\u001b[39;00m test_index \u001b[38;5;129;01min\u001b[39;00m \u001b[38;5;28mself\u001b[39m\u001b[38;5;241m.\u001b[39m_iter_test_masks(X, y, groups):\n\u001b[0;32m     87\u001b[0m     train_index \u001b[38;5;241m=\u001b[39m indices[np\u001b[38;5;241m.\u001b[39mlogical_not(test_index)]\n\u001b[0;32m     88\u001b[0m     test_index \u001b[38;5;241m=\u001b[39m indices[test_index]\n",
      "File \u001b[1;32m~\\anaconda3\\lib\\site-packages\\sklearn\\model_selection\\_split.py:709\u001b[0m, in \u001b[0;36mStratifiedKFold._iter_test_masks\u001b[1;34m(self, X, y, groups)\u001b[0m\n\u001b[0;32m    708\u001b[0m \u001b[38;5;28;01mdef\u001b[39;00m \u001b[38;5;21m_iter_test_masks\u001b[39m(\u001b[38;5;28mself\u001b[39m, X, y\u001b[38;5;241m=\u001b[39m\u001b[38;5;28;01mNone\u001b[39;00m, groups\u001b[38;5;241m=\u001b[39m\u001b[38;5;28;01mNone\u001b[39;00m):\n\u001b[1;32m--> 709\u001b[0m     test_folds \u001b[38;5;241m=\u001b[39m \u001b[38;5;28;43mself\u001b[39;49m\u001b[38;5;241;43m.\u001b[39;49m\u001b[43m_make_test_folds\u001b[49m\u001b[43m(\u001b[49m\u001b[43mX\u001b[49m\u001b[43m,\u001b[49m\u001b[43m \u001b[49m\u001b[43my\u001b[49m\u001b[43m)\u001b[49m\n\u001b[0;32m    710\u001b[0m     \u001b[38;5;28;01mfor\u001b[39;00m i \u001b[38;5;129;01min\u001b[39;00m \u001b[38;5;28mrange\u001b[39m(\u001b[38;5;28mself\u001b[39m\u001b[38;5;241m.\u001b[39mn_splits):\n\u001b[0;32m    711\u001b[0m         \u001b[38;5;28;01myield\u001b[39;00m test_folds \u001b[38;5;241m==\u001b[39m i\n",
      "File \u001b[1;32m~\\anaconda3\\lib\\site-packages\\sklearn\\model_selection\\_split.py:671\u001b[0m, in \u001b[0;36mStratifiedKFold._make_test_folds\u001b[1;34m(self, X, y)\u001b[0m\n\u001b[0;32m    669\u001b[0m min_groups \u001b[38;5;241m=\u001b[39m np\u001b[38;5;241m.\u001b[39mmin(y_counts)\n\u001b[0;32m    670\u001b[0m \u001b[38;5;28;01mif\u001b[39;00m np\u001b[38;5;241m.\u001b[39mall(\u001b[38;5;28mself\u001b[39m\u001b[38;5;241m.\u001b[39mn_splits \u001b[38;5;241m>\u001b[39m y_counts):\n\u001b[1;32m--> 671\u001b[0m     \u001b[38;5;28;01mraise\u001b[39;00m \u001b[38;5;167;01mValueError\u001b[39;00m(\n\u001b[0;32m    672\u001b[0m         \u001b[38;5;124m\"\u001b[39m\u001b[38;5;124mn_splits=\u001b[39m\u001b[38;5;132;01m%d\u001b[39;00m\u001b[38;5;124m cannot be greater than the\u001b[39m\u001b[38;5;124m\"\u001b[39m\n\u001b[0;32m    673\u001b[0m         \u001b[38;5;124m\"\u001b[39m\u001b[38;5;124m number of members in each class.\u001b[39m\u001b[38;5;124m\"\u001b[39m \u001b[38;5;241m%\u001b[39m (\u001b[38;5;28mself\u001b[39m\u001b[38;5;241m.\u001b[39mn_splits)\n\u001b[0;32m    674\u001b[0m     )\n\u001b[0;32m    675\u001b[0m \u001b[38;5;28;01mif\u001b[39;00m \u001b[38;5;28mself\u001b[39m\u001b[38;5;241m.\u001b[39mn_splits \u001b[38;5;241m>\u001b[39m min_groups:\n\u001b[0;32m    676\u001b[0m     warnings\u001b[38;5;241m.\u001b[39mwarn(\n\u001b[0;32m    677\u001b[0m         \u001b[38;5;124m\"\u001b[39m\u001b[38;5;124mThe least populated class in y has only \u001b[39m\u001b[38;5;132;01m%d\u001b[39;00m\u001b[38;5;124m\"\u001b[39m\n\u001b[0;32m    678\u001b[0m         \u001b[38;5;124m\"\u001b[39m\u001b[38;5;124m members, which is less than n_splits=\u001b[39m\u001b[38;5;132;01m%d\u001b[39;00m\u001b[38;5;124m.\u001b[39m\u001b[38;5;124m\"\u001b[39m\n\u001b[0;32m    679\u001b[0m         \u001b[38;5;241m%\u001b[39m (min_groups, \u001b[38;5;28mself\u001b[39m\u001b[38;5;241m.\u001b[39mn_splits),\n\u001b[0;32m    680\u001b[0m         \u001b[38;5;167;01mUserWarning\u001b[39;00m,\n\u001b[0;32m    681\u001b[0m     )\n",
      "\u001b[1;31mValueError\u001b[0m: n_splits=5 cannot be greater than the number of members in each class."
     ]
    }
   ],
   "source": [
    "import sklearn.model_selection as ms\n",
    "import sklearn.metrics as m\n",
    "pred_y = ms.cross_val_predict(model,X_train,y_train)\n",
    "conf_mx = m.confusion_matrix(X_train,y_train)\n",
    "conf_mx"
   ]
  },
  {
   "cell_type": "code",
   "execution_count": 68,
   "id": "0d0cf16a",
   "metadata": {},
   "outputs": [
    {
     "name": "stdout",
     "output_type": "stream",
     "text": [
      "Unable to Import AdaBoostClassifier\n",
      "type object 'AdaBoostClassifier' has no attribute 'algorithm'\n",
      "Unable to Import BaggingClassifier\n",
      "'numpy.ndarray' object has no attribute '_check_feature_names'\n",
      "Unable to Import BernoulliNB\n",
      "_check_X_y() missing 1 required positional argument: 'y'\n",
      "Unable to Import CalibratedClassifierCV\n",
      "type object 'CalibratedClassifierCV' has no attribute 'base_estimator'\n",
      "Unable to Import CategoricalNB\n",
      "fit() missing 1 required positional argument: 'y'\n",
      "Unable to Import ClassifierChain\n",
      "fit() missing 1 required positional argument: 'Y'\n",
      "Unable to Import ComplementNB\n",
      "_check_X_y() missing 1 required positional argument: 'y'\n",
      "Unable to Import DecisionTreeClassifier\n",
      "fit() missing 1 required positional argument: 'y'\n",
      "Unable to Import DummyClassifier\n",
      "type object 'DummyClassifier' has no attribute 'strategy'\n",
      "Unable to Import ExtraTreeClassifier\n",
      "fit() missing 1 required positional argument: 'y'\n",
      "Unable to Import ExtraTreesClassifier\n",
      "'numpy.ndarray' object has no attribute '_check_feature_names'\n",
      "Unable to Import GaussianNB\n",
      "_validate_data() missing 1 required positional argument: 'self'\n",
      "Unable to Import GaussianProcessClassifier\n",
      "type object 'GaussianProcessClassifier' has no attribute 'kernel'\n",
      "Unable to Import GradientBoostingClassifier\n",
      "type object 'GradientBoostingClassifier' has no attribute 'criterion'\n",
      "Unable to Import HistGradientBoostingClassifier\n",
      "'numpy.ndarray' object has no attribute '_check_feature_names'\n",
      "Unable to Import KNeighborsClassifier\n",
      "type object 'KNeighborsClassifier' has no attribute 'weights'\n",
      "Unable to Import LabelPropagation\n",
      "fit() missing 1 required positional argument: 'y'\n",
      "Unable to Import LabelSpreading\n",
      "'numpy.ndarray' object has no attribute '_check_feature_names'\n",
      "Unable to Import LinearDiscriminantAnalysis\n",
      "'numpy.ndarray' object has no attribute '_check_feature_names'\n",
      "Unable to Import LinearSVC\n",
      "type object 'LinearSVC' has no attribute 'C'\n",
      "Unable to Import LogisticRegression\n",
      "type object 'LogisticRegression' has no attribute 'solver'\n",
      "Unable to Import LogisticRegressionCV\n",
      "type object 'LogisticRegressionCV' has no attribute 'solver'\n",
      "Unable to Import MLPClassifier\n",
      "_fit() missing 1 required positional argument: 'y'\n",
      "Unable to Import MultiOutputClassifier\n",
      "'numpy.ndarray' object has no attribute 'estimator'\n",
      "Unable to Import MultinomialNB\n",
      "_check_X_y() missing 1 required positional argument: 'y'\n",
      "Unable to Import NearestCentroid\n",
      "type object 'NearestCentroid' has no attribute 'metric'\n",
      "Unable to Import NuSVC\n",
      "type object 'NuSVC' has no attribute 'random_state'\n",
      "Unable to Import OneVsOneClassifier\n",
      "'numpy.ndarray' object has no attribute '_check_feature_names'\n",
      "Unable to Import OneVsRestClassifier\n",
      "type object 'OneVsRestClassifier' has no attribute 'n_jobs'\n",
      "Unable to Import OutputCodeClassifier\n",
      "_validate_data() missing 1 required positional argument: 'self'\n",
      "Unable to Import PassiveAggressiveClassifier\n",
      "_validate_params() missing 1 required positional argument: 'self'\n",
      "Unable to Import Perceptron\n",
      "type object 'Perceptron' has no attribute 'alpha'\n",
      "Unable to Import QuadraticDiscriminantAnalysis\n",
      "'numpy.ndarray' object has no attribute '_check_feature_names'\n",
      "Unable to Import RadiusNeighborsClassifier\n",
      "type object 'RadiusNeighborsClassifier' has no attribute 'weights'\n",
      "Unable to Import RandomForestClassifier\n",
      "'numpy.ndarray' object has no attribute '_check_feature_names'\n",
      "Unable to Import RidgeClassifier\n",
      "type object 'RidgeClassifier' has no attribute 'solver'\n",
      "Unable to Import RidgeClassifierCV\n",
      "_prepare_data() missing 1 required positional argument: 'sample_weight'\n",
      "Unable to Import SGDClassifier\n",
      "type object 'SGDClassifier' has no attribute 'alpha'\n",
      "Unable to Import SVC\n",
      "type object 'SVC' has no attribute 'random_state'\n",
      "Unable to Import StackingClassifier\n",
      "'numpy.ndarray' object has no attribute '_validate_estimators'\n",
      "Unable to Import VotingClassifier\n",
      "type object 'VotingClassifier' has no attribute 'voting'\n"
     ]
    },
    {
     "name": "stderr",
     "output_type": "stream",
     "text": [
      "C:\\Users\\AB\\anaconda3\\lib\\site-packages\\sklearn\\preprocessing\\_label.py:98: DataConversionWarning: A column-vector y was passed when a 1d array was expected. Please change the shape of y to (n_samples, ), for example using ravel().\n",
      "  y = column_or_1d(y, warn=True)\n",
      "C:\\Users\\AB\\anaconda3\\lib\\site-packages\\sklearn\\preprocessing\\_label.py:133: DataConversionWarning: A column-vector y was passed when a 1d array was expected. Please change the shape of y to (n_samples, ), for example using ravel().\n",
      "  y = column_or_1d(y, warn=True)\n"
     ]
    }
   ],
   "source": [
    "results = []\n",
    "for name, model in classifiers:\n",
    "    try:\n",
    "        models = model.fit(model,X_train,y_train )\n",
    "        y_pred = model.predict(X_test)\n",
    "        metrics_scores = {metric_name: metric_func(y_test, y_pred) for metric_name,\n",
    "                          metric_func in evaluation_metrics.items()}\n",
    "        results.append({'Classifier': name, **metrics_scores})\n",
    "    except Exception as e:\n",
    "        print(\"Unable to Import\",name)\n",
    "        print(e)"
   ]
  },
  {
   "cell_type": "code",
   "execution_count": 55,
   "id": "49ed8a22",
   "metadata": {
    "scrolled": true
   },
   "outputs": [
    {
     "data": {
      "text/plain": [
       "array([[1981],\n",
       "       [1973],\n",
       "       [1994],\n",
       "       [1979],\n",
       "       [1980],\n",
       "       [1960],\n",
       "       [2008],\n",
       "       [1968],\n",
       "       [1964],\n",
       "       [2004],\n",
       "       [1999],\n",
       "       [1987],\n",
       "       [2000],\n",
       "       [1977],\n",
       "       [1975],\n",
       "       [1982],\n",
       "       [2002],\n",
       "       [2010],\n",
       "       [2011],\n",
       "       [1996],\n",
       "       [1961],\n",
       "       [1978],\n",
       "       [2014],\n",
       "       [2012],\n",
       "       [2009],\n",
       "       [2001],\n",
       "       [2003],\n",
       "       [1966],\n",
       "       [1976],\n",
       "       [2006],\n",
       "       [1988],\n",
       "       [2005],\n",
       "       [1972],\n",
       "       [1993],\n",
       "       [1997],\n",
       "       [1998],\n",
       "       [1963],\n",
       "       [2013]], dtype=int64)"
      ]
     },
     "execution_count": 55,
     "metadata": {},
     "output_type": "execute_result"
    }
   ],
   "source": [
    "y_train"
   ]
  },
  {
   "cell_type": "code",
   "execution_count": 56,
   "id": "a29843ea",
   "metadata": {},
   "outputs": [
    {
     "data": {
      "text/plain": [
       "array([[21],\n",
       "       [13],\n",
       "       [34],\n",
       "       [19],\n",
       "       [20],\n",
       "       [ 4],\n",
       "       [48],\n",
       "       [ 6],\n",
       "       [ 3],\n",
       "       [44],\n",
       "       [39],\n",
       "       [25],\n",
       "       [40],\n",
       "       [18],\n",
       "       [17],\n",
       "       [22],\n",
       "       [42],\n",
       "       [50],\n",
       "       [51],\n",
       "       [36],\n",
       "       [ 1],\n",
       "       [15],\n",
       "       [54],\n",
       "       [52],\n",
       "       [49],\n",
       "       [41],\n",
       "       [43],\n",
       "       [ 8],\n",
       "       [16],\n",
       "       [46],\n",
       "       [28],\n",
       "       [45],\n",
       "       [12],\n",
       "       [33],\n",
       "       [37],\n",
       "       [38],\n",
       "       [ 2],\n",
       "       [53]], dtype=int64)"
      ]
     },
     "execution_count": 56,
     "metadata": {},
     "output_type": "execute_result"
    }
   ],
   "source": [
    "X_train"
   ]
  },
  {
   "cell_type": "code",
   "execution_count": 54,
   "id": "457fdb78",
   "metadata": {},
   "outputs": [
    {
     "name": "stdout",
     "output_type": "stream",
     "text": [
      "[]\n"
     ]
    }
   ],
   "source": [
    "print(results)"
   ]
  },
  {
   "cell_type": "code",
   "execution_count": null,
   "id": "e043ef5f",
   "metadata": {},
   "outputs": [],
   "source": []
  }
 ],
 "metadata": {
  "kernelspec": {
   "display_name": "Python 3 (ipykernel)",
   "language": "python",
   "name": "python3"
  },
  "language_info": {
   "codemirror_mode": {
    "name": "ipython",
    "version": 3
   },
   "file_extension": ".py",
   "mimetype": "text/x-python",
   "name": "python",
   "nbconvert_exporter": "python",
   "pygments_lexer": "ipython3",
   "version": "3.9.13"
  }
 },
 "nbformat": 4,
 "nbformat_minor": 5
}
